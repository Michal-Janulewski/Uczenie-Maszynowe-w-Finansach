{
  "nbformat": 4,
  "nbformat_minor": 0,
  "metadata": {
    "colab": {
      "provenance": [],
      "authorship_tag": "ABX9TyMibjn1Lxwoex+8SoBBZCf7",
      "include_colab_link": true
    },
    "kernelspec": {
      "name": "python3",
      "display_name": "Python 3"
    },
    "language_info": {
      "name": "python"
    }
  },
  "cells": [
    {
      "cell_type": "markdown",
      "metadata": {
        "id": "view-in-github",
        "colab_type": "text"
      },
      "source": [
        "<a href=\"https://colab.research.google.com/github/Michal-Janulewski/Uczenie-Maszynowe-w-Finansach/blob/Quiz-1/Zadanie_1_Uczenie_maszynowe_w_finansach.ipynb\" target=\"_parent\"><img src=\"https://colab.research.google.com/assets/colab-badge.svg\" alt=\"Open In Colab\"/></a>"
      ]
    },
    {
      "cell_type": "code",
      "execution_count": null,
      "metadata": {
        "id": "OKjWgnLKIcvo"
      },
      "outputs": [],
      "source": [
        "import matplotlib.pyplot as plt\n",
        "import numpy as np\n",
        "import pandas as pd\n",
        "import seaborn as sns\n",
        "from sklearn.model_selection import train_test_split\n",
        "from sklearn.preprocessing import StandardScaler\n",
        "from sklearn.preprocessing import PowerTransformer\n",
        "from imblearn.over_sampling import SMOTE\n",
        "from sklearn.metrics import accuracy_score, recall_score, precision_score, confusion_matrix\n",
        "from sklearn.linear_model import LogisticRegression\n",
        "from sklearn.ensemble import RandomForestClassifier\n",
        "from sklearn.metrics import classification_report\n",
        "from sklearn.neighbors import KNeighborsClassifier\n",
        "from sklearn.metrics import confusion_matrix, roc_auc_score, roc_curve, auc, classification_report"
      ]
    },
    {
      "cell_type": "code",
      "source": [
        "#Pobieramy dane z githuba\n",
        "data = pd.read_csv(\"https://raw.githubusercontent.com/Michal-Janulewski/Uczenie-Maszynowe-w-Finansach/Quiz-1/case1.csv\", sep = \";\")"
      ],
      "metadata": {
        "id": "9hyJdsSZIeRn"
      },
      "execution_count": 55,
      "outputs": []
    },
    {
      "cell_type": "code",
      "source": [
        "data = data.drop([\"Index\"], axis=1)\n",
        "data = data.drop([\"Address\"], axis=1)\n",
        "data = data.drop([\"Unnamed: 0\"], axis=1)"
      ],
      "metadata": {
        "id": "HR-xNmJGIh55"
      },
      "execution_count": 56,
      "outputs": []
    },
    {
      "cell_type": "code",
      "source": [
        "data.info()"
      ],
      "metadata": {
        "id": "Rywurvl7Ikf2"
      },
      "execution_count": null,
      "outputs": []
    },
    {
      "cell_type": "code",
      "source": [
        "data.head()"
      ],
      "metadata": {
        "id": "sVXmuKv9Im9L"
      },
      "execution_count": null,
      "outputs": []
    },
    {
      "cell_type": "code",
      "source": [
        "# numeryczne\n",
        "numericals = data.select_dtypes(include=['float','int']).columns\n",
        "data[numericals].describe()"
      ],
      "metadata": {
        "id": "boQ74J0eIpPK"
      },
      "execution_count": null,
      "outputs": []
    },
    {
      "cell_type": "code",
      "source": [
        "categories = data.select_dtypes('O').columns.astype('category')\n",
        "data[categories]"
      ],
      "metadata": {
        "id": "OCkCXE1BIyQt"
      },
      "execution_count": null,
      "outputs": []
    },
    {
      "cell_type": "code",
      "source": [
        "data.drop(data[categories], axis=1, inplace=True)"
      ],
      "metadata": {
        "id": "RAVIr9cbJOAE"
      },
      "execution_count": 61,
      "outputs": []
    },
    {
      "cell_type": "code",
      "source": [
        "data[numericals].var()"
      ],
      "metadata": {
        "id": "jA5Q8xEDJbdS"
      },
      "execution_count": null,
      "outputs": []
    },
    {
      "cell_type": "code",
      "source": [
        "print(data['FLAG'].value_counts())"
      ],
      "metadata": {
        "id": "T3waXhYwJe9q"
      },
      "execution_count": null,
      "outputs": []
    },
    {
      "cell_type": "code",
      "source": [
        "# Filtering the features with 0 variance\n",
        "var0 = data.var() == 0\n",
        "print(data.var()[var0])\n",
        "print('\\n')\n",
        "# Drop features with 0 variance --- these features will not help in the performance of the model\n",
        "data.drop(data.var()[var0].index, axis = 1, inplace = True)\n",
        "print(data.var())\n",
        "print(data.shape)"
      ],
      "metadata": {
        "id": "zoA1o7wlKFLG"
      },
      "execution_count": null,
      "outputs": []
    },
    {
      "cell_type": "code",
      "source": [
        "#Sprawdzamy czy dane mają brakujące wartości\n",
        "data.isnull().sum()"
      ],
      "metadata": {
        "id": "arngxqfFKKTT"
      },
      "execution_count": null,
      "outputs": []
    },
    {
      "cell_type": "code",
      "source": [
        "# Zastąpienie brakujących zmiennych medianą\n",
        "data.fillna(data.median(), inplace=True)\n",
        "data.isnull().sum()"
      ],
      "metadata": {
        "id": "O_YedQdLKLoB"
      },
      "execution_count": null,
      "outputs": []
    },
    {
      "cell_type": "code",
      "source": [
        "#Sprawdzamy czy istnieją zduplikowane wartości\n",
        "data[data.duplicated()]"
      ],
      "metadata": {
        "id": "GmL_Dei0KO4-"
      },
      "execution_count": null,
      "outputs": []
    },
    {
      "cell_type": "code",
      "source": [
        "#Usuwamy zduplikowane wartości\n",
        "data.drop_duplicates(keep=\"first\",inplace=True)"
      ],
      "metadata": {
        "id": "go1m_tnRKPDm"
      },
      "execution_count": 68,
      "outputs": []
    },
    {
      "cell_type": "code",
      "source": [
        "# Macierz korealcji\n",
        "corr = data.corr()\n",
        "\n",
        "mask = np.zeros_like(corr)\n",
        "mask[np.triu_indices_from(mask)]=True\n",
        "with sns.axes_style('white'):\n",
        "    fig, ax = plt.subplots(figsize=(30,30))\n",
        "    sns.heatmap(corr,  mask=mask, annot=True, cmap='CMRmap', center=0, linewidths=0.1, square=True)"
      ],
      "metadata": {
        "id": "U6V_0gbcKPKi"
      },
      "execution_count": null,
      "outputs": []
    },
    {
      "cell_type": "code",
      "source": [
        "data.info()"
      ],
      "metadata": {
        "id": "nIOwaCy-KVLb"
      },
      "execution_count": null,
      "outputs": []
    },
    {
      "cell_type": "code",
      "source": [
        "# Drop one of those highly correlated features\n",
        "data.drop(['total transactions (including tnx to create contract','total ether sent contracts', 'max val sent to contract','max val sent', 'avg value sent to contract', 'Unique Sent To Addresses','Unique Received From Addresses', 'total ether received',  'min value received', 'min val sent', 'Total ERC20 tnxs', 'ERC20 uniq rec addr', 'ERC20 uniq rec contract addr', 'ERC20 min val rec', 'ERC20 max val rec', 'ERC20 avg val rec', 'ERC20 min val sent', 'ERC20 max val sent', 'ERC20 avg val sent' ], axis=1, inplace=True)"
      ],
      "metadata": {
        "id": "ATXV8ravKVOa"
      },
      "execution_count": 71,
      "outputs": []
    },
    {
      "cell_type": "code",
      "source": [
        "data.info()"
      ],
      "metadata": {
        "id": "ZT9Y1sBNKVRc"
      },
      "execution_count": null,
      "outputs": []
    },
    {
      "cell_type": "code",
      "source": [
        "y = data.iloc[:, 0]\n",
        "X = data.iloc[:, 1:]\n",
        "print(X.shape, y.shape)"
      ],
      "metadata": {
        "id": "kSR-vnt2KVUS"
      },
      "execution_count": null,
      "outputs": []
    },
    {
      "cell_type": "code",
      "source": [
        "# Podział na zbiór treningowy (80%) i zbiór testowy (20%)\n",
        "X_train, X_test, y_train, y_test = train_test_split(X, y, test_size = 0.2, random_state = 123)\n",
        "print(X_train.shape, y_train.shape)\n",
        "print(X_test.shape, y_test.shape)"
      ],
      "metadata": {
        "id": "rfav09BWKVXK"
      },
      "execution_count": null,
      "outputs": []
    },
    {
      "cell_type": "code",
      "source": [
        "PT = PowerTransformer()\n",
        "PT_train = PT.fit_transform(X_train)\n",
        "PT_test = PT.transform(X_test)"
      ],
      "metadata": {
        "id": "YnP_9mzCPNhc"
      },
      "execution_count": 75,
      "outputs": []
    },
    {
      "cell_type": "code",
      "source": [
        "PT_df = pd.DataFrame(PT_train, columns=X_train.columns)\n",
        "PT_df"
      ],
      "metadata": {
        "id": "XmCugadvPjRF"
      },
      "execution_count": null,
      "outputs": []
    },
    {
      "cell_type": "code",
      "source": [
        "oversample = SMOTE()\n",
        "print(f'Shape of the training before SMOTE: {PT_df.shape, y_train.shape}')\n",
        "\n",
        "x_tr_resample, y_tr_resample = oversample.fit_resample(PT_df, y_train)\n",
        "print(f'Shape of the training after SMOTE: {x_tr_resample.shape, y_tr_resample.shape}')"
      ],
      "metadata": {
        "colab": {
          "base_uri": "https://localhost:8080/"
        },
        "id": "YarugP8cQarF",
        "outputId": "ecea50f7-2221-48ad-edf6-66edb0f8a07c"
      },
      "execution_count": 77,
      "outputs": [
        {
          "output_type": "stream",
          "name": "stdout",
          "text": [
            "Shape of the training before SMOTE: ((7430, 19), (7430,))\n",
            "Shape of the training after SMOTE: ((12174, 19), (12174,))\n"
          ]
        }
      ]
    },
    {
      "cell_type": "code",
      "source": [
        "LR = LogisticRegression(random_state=123)\n",
        "LR.fit(x_tr_resample, y_tr_resample)\n",
        "\n",
        "\n",
        "norm_test_f = PT.transform(X_test)\n",
        "\n",
        "preds = LR.predict(norm_test_f)"
      ],
      "metadata": {
        "id": "D7Zx-yFeQOJX"
      },
      "execution_count": null,
      "outputs": []
    },
    {
      "cell_type": "code",
      "source": [
        "print(classification_report(y_test, preds))\n",
        "print(confusion_matrix(y_test, preds))"
      ],
      "metadata": {
        "id": "pUT96YQMQ0g6"
      },
      "execution_count": null,
      "outputs": []
    },
    {
      "cell_type": "code",
      "source": [
        "accuracy = accuracy_score(y_test, preds)\n",
        "precision = precision_score(y_test, preds)\n",
        "recall = recall_score(y_test, preds)\n",
        "\n",
        "print(\"Accuracy:\", accuracy)\n",
        "print(\"Precision:\", precision)\n",
        "print(\"Recall:\", recall)\n",
        "confusion_matrix(y_test, preds)"
      ],
      "metadata": {
        "colab": {
          "base_uri": "https://localhost:8080/"
        },
        "id": "6QH9wr3xLCJX",
        "outputId": "b9c24c8f-e704-4797-bf60-25f55e45e8d7"
      },
      "execution_count": 87,
      "outputs": [
        {
          "output_type": "stream",
          "name": "stdout",
          "text": [
            "Accuracy: 0.8611410118406889\n",
            "Precision: 0.5533980582524272\n",
            "Recall: 0.9105431309904153\n"
          ]
        },
        {
          "output_type": "execute_result",
          "data": {
            "text/plain": [
              "array([[1315,  230],\n",
              "       [  28,  285]])"
            ]
          },
          "metadata": {},
          "execution_count": 87
        }
      ]
    },
    {
      "cell_type": "code",
      "source": [
        "#RandomForest Classifier\n",
        "RF = RandomForestClassifier(random_state=123)\n",
        "model2= RF.fit(x_tr_resample, y_tr_resample)\n",
        "\n",
        "# Transform test features\n",
        "sc_test = PT.transform(X_test)\n",
        "\n",
        "pred2 = model2.predict(sc_test)\n",
        "\n",
        "accuracy = accuracy_score(y_test, pred2)\n",
        "precision = precision_score(y_test, pred2)\n",
        "recall = recall_score(y_test, pred2)\n",
        "\n",
        "print(\"Accuracy:\", accuracy)\n",
        "print(\"Precision:\", precision)\n",
        "print(\"Recall:\", recall)\n",
        "confusion_matrix(y_test, pred2)"
      ],
      "metadata": {
        "id": "8DDQuLJkLCMf"
      },
      "execution_count": null,
      "outputs": []
    },
    {
      "cell_type": "code",
      "source": [
        "print(classification_report(y_test, pred2))"
      ],
      "metadata": {
        "id": "HVOWmELjLCPq"
      },
      "execution_count": null,
      "outputs": []
    },
    {
      "cell_type": "code",
      "source": [
        "#KNeighbors Classifier\n",
        "knn = KNeighborsClassifier(n_neighbors=3)\n",
        "model3= knn.fit(x_tr_resample, y_tr_resample)\n",
        "pred3 = model3.predict(X_test)\n",
        "\n",
        "accuracy = accuracy_score(y_test, pred3)\n",
        "precision = precision_score(y_test, pred3)\n",
        "recall = recall_score(y_test, pred3)\n",
        "\n",
        "print(\"Accuracy:\", accuracy)\n",
        "print(\"Precision:\", precision)\n",
        "print(\"Recall:\", recall)\n",
        "confusion_matrix(y_test, pred3)"
      ],
      "metadata": {
        "id": "w1oHI7B4LCST"
      },
      "execution_count": null,
      "outputs": []
    },
    {
      "cell_type": "code",
      "source": [
        "print(classification_report(y_test, pred3))"
      ],
      "metadata": {
        "id": "wcwB-reTLCVL"
      },
      "execution_count": null,
      "outputs": []
    },
    {
      "cell_type": "code",
      "source": [
        "#Ostatecznie wybór padł na model klasyfikujący według drzew losowych, ponieważ w tym modelu było najmniej przypadków gdy model klasyfikował przypadki nie będace fraudami jako fraudy (1514 z 1545 zsotało poprawnie zaklasyfikowanych)\n",
        "#W przypadku dwóch pozostałych modeli błędnie zaklasyfikowanych obiektów było znacznie więcej."
      ],
      "metadata": {
        "id": "mJymK-EnLCX_"
      },
      "execution_count": null,
      "outputs": []
    },
    {
      "cell_type": "code",
      "source": [],
      "metadata": {
        "id": "TwJec_e85VPE"
      },
      "execution_count": null,
      "outputs": []
    },
    {
      "cell_type": "code",
      "source": [],
      "metadata": {
        "id": "J1GMbaExLCap"
      },
      "execution_count": null,
      "outputs": []
    }
  ]
}