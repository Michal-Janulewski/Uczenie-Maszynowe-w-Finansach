{
  "nbformat": 4,
  "nbformat_minor": 0,
  "metadata": {
    "colab": {
      "provenance": [],
      "authorship_tag": "ABX9TyPMmwd/88Co3GONh+mg9I2a",
      "include_colab_link": true
    },
    "kernelspec": {
      "name": "python3",
      "display_name": "Python 3"
    },
    "language_info": {
      "name": "python"
    }
  },
  "cells": [
    {
      "cell_type": "markdown",
      "metadata": {
        "id": "view-in-github",
        "colab_type": "text"
      },
      "source": [
        "<a href=\"https://colab.research.google.com/github/Michal-Janulewski/Uczenie-Maszynowe-w-Finansach/blob/Quiz-2/Quiz_2.ipynb\" target=\"_parent\"><img src=\"https://colab.research.google.com/assets/colab-badge.svg\" alt=\"Open In Colab\"/></a>"
      ]
    },
    {
      "cell_type": "code",
      "execution_count": 3,
      "metadata": {
        "id": "DlXJZutr0pPZ"
      },
      "outputs": [],
      "source": [
        "import numpy as np\n",
        "import pandas as pd\n",
        "import matplotlib.pyplot as plt\n",
        "import seaborn as sns"
      ]
    },
    {
      "cell_type": "code",
      "source": [
        "!pip install surprise\n",
        "from surprise import SVD, KNNWithMeans\n",
        "from surprise import accuracy\n",
        "from surprise.model_selection import train_test_split\n",
        "from surprise.model_selection import cross_validate, GridSearchCV\n",
        "from surprise import Dataset\n",
        "from surprise import Reader"
      ],
      "metadata": {
        "id": "rhtiBSmn1don"
      },
      "execution_count": null,
      "outputs": []
    },
    {
      "cell_type": "code",
      "source": [
        "# Wczytanie danych\n",
        "ratings = pd.read_csv('https://s3-us-west-2.amazonaws.com/recommender-tutorial/ratings.csv')\n",
        "movies = pd.read_csv('https://s3-us-west-2.amazonaws.com/recommender-tutorial/movies.csv')"
      ],
      "metadata": {
        "id": "OYqmC0N_1HlI"
      },
      "execution_count": 5,
      "outputs": []
    },
    {
      "cell_type": "code",
      "source": [
        "# 1. Przegląd danych\n",
        "\n",
        "# Liczba filmów Sci-Fi\n",
        "sci_fi_movies = movies[movies['genres'].str.contains('Sci-Fi')]\n",
        "num_sci_fi_movies = len(sci_fi_movies)\n",
        "print(\"Liczba filmów Sci-Fi:\", num_sci_fi_movies)"
      ],
      "metadata": {
        "id": "-cg1MYR516Lw"
      },
      "execution_count": null,
      "outputs": []
    },
    {
      "cell_type": "code",
      "source": [
        "# Rozkład ocen komedii\n",
        "comedy_movies = movies[movies['genres'].str.contains('Comedy')]\n",
        "comedy_ratings = ratings[ratings['movieId'].isin(comedy_movies['movieId'])]\n",
        "comedy_ratings_distribution = comedy_ratings['rating'].value_counts().sort_index()\n",
        "print(\"Rozkład ocen komedii:\")\n",
        "print(comedy_ratings_distribution)"
      ],
      "metadata": {
        "id": "oJr61IUU2SbO"
      },
      "execution_count": null,
      "outputs": []
    },
    {
      "cell_type": "code",
      "source": [
        "# Średnia ocen wszystkich filmów akcji oraz 3 filmy najwyżej oceniane\n",
        "action_movies = movies[movies['genres'].str.contains('Action')]\n",
        "action_ratings = ratings[ratings['movieId'].isin(action_movies['movieId'])]\n",
        "average_action_rating = action_ratings['rating'].mean()\n",
        "\n",
        "# Grupowanie ocen po identyfikatorze filmu, wyznaczenie średniej oceny i sortowanie malejąco\n",
        "avg_ratings_per_movie = action_ratings.groupby('movieId')['rating'].mean().reset_index()\n",
        "top_3_action_movies = avg_ratings_per_movie.nlargest(3, 'rating')\n",
        "\n",
        "# Dołączenie tytułów filmów do 3 najwyżej ocenianych\n",
        "top_3_action_movies_with_titles = pd.merge(top_3_action_movies, movies[['movieId', 'title']], on='movieId', how='left')\n",
        "\n",
        "print(\"Średnia ocen wszystkich filmów akcji:\", average_action_rating)\n",
        "print(\"3 filmy najwyżej oceniane wśród filmów akcji:\")\n",
        "print(top_3_action_movies_with_titles[['title', 'rating']])"
      ],
      "metadata": {
        "id": "zKSl0wwT2kE1"
      },
      "execution_count": null,
      "outputs": []
    },
    {
      "cell_type": "markdown",
      "source": [
        "2.1. Zbuduj system na podstawie algorytmu SVD oraz kNNwithMeans\n"
      ],
      "metadata": {
        "id": "p_kJYgsxqY5c"
      }
    },
    {
      "cell_type": "code",
      "source": [
        "min_rating = ratings.rating.min()\n",
        "max_rating = ratings.rating.max()\n",
        "\n",
        "reader = Reader(rating_scale=(min_rating, max_rating))\n",
        "data = Dataset.load_from_df(ratings[['userId', 'movieId', 'rating']], reader)\n",
        "trainset, testset = train_test_split(data, test_size=0.2, random_state=42)\n",
        "algo = SVD()\n",
        "model1=algo.fit(trainset)\n",
        "predictions_svd = algo.test(testset)"
      ],
      "metadata": {
        "id": "9yIKlzlimfj6"
      },
      "execution_count": 11,
      "outputs": []
    },
    {
      "cell_type": "code",
      "source": [
        "knn_model = KNNWithMeans()\n",
        "model2= knn_model.fit(trainset)\n",
        "predictions_knn = model2.test(testset)\n",
        "knn_rmse = accuracy.rmse(predictions_knn)\n",
        "print(\"RMSE dla modelu kNNwithMeans:\", knn_rmse)"
      ],
      "metadata": {
        "id": "Z3pKZgAhoFRW"
      },
      "execution_count": null,
      "outputs": []
    },
    {
      "cell_type": "markdown",
      "source": [
        "2.2. Czym różni się algorytm kNN with means od standardowego kNN?\n"
      ],
      "metadata": {
        "id": "ZcHc2e4aqJ2s"
      }
    },
    {
      "cell_type": "code",
      "source": [
        "#Standardowy algorytm kNN przewiduje ocenę dla danego użytkownika lub elementu, znajdując k najbardziej podobnych sąsiadów i uśredniając ich oceny.\n",
        "#Natomiast kNN with Means dodaje dodatkowo średnią ocenę użytkownika lub elementu do przewidywania oceny, co może poprawić jakość predykcji,\n",
        "#szczególnie w przypadku niestabilnych danych. Innymi słowy, kNN with Means uwzględnia również ogólną tendencję ocen danego użytkownika lub elementu podczas przewidywania brakujących ocen."
      ],
      "metadata": {
        "id": "PI8-o93JoJJn"
      },
      "execution_count": null,
      "outputs": []
    },
    {
      "cell_type": "markdown",
      "source": [
        "2.3. Wykorzystaj metodę hiperparametryzacji GridSearch do wyboru liczby sąsiadów od 2-6"
      ],
      "metadata": {
        "id": "1aL4-vJ4qFj_"
      }
    },
    {
      "cell_type": "code",
      "source": [
        "param_grid = {'k': list(range(2, 7))}\n",
        "knn_model = KNNWithMeans(sim_options={'name': 'cosine', 'user_based': False})\n",
        "grid_search = GridSearchCV(KNNWithMeans, param_grid, measures=['RMSE'], cv=5)\n",
        "model3= grid_search.fit(data)\n",
        "\n",
        "print(\"Najlepsze RMSE:\", grid_search.best_score['rmse'])\n",
        "print(\"Najlepsze parametry:\", grid_search.best_params['rmse'])"
      ],
      "metadata": {
        "id": "Tg9Cco6NohEe"
      },
      "execution_count": null,
      "outputs": []
    },
    {
      "cell_type": "markdown",
      "source": [
        "2.4. W ocenie metod wykorzystaj walidację krzyżową\n"
      ],
      "metadata": {
        "id": "d2KBJ16Jp9iG"
      }
    },
    {
      "cell_type": "code",
      "source": [
        "svd_cv_results = cross_validate(model1, data, measures=['RMSE', 'MAE'], cv=5, verbose=True);\n",
        "knn_cv_results = cross_validate(model2, data, measures=['RMSE', 'MAE'], cv=5, verbose=True)"
      ],
      "metadata": {
        "id": "omqFKAxJo7is"
      },
      "execution_count": null,
      "outputs": []
    },
    {
      "cell_type": "markdown",
      "source": [
        "3. Podaj rekomendacje po obejrzeniu filmu: Jumanji  oraz Flint"
      ],
      "metadata": {
        "id": "m7tAywhEp0iN"
      }
    },
    {
      "cell_type": "code",
      "source": [
        "movies_to_watch = [\"Jumanji\", \"Flint\"]\n",
        "def recommend_movies_knn(model, movies_to_watch, k=10):\n",
        "    recommended_movies = []\n",
        "    for movie_title in movies_to_watch:\n",
        "        if movies['title'].str.contains(movie_title, case=False).any():\n",
        "            movie_id = movies[movies['title'].str.contains(movie_title, case=False)]['movieId'].values[0]\n",
        "            similar_movies = model.get_neighbors(movie_id, k=k)\n",
        "            recommended_movies.extend(similar_movies)\n",
        "        else:\n",
        "            print(f\"Nie można znaleźć filmu '{movie_title}' w zbiorze danych.\")\n",
        "    return recommended_movies\n",
        "\n",
        "recommended_movies_knn = recommend_movies_knn(model2, movies_to_watch)\n",
        "\n",
        "recommended_movie_titles = movies[movies['movieId'].isin(recommended_movies_knn)]['title'][:10]\n",
        "movies_to_watch_titles = \" i \".join(movies_to_watch)\n",
        "print(f\"Rekomendowane filmy po obejrzeniu filmów {movies_to_watch_titles}:\")\n",
        "for idx, title in enumerate(recommended_movie_titles, start=1):\n",
        "    print(f\"{idx}. {title}\")"
      ],
      "metadata": {
        "id": "ZaKqtu8ypJH1"
      },
      "execution_count": null,
      "outputs": []
    }
  ]
}