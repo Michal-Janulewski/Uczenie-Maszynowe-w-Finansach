{
  "cells": [
    {
      "cell_type": "markdown",
      "metadata": {
        "id": "7x5P9dAoSFpP"
      },
      "source": [
        "# Big Data\n",
        "\n",
        "### Prowadzący, modyfikacje i aktualizacja: dr Marcin Szmydt\n",
        "\n",
        "Opracowanie pierwotne: mgr inż. Dominik Filipiak\n",
        "Notebook do zdalnej pracy ze Sparkiem."
      ]
    },
    {
      "cell_type": "markdown",
      "metadata": {
        "id": "j8kb9zJ-S3vq"
      },
      "source": [
        "### Przygotowanie sparka do pracy z colabem\n",
        "\n",
        "Przed przystąpieniem do pracy musimy uruchomić poniższe komórki.\n",
        "W razie kłopotów sprawdźcie czy nie zmieniła się wersja tutaj: http://www.apache.org/dist/spark/. W razie czego trzeba pozmieniać numerki wszędzie (np. 3.4.1 na 3.5.1)."
      ]
    },
    {
      "cell_type": "markdown",
      "metadata": {
        "id": "voo4f_tVS_Gf"
      },
      "source": [
        "Tu ściągamy Javę oraz Sparka razem z Hadoopem, a także instalujemy pakiet findspark w pythonie. Pewnie już się domyślacie, że przez wykrzyknik można wywołać linuksowe polecenia w Colabie.\n",
        "\n"
      ]
    },
    {
      "cell_type": "code",
      "execution_count": 1,
      "metadata": {
        "id": "QCDxQmckSdjt"
      },
      "outputs": [],
      "source": [
        "!apt-get install openjdk-8-jdk-headless -qq > /dev/null # polecenie linuxowe, które instaluje bibliotekę javy\n",
        "!wget -q http://www.apache.org/dist/spark/spark-3.5.1/spark-3.5.1-bin-hadoop3.tgz #pobieranie pliku z parametrem q (quiet - nie wyświetla pliku)\n",
        "!tar xf spark-3.5.1-bin-hadoop3.tgz\n",
        "!pip install -q findspark==1.3.0 # instalacja biblioteki find_spark"
      ]
    },
    {
      "cell_type": "markdown",
      "metadata": {
        "id": "HYD8k9vQTK_g"
      },
      "source": [
        "Instalujemy pyspark w Pythonie"
      ]
    },
    {
      "cell_type": "code",
      "execution_count": 2,
      "metadata": {
        "id": "RM8cD2ieTLW8",
        "colab": {
          "base_uri": "https://localhost:8080/"
        },
        "outputId": "ce6acd14-74dc-4da9-e7a0-31459faad4c2"
      },
      "outputs": [
        {
          "output_type": "stream",
          "name": "stdout",
          "text": [
            "\u001b[2K     \u001b[90m━━━━━━━━━━━━━━━━━━━━━━━━━━━━━━━━━━━━━━━━\u001b[0m \u001b[32m317.0/317.0 MB\u001b[0m \u001b[31m2.7 MB/s\u001b[0m eta \u001b[36m0:00:00\u001b[0m\n",
            "\u001b[?25h  Preparing metadata (setup.py) ... \u001b[?25l\u001b[?25hdone\n",
            "  Building wheel for pyspark (setup.py) ... \u001b[?25l\u001b[?25hdone\n"
          ]
        }
      ],
      "source": [
        "!pip install -q pyspark==3.5.1"
      ]
    },
    {
      "cell_type": "markdown",
      "metadata": {
        "id": "szctXV_6TTsb"
      },
      "source": [
        "Tu ustalamy zmienne środowiskowe."
      ]
    },
    {
      "cell_type": "code",
      "execution_count": null,
      "metadata": {
        "id": "npdmo_U-TT-v"
      },
      "outputs": [],
      "source": [
        "import os\n",
        "os.environ[\"JAVA_HOME\"] = \"/usr/lib/jvm/java-8-openjdk-amd64\"\n",
        "os.environ[\"SPARK_HOME\"] = \"/content/spark-3.5.1-bin-hadoop3\""
      ]
    },
    {
      "cell_type": "markdown",
      "metadata": {
        "id": "RL047t4xTxdf"
      },
      "source": [
        "Jesteśmy gotowi do odpalenia Sparka - tworzymy sesję i kontekst."
      ]
    },
    {
      "cell_type": "code",
      "execution_count": 3,
      "metadata": {
        "id": "l8MeA3KpTxwY"
      },
      "outputs": [],
      "source": [
        "import findspark\n",
        "import pyspark\n",
        "from pyspark.sql import SparkSession\n",
        "from pyspark import SparkContext\n",
        "\n",
        "findspark.init(\"spark-3.5.1-bin-hadoop3\")\n",
        "sc = pyspark.SparkContext('local[*]')\n",
        "spark = SparkSession.builder.appName('abc').getOrCreate()"
      ]
    },
    {
      "cell_type": "code",
      "execution_count": 4,
      "metadata": {
        "id": "iPdb4uIcUA1a",
        "colab": {
          "base_uri": "https://localhost:8080/"
        },
        "outputId": "f5415d49-9085-4bf6-e26c-2740b3c81cbf"
      },
      "outputs": [
        {
          "output_type": "stream",
          "name": "stdout",
          "text": [
            "               total        used        free      shared  buff/cache   available\n",
            "Mem:            12Gi       1.1Gi       1.0Gi       2.0Mi        10Gi        11Gi\n",
            "Swap:             0B          0B          0B\n"
          ]
        }
      ],
      "source": [
        "!free -mh # Komenda na sprawdzenie dostępnej pamięci RAM"
      ]
    },
    {
      "cell_type": "markdown",
      "metadata": {
        "id": "CQCXxzEwUG8s"
      },
      "source": [
        "# Możemy przystąpić do pracy!"
      ]
    },
    {
      "cell_type": "code",
      "execution_count": null,
      "metadata": {
        "id": "QI9ZgD9OUHib",
        "colab": {
          "base_uri": "https://localhost:8080/"
        },
        "outputId": "e934162c-4865-4b57-fe00-94a1cd52e262"
      },
      "outputs": [
        {
          "output_type": "execute_result",
          "data": {
            "text/plain": [
              "[2, 3, 4]"
            ]
          },
          "metadata": {},
          "execution_count": 6
        }
      ],
      "source": [
        "sc.parallelize([1,2,3]).map(lambda x: x + 1).collect()"
      ]
    },
    {
      "cell_type": "markdown",
      "metadata": {
        "id": "WxVUvE9pUUW-"
      },
      "source": [
        "# Zajęcia 25.03.2024"
      ]
    },
    {
      "cell_type": "code",
      "execution_count": null,
      "metadata": {
        "id": "80gA-9PTiCUK",
        "colab": {
          "base_uri": "https://localhost:8080/",
          "height": 196
        },
        "outputId": "7f99ff64-35fa-4a9f-c9fc-6cb00d76a9b3"
      },
      "outputs": [
        {
          "output_type": "execute_result",
          "data": {
            "text/plain": [
              "<SparkContext master=local[*] appName=pyspark-shell>"
            ],
            "text/html": [
              "\n",
              "        <div>\n",
              "            <p><b>SparkContext</b></p>\n",
              "\n",
              "            <p><a href=\"http://a1fbcfb48d8f:4040\">Spark UI</a></p>\n",
              "\n",
              "            <dl>\n",
              "              <dt>Version</dt>\n",
              "                <dd><code>v3.5.1</code></dd>\n",
              "              <dt>Master</dt>\n",
              "                <dd><code>local[*]</code></dd>\n",
              "              <dt>AppName</dt>\n",
              "                <dd><code>pyspark-shell</code></dd>\n",
              "            </dl>\n",
              "        </div>\n",
              "        "
            ]
          },
          "metadata": {},
          "execution_count": 7
        }
      ],
      "source": [
        "sc #obiekt SpartContext - potrzebny żeby pracować na RDD"
      ]
    },
    {
      "cell_type": "markdown",
      "source": [
        "###Przechodzenie między środowiskiem lokalnym (Python) a środowiskiem rozproszonym (Spark)"
      ],
      "metadata": {
        "id": "3eFby4E_Mgtz"
      }
    },
    {
      "cell_type": "code",
      "source": [
        "lista = [1, 2, 3] #lista pythonowa"
      ],
      "metadata": {
        "id": "BSZr0RupJhd4"
      },
      "execution_count": null,
      "outputs": []
    },
    {
      "cell_type": "code",
      "source": [
        "type(lista)"
      ],
      "metadata": {
        "id": "8ZdztFl9MXh5",
        "colab": {
          "base_uri": "https://localhost:8080/"
        },
        "outputId": "8432d8c1-104a-4ec7-e97d-ed9f415f0b76"
      },
      "execution_count": null,
      "outputs": [
        {
          "output_type": "execute_result",
          "data": {
            "text/plain": [
              "list"
            ]
          },
          "metadata": {},
          "execution_count": 9
        }
      ]
    },
    {
      "cell_type": "code",
      "source": [
        "distributed_list = sc.parallelize(lista) # sc.parallelize(lista) - przejście z lokalnej zmiennej do RDD, które jest rozproszone w środowisku naszego clustra"
      ],
      "metadata": {
        "id": "EjSwnSIvLB_k"
      },
      "execution_count": null,
      "outputs": []
    },
    {
      "cell_type": "code",
      "source": [
        "type(distributed_list)"
      ],
      "metadata": {
        "id": "6RR-o7dxLCo6",
        "colab": {
          "base_uri": "https://localhost:8080/",
          "height": 174
        },
        "outputId": "d4609561-98d3-463c-8f3c-00878e3c1d05"
      },
      "execution_count": null,
      "outputs": [
        {
          "output_type": "execute_result",
          "data": {
            "text/plain": [
              "pyspark.rdd.RDD"
            ],
            "text/html": [
              "<div style=\"max-width:800px; border: 1px solid var(--colab-border-color);\"><style>\n",
              "      pre.function-repr-contents {\n",
              "        overflow-x: auto;\n",
              "        padding: 8px 12px;\n",
              "        max-height: 500px;\n",
              "      }\n",
              "\n",
              "      pre.function-repr-contents.function-repr-contents-collapsed {\n",
              "        cursor: pointer;\n",
              "        max-height: 100px;\n",
              "      }\n",
              "    </style>\n",
              "    <pre style=\"white-space: initial; background:\n",
              "         var(--colab-secondary-surface-color); padding: 8px 12px;\n",
              "         border-bottom: 1px solid var(--colab-border-color);\"><b>pyspark.rdd.RDD</b><br/>def __init__(jrdd: &#x27;JavaObject&#x27;, ctx: &#x27;SparkContext&#x27;, jrdd_deserializer: Serializer=AutoBatchedSerializer(CPickleSerializer()))</pre><pre class=\"function-repr-contents function-repr-contents-collapsed\" style=\"\"><a class=\"filepath\" style=\"display:none\" href=\"#\">/usr/local/lib/python3.10/dist-packages/pyspark/rdd.py</a>A Resilient Distributed Dataset (RDD), the basic abstraction in Spark.\n",
              "Represents an immutable, partitioned collection of elements that can be\n",
              "operated on in parallel.</pre>\n",
              "      <script>\n",
              "      if (google.colab.kernel.accessAllowed && google.colab.files && google.colab.files.view) {\n",
              "        for (const element of document.querySelectorAll('.filepath')) {\n",
              "          element.style.display = 'block'\n",
              "          element.onclick = (event) => {\n",
              "            event.preventDefault();\n",
              "            event.stopPropagation();\n",
              "            google.colab.files.view(element.textContent, 336);\n",
              "          };\n",
              "        }\n",
              "      }\n",
              "      for (const element of document.querySelectorAll('.function-repr-contents')) {\n",
              "        element.onclick = (event) => {\n",
              "          event.preventDefault();\n",
              "          event.stopPropagation();\n",
              "          element.classList.toggle('function-repr-contents-collapsed');\n",
              "        };\n",
              "      }\n",
              "      </script>\n",
              "      </div>"
            ]
          },
          "metadata": {},
          "execution_count": 11
        }
      ]
    },
    {
      "cell_type": "code",
      "source": [
        "distributed_list.take(10) # weź pierwszych 10 elementów z listy"
      ],
      "metadata": {
        "id": "_iJFHyqKMs4-",
        "colab": {
          "base_uri": "https://localhost:8080/"
        },
        "outputId": "a8512498-7c96-465d-8cd2-dbaac1ee3d84"
      },
      "execution_count": null,
      "outputs": [
        {
          "output_type": "execute_result",
          "data": {
            "text/plain": [
              "[1, 2, 3]"
            ]
          },
          "metadata": {},
          "execution_count": 12
        }
      ]
    },
    {
      "cell_type": "code",
      "source": [
        "listapython = distributed_list.map(lambda x: x + 1).collect() # wywołując collect() powracamy ze środowiska rozproszonego do lokalnego"
      ],
      "metadata": {
        "id": "waOAUUKbLD9h"
      },
      "execution_count": null,
      "outputs": []
    },
    {
      "cell_type": "code",
      "source": [
        "listapython"
      ],
      "metadata": {
        "id": "jJ8tRQzGLhzv",
        "colab": {
          "base_uri": "https://localhost:8080/"
        },
        "outputId": "fc1a072d-d251-4ff7-e3da-201f5593c8f4"
      },
      "execution_count": null,
      "outputs": [
        {
          "output_type": "execute_result",
          "data": {
            "text/plain": [
              "[2, 3, 4]"
            ]
          },
          "metadata": {},
          "execution_count": 14
        }
      ]
    },
    {
      "cell_type": "code",
      "source": [
        "type(listapython)"
      ],
      "metadata": {
        "id": "LGiKV6RCMr-x",
        "colab": {
          "base_uri": "https://localhost:8080/"
        },
        "outputId": "397cc392-4fe3-45e1-f2bf-0503614f0d3d"
      },
      "execution_count": null,
      "outputs": [
        {
          "output_type": "execute_result",
          "data": {
            "text/plain": [
              "list"
            ]
          },
          "metadata": {},
          "execution_count": 15
        }
      ]
    },
    {
      "cell_type": "markdown",
      "source": [
        "Wyjaśnienie działania funkcji lambda:"
      ],
      "metadata": {
        "id": "_PTDCKbAwx47"
      }
    },
    {
      "cell_type": "code",
      "source": [
        "def funkcja1(x):\n",
        "  return x+1\n",
        "\n",
        "# taka definicja funkcji ma sens, gdy jes wykorzystywana w wielu miejscach"
      ],
      "metadata": {
        "id": "b_0IPPKZv7rz"
      },
      "execution_count": null,
      "outputs": []
    },
    {
      "cell_type": "code",
      "source": [
        "funkcja1(1)"
      ],
      "metadata": {
        "colab": {
          "base_uri": "https://localhost:8080/"
        },
        "id": "AUHrS7M2wCaL",
        "outputId": "018e4acb-f3a9-444a-a070-ab41516f4628"
      },
      "execution_count": null,
      "outputs": [
        {
          "output_type": "execute_result",
          "data": {
            "text/plain": [
              "2"
            ]
          },
          "metadata": {},
          "execution_count": 17
        }
      ]
    },
    {
      "cell_type": "code",
      "source": [
        "funkcja2 = lambda x: x + 1 # działanie funkcji tożsame z funkcja1. Różnica polega tylko na sposobie zapisu"
      ],
      "metadata": {
        "id": "BnBso1UawIRc"
      },
      "execution_count": null,
      "outputs": []
    },
    {
      "cell_type": "code",
      "source": [
        "funkcja2(1)"
      ],
      "metadata": {
        "colab": {
          "base_uri": "https://localhost:8080/"
        },
        "id": "KiNaO9NZwk80",
        "outputId": "08636a70-7fb4-4be5-fe4c-2111d9bf37e3"
      },
      "execution_count": null,
      "outputs": [
        {
          "output_type": "execute_result",
          "data": {
            "text/plain": [
              "2"
            ]
          },
          "metadata": {},
          "execution_count": 20
        }
      ]
    },
    {
      "cell_type": "code",
      "source": [
        "funkcja3 = lambda x: x * 3"
      ],
      "metadata": {
        "id": "1glQVf0jsv4O"
      },
      "execution_count": null,
      "outputs": []
    },
    {
      "cell_type": "code",
      "source": [
        "funkcja3(5)"
      ],
      "metadata": {
        "colab": {
          "base_uri": "https://localhost:8080/"
        },
        "id": "gyeLVG4isyn2",
        "outputId": "0ba331d9-81f6-4d57-bac0-f9263f40c690"
      },
      "execution_count": null,
      "outputs": [
        {
          "output_type": "execute_result",
          "data": {
            "text/plain": [
              "15"
            ]
          },
          "metadata": {},
          "execution_count": 23
        }
      ]
    },
    {
      "cell_type": "markdown",
      "source": [
        "###RDD -Wczytywanie plików, podstawowe operacje (take, map, filter)"
      ],
      "metadata": {
        "id": "xLTHRN96NM2N"
      }
    },
    {
      "cell_type": "markdown",
      "source": [
        "Pobranie pliku csv i załadowanie do środowiska sparkowego"
      ],
      "metadata": {
        "id": "8FfbuLljw6LW"
      }
    },
    {
      "cell_type": "code",
      "source": [
        "!head -5 baby.csv"
      ],
      "metadata": {
        "id": "RbAJCphEM27C",
        "colab": {
          "base_uri": "https://localhost:8080/"
        },
        "outputId": "dbb0b90b-9def-415f-e0a4-e152c78c133d"
      },
      "execution_count": null,
      "outputs": [
        {
          "output_type": "stream",
          "name": "stdout",
          "text": [
            "Year,First Name,County,Sex,Count\n",
            "2013,DAVID,KINGS,M,272\n",
            "2013,JAYDEN,KINGS,M,268\n",
            "2013,JAYDEN,QUEENS,M,219\n",
            "2013,MOSHE,KINGS,M,219\n"
          ]
        }
      ]
    },
    {
      "cell_type": "code",
      "source": [
        "baby_names = sc.textFile('baby.csv') #zmiana na plik tekstowy"
      ],
      "metadata": {
        "id": "Fs56v7FRPZzC"
      },
      "execution_count": null,
      "outputs": []
    },
    {
      "cell_type": "code",
      "source": [
        "baby_names.take(10)"
      ],
      "metadata": {
        "id": "MCtV0f5xPfLC",
        "colab": {
          "base_uri": "https://localhost:8080/"
        },
        "outputId": "0a50023c-67a1-4492-f168-846d8fb52074"
      },
      "execution_count": null,
      "outputs": [
        {
          "output_type": "execute_result",
          "data": {
            "text/plain": [
              "['Year,First Name,County,Sex,Count',\n",
              " '2013,DAVID,KINGS,M,272',\n",
              " '2013,JAYDEN,KINGS,M,268',\n",
              " '2013,JAYDEN,QUEENS,M,219',\n",
              " '2013,MOSHE,KINGS,M,219',\n",
              " '2013,ETHAN,QUEENS,M,216',\n",
              " '2013,SOPHIA,QUEENS,F,204',\n",
              " '2013,DANIEL,QUEENS,M,203',\n",
              " '2013,JACOB,KINGS,M,202',\n",
              " '2013,ESTHER,KINGS,F,196']"
            ]
          },
          "metadata": {},
          "execution_count": 26
        }
      ]
    },
    {
      "cell_type": "code",
      "source": [
        "rows = baby_names.map(lambda x: x.split(',')) # w każdym wierzu zostanie zaaplikowana funkcja, która rozdziela elementy po przecinku"
      ],
      "metadata": {
        "id": "zCnM_KWLPhVk"
      },
      "execution_count": null,
      "outputs": []
    },
    {
      "cell_type": "code",
      "source": [
        "rows.take(3)"
      ],
      "metadata": {
        "id": "vfDfJOJZPo6z",
        "colab": {
          "base_uri": "https://localhost:8080/"
        },
        "outputId": "ea32dec9-d0cc-4567-e7fe-c53f1af3dadf"
      },
      "execution_count": null,
      "outputs": [
        {
          "output_type": "execute_result",
          "data": {
            "text/plain": [
              "[['Year', 'First Name', 'County', 'Sex', 'Count'],\n",
              " ['2013', 'DAVID', 'KINGS', 'M', '272'],\n",
              " ['2013', 'JAYDEN', 'KINGS', 'M', '268']]"
            ]
          },
          "metadata": {},
          "execution_count": 28
        }
      ]
    },
    {
      "cell_type": "code",
      "source": [
        "rows.filter(lambda x: 'Year' not in x).take(5) # filtrowanie - wiersze mające 'Year' nie zostaną wyświetlone"
      ],
      "metadata": {
        "id": "5oxYETl2RiWZ",
        "colab": {
          "base_uri": "https://localhost:8080/"
        },
        "outputId": "5c0b8718-79c0-4b9d-fc17-fe2bb396476d"
      },
      "execution_count": null,
      "outputs": [
        {
          "output_type": "execute_result",
          "data": {
            "text/plain": [
              "[['2013', 'DAVID', 'KINGS', 'M', '272'],\n",
              " ['2013', 'JAYDEN', 'KINGS', 'M', '268'],\n",
              " ['2013', 'JAYDEN', 'QUEENS', 'M', '219'],\n",
              " ['2013', 'MOSHE', 'KINGS', 'M', '219'],\n",
              " ['2013', 'ETHAN', 'QUEENS', 'M', '216']]"
            ]
          },
          "metadata": {},
          "execution_count": 29
        }
      ]
    },
    {
      "cell_type": "markdown",
      "source": [
        "###Zadanie 1 - Jak odfiltrować z RDD imiona, które mają mniej niż 250 wystąpień (count)"
      ],
      "metadata": {
        "id": "qDZvixFmR5Zi"
      }
    },
    {
      "cell_type": "code",
      "source": [
        "#kod\n",
        "(rows.filter(lambda x: 'Year' not in x)\n",
        "     .filter(lambda x: int(x[4])<250).take(10))"
      ],
      "metadata": {
        "id": "kzrjfyetSV78",
        "colab": {
          "base_uri": "https://localhost:8080/"
        },
        "outputId": "8e449c0d-198e-474e-dfdf-c0f844dd2fdc"
      },
      "execution_count": null,
      "outputs": [
        {
          "output_type": "execute_result",
          "data": {
            "text/plain": [
              "[['2013', 'JAYDEN', 'QUEENS', 'M', '219'],\n",
              " ['2013', 'MOSHE', 'KINGS', 'M', '219'],\n",
              " ['2013', 'ETHAN', 'QUEENS', 'M', '216'],\n",
              " ['2013', 'SOPHIA', 'QUEENS', 'F', '204'],\n",
              " ['2013', 'DANIEL', 'QUEENS', 'M', '203'],\n",
              " ['2013', 'JACOB', 'KINGS', 'M', '202'],\n",
              " ['2013', 'ESTHER', 'KINGS', 'F', '196'],\n",
              " ['2013', 'ETHAN', 'KINGS', 'M', '196'],\n",
              " ['2013', 'ISABELLA', 'QUEENS', 'F', '192'],\n",
              " ['2013', 'DANIEL', 'KINGS', 'M', '188']]"
            ]
          },
          "metadata": {},
          "execution_count": 38
        }
      ]
    },
    {
      "cell_type": "markdown",
      "source": [
        "###Cache (i wpływ na czas przetarzania)"
      ],
      "metadata": {
        "id": "but39hi4UZaR"
      }
    },
    {
      "cell_type": "code",
      "source": [
        "nums = sc.parallelize(range(1, 1000001))"
      ],
      "metadata": {
        "id": "YxXxbTyfUar7"
      },
      "execution_count": null,
      "outputs": []
    },
    {
      "cell_type": "code",
      "source": [
        "nums.count()"
      ],
      "metadata": {
        "id": "7IxuAIJCUk39",
        "colab": {
          "base_uri": "https://localhost:8080/"
        },
        "outputId": "432b6854-8394-4dd1-b493-c5e9ecce010d"
      },
      "execution_count": null,
      "outputs": [
        {
          "output_type": "execute_result",
          "data": {
            "text/plain": [
              "1000000"
            ]
          },
          "metadata": {},
          "execution_count": 6
        }
      ]
    },
    {
      "cell_type": "code",
      "source": [
        "# ile jest liczb pierwszych od 1 do 1000000\n",
        "def isPrime(n) :\n",
        "\n",
        "    # Corner cases\n",
        "    if (n <= 1) :\n",
        "        return False\n",
        "    if (n <= 3) :\n",
        "        return True\n",
        "\n",
        "    # This is checked so that we can skip\n",
        "    # middle five numbers in below loop\n",
        "    if (n % 2 == 0 or n % 3 == 0) :\n",
        "        return False\n",
        "\n",
        "    i = 5\n",
        "    while(i * i <= n) :\n",
        "        if (n % i == 0 or n % (i + 2) == 0) :\n",
        "            return False\n",
        "        i = i + 6\n",
        "\n",
        "    return True"
      ],
      "metadata": {
        "id": "tY8IyBlXUqON"
      },
      "execution_count": null,
      "outputs": []
    },
    {
      "cell_type": "code",
      "source": [
        "isPrime(11)"
      ],
      "metadata": {
        "id": "Hro7LCEcUyEU",
        "colab": {
          "base_uri": "https://localhost:8080/"
        },
        "outputId": "93129523-2d1a-4066-f2de-387efa543243"
      },
      "execution_count": null,
      "outputs": [
        {
          "output_type": "execute_result",
          "data": {
            "text/plain": [
              "True"
            ]
          },
          "metadata": {},
          "execution_count": 8
        }
      ]
    },
    {
      "cell_type": "code",
      "source": [
        "primes = nums.filter(isPrime) # filtrowanie jest transformacją (nie wykonuje obliczeń)"
      ],
      "metadata": {
        "id": "VWKbbyfWU4IB"
      },
      "execution_count": null,
      "outputs": []
    },
    {
      "cell_type": "code",
      "source": [
        "primes.count() # zliczanie jest akcją"
      ],
      "metadata": {
        "id": "OxOIOpEgU8Q7",
        "colab": {
          "base_uri": "https://localhost:8080/"
        },
        "outputId": "99a715ba-01c4-494d-fbbc-1300ad9de7b0"
      },
      "execution_count": null,
      "outputs": [
        {
          "output_type": "execute_result",
          "data": {
            "text/plain": [
              "78498"
            ]
          },
          "metadata": {},
          "execution_count": 10
        }
      ]
    },
    {
      "cell_type": "code",
      "source": [
        "import time"
      ],
      "metadata": {
        "id": "GlCqcniOVApP"
      },
      "execution_count": null,
      "outputs": []
    },
    {
      "cell_type": "code",
      "source": [
        "zmiennax = 'testx'\n",
        "\n",
        "print(\"Moja zmienna to: \" + zmiennax)\n",
        "\n",
        "print(f\"Moja zmienna to: {zmiennax}\") #lepsze, bezpieczniejsze rozwiązanie na umieszczenie zmiennej w princie"
      ],
      "metadata": {
        "colab": {
          "base_uri": "https://localhost:8080/"
        },
        "id": "d9MdTcoKhYLH",
        "outputId": "18e617a5-c356-428b-83e6-f3426f15c363"
      },
      "execution_count": null,
      "outputs": [
        {
          "output_type": "stream",
          "name": "stdout",
          "text": [
            "Moja zmienna to: testx\n",
            "Moja zmienna to: testx\n"
          ]
        }
      ]
    },
    {
      "cell_type": "code",
      "source": [
        "start = time.time()\n",
        "print(f'Jest {primes.count()} liczb pierwszych w milionie')\n",
        "end = time.time()\n",
        "print(f'Upłynęło {end-start} sekund')\n",
        "\n",
        "# bez cache"
      ],
      "metadata": {
        "id": "Av1Tab3PVFjY",
        "colab": {
          "base_uri": "https://localhost:8080/"
        },
        "outputId": "2d0521eb-e34d-4ad9-a4e9-2a9f0c930d57"
      },
      "execution_count": null,
      "outputs": [
        {
          "output_type": "stream",
          "name": "stdout",
          "text": [
            "Jest 78498 liczb pierwszych w milionie\n",
            "Upłynęło 3.345008611679077 sekund\n"
          ]
        }
      ]
    },
    {
      "cell_type": "code",
      "source": [
        "primes.cache()"
      ],
      "metadata": {
        "id": "mWwzS95IVL_7",
        "colab": {
          "base_uri": "https://localhost:8080/"
        },
        "outputId": "f07437de-c1b9-4f33-a9ce-9e0463c033a5"
      },
      "execution_count": null,
      "outputs": [
        {
          "output_type": "execute_result",
          "data": {
            "text/plain": [
              "PythonRDD[4] at RDD at PythonRDD.scala:53"
            ]
          },
          "metadata": {},
          "execution_count": 17
        }
      ]
    },
    {
      "cell_type": "code",
      "source": [
        "start = time.time()\n",
        "print(f'Jest {primes.count()} liczb pierwszych w milionie')\n",
        "end = time.time()\n",
        "print(f'Upłynęło {end-start} sekund')\n",
        "\n",
        "# z cache prawie 6 sekund, ponieważ za pierwszym razem musi się uruchomić cache"
      ],
      "metadata": {
        "id": "ko1qlUY8VPBE",
        "colab": {
          "base_uri": "https://localhost:8080/"
        },
        "outputId": "7e9fab97-d3a0-44d1-bb18-eac8029c9288"
      },
      "execution_count": null,
      "outputs": [
        {
          "output_type": "stream",
          "name": "stdout",
          "text": [
            "Jest 78498 liczb pierwszych w milionie\n",
            "Upłynęło 5.05813193321228 sekund\n"
          ]
        }
      ]
    },
    {
      "cell_type": "code",
      "source": [
        "start = time.time()\n",
        "print(f'Jest {primes.count()} liczb pierwszych w milionie')\n",
        "end = time.time()\n",
        "print(f'Upłynęło {end-start} sekund')\n",
        "\n",
        "# po ponownym uruchomieniu kodu cache jest już aktywny i czas zmniejsza się kilkukrotnie"
      ],
      "metadata": {
        "id": "Qs9PzewYVR3P",
        "colab": {
          "base_uri": "https://localhost:8080/"
        },
        "outputId": "115e8494-b58e-4aa4-acf5-b507991113f0"
      },
      "execution_count": null,
      "outputs": [
        {
          "output_type": "stream",
          "name": "stdout",
          "text": [
            "Jest 78498 liczb pierwszych w milionie\n",
            "Upłynęło 1.0205965042114258 sekund\n"
          ]
        }
      ]
    },
    {
      "cell_type": "code",
      "source": [
        "start = time.time()\n",
        "print(f'Jest {primes.count()} liczb pierwszych w milionie')\n",
        "end = time.time()\n",
        "print(f'Upłynęło {end-start} sekund')"
      ],
      "metadata": {
        "id": "SPrPfsG1VU2P",
        "colab": {
          "base_uri": "https://localhost:8080/"
        },
        "outputId": "598896c1-bbbc-47d6-916f-2432a01b7503"
      },
      "execution_count": null,
      "outputs": [
        {
          "output_type": "stream",
          "name": "stdout",
          "text": [
            "Jest 78498 liczb pierwszych w milionie\n",
            "Upłynęło 0.4208979606628418 sekund\n"
          ]
        }
      ]
    },
    {
      "cell_type": "code",
      "source": [
        "primes.unpersist() #metoda unpersist usuwa zbiór z pamięci podręcznej"
      ],
      "metadata": {
        "id": "LpY3_AOMVYfw",
        "colab": {
          "base_uri": "https://localhost:8080/"
        },
        "outputId": "f5dbf60a-ba0b-4939-916c-155312dff3b8"
      },
      "execution_count": null,
      "outputs": [
        {
          "output_type": "execute_result",
          "data": {
            "text/plain": [
              "PythonRDD[4] at RDD at PythonRDD.scala:53"
            ]
          },
          "metadata": {},
          "execution_count": 24
        }
      ]
    },
    {
      "cell_type": "code",
      "source": [
        "# po usunięciu zbioru RDD ponownie wydłużył się czas działania kodu\n",
        "start = time.time()\n",
        "print(f'Jest {primes.count()} liczb pierwszych w milionie')\n",
        "end = time.time()\n",
        "print(f'Upłynęło {end-start} sekund')"
      ],
      "metadata": {
        "id": "xiivxisaVbdm",
        "colab": {
          "base_uri": "https://localhost:8080/"
        },
        "outputId": "f87e4137-3319-4035-c053-64c8ab51b728"
      },
      "execution_count": null,
      "outputs": [
        {
          "output_type": "stream",
          "name": "stdout",
          "text": [
            "Jest 78498 liczb pierwszych w milionie\n",
            "Upłynęło 3.2949860095977783 sekund\n"
          ]
        }
      ]
    },
    {
      "cell_type": "markdown",
      "source": [
        "###Sampling (losowanie podzbioru danych)"
      ],
      "metadata": {
        "id": "cDcAYQCeW4Hw"
      }
    },
    {
      "cell_type": "code",
      "source": [
        "# Spark nie jest dobry przy przetwaraniu małych zbiorów danych\n",
        "one_to_ten = range(1,11)\n",
        "parallel = sc.parallelize(one_to_ten)"
      ],
      "metadata": {
        "id": "eZibao4jW7q5"
      },
      "execution_count": null,
      "outputs": []
    },
    {
      "cell_type": "code",
      "source": [
        "parallel.take(100)"
      ],
      "metadata": {
        "id": "84CCkG0WW5au",
        "colab": {
          "base_uri": "https://localhost:8080/"
        },
        "outputId": "3d5e666d-0eb6-487b-91ce-6d1360c4e445"
      },
      "execution_count": null,
      "outputs": [
        {
          "output_type": "execute_result",
          "data": {
            "text/plain": [
              "[1, 2, 3, 4, 5, 6, 7, 8, 9, 10]"
            ]
          },
          "metadata": {},
          "execution_count": 27
        }
      ]
    },
    {
      "cell_type": "code",
      "source": [
        "# ?parallel.sample - opis funkcji/pomoc"
      ],
      "metadata": {
        "id": "o7_EGqcNjtaq"
      },
      "execution_count": null,
      "outputs": []
    },
    {
      "cell_type": "code",
      "source": [
        "parallel.sample(True, .2).take(5) # True - ze zwracaniem, .2 - losujemy 20%\n",
        "\n",
        "# This is not guaranteed to provide exactly the fraction specified of the total\n",
        "#count of the given :class:`DataFrame`."
      ],
      "metadata": {
        "id": "lam9E0lZW6qM",
        "colab": {
          "base_uri": "https://localhost:8080/"
        },
        "outputId": "b3a6aeb2-0311-4ef3-fe86-93d3fde2b5d0"
      },
      "execution_count": null,
      "outputs": [
        {
          "output_type": "execute_result",
          "data": {
            "text/plain": [
              "[1, 7, 10]"
            ]
          },
          "metadata": {},
          "execution_count": 30
        }
      ]
    },
    {
      "cell_type": "code",
      "source": [
        "parallel.takeSample(True, 2) # takeSample gwarantuje, że zawsze wylosujemy 20% (pozbywamy się marginesu błędu na małych zbiorach)"
      ],
      "metadata": {
        "id": "wl1W_ya9mlys",
        "colab": {
          "base_uri": "https://localhost:8080/"
        },
        "outputId": "7c9b8e01-5f83-4c96-d223-84984ca290d7"
      },
      "execution_count": null,
      "outputs": [
        {
          "output_type": "execute_result",
          "data": {
            "text/plain": [
              "[4, 8]"
            ]
          },
          "metadata": {},
          "execution_count": 31
        }
      ]
    },
    {
      "cell_type": "code",
      "source": [
        "parallel_big = sc.parallelize(range(1,100001))"
      ],
      "metadata": {
        "id": "_g0Rzs49W-er"
      },
      "execution_count": null,
      "outputs": []
    },
    {
      "cell_type": "code",
      "source": [
        "parallel_big.sample(True, .2).count()"
      ],
      "metadata": {
        "id": "HkGoevDLXlaD",
        "colab": {
          "base_uri": "https://localhost:8080/"
        },
        "outputId": "205b537d-74ce-4719-e2ff-12a262567fcc"
      },
      "execution_count": null,
      "outputs": [
        {
          "output_type": "execute_result",
          "data": {
            "text/plain": [
              "20021"
            ]
          },
          "metadata": {},
          "execution_count": 33
        }
      ]
    },
    {
      "cell_type": "code",
      "source": [
        "parallel_big.sample(True, .2, 5345).take(5) #ziarno (5345 - może byc dowolną liczbą) - gwarantuje wylosowanie zawsze tego samego podzbioru"
      ],
      "metadata": {
        "id": "VkB-2KTuXmv2",
        "colab": {
          "base_uri": "https://localhost:8080/"
        },
        "outputId": "10c3e588-0bb5-43ed-a278-273276891773"
      },
      "execution_count": null,
      "outputs": [
        {
          "output_type": "execute_result",
          "data": {
            "text/plain": [
              "[16, 27, 30, 34, 36]"
            ]
          },
          "metadata": {},
          "execution_count": 34
        }
      ]
    },
    {
      "cell_type": "markdown",
      "source": [
        "###Intersection, Union, Joins"
      ],
      "metadata": {
        "id": "lhxK6dPpgPH-"
      }
    },
    {
      "cell_type": "code",
      "source": [
        "one = sc.parallelize(range(1,10))\n",
        "two = sc.parallelize(range(5,15))"
      ],
      "metadata": {
        "id": "WYRgVA33gPjv"
      },
      "execution_count": null,
      "outputs": []
    },
    {
      "cell_type": "code",
      "source": [
        "one.collect()"
      ],
      "metadata": {
        "id": "3Gd_aQABgt7d",
        "colab": {
          "base_uri": "https://localhost:8080/"
        },
        "outputId": "1f35358b-c806-4419-d0a7-2c0e6c209bf1"
      },
      "execution_count": null,
      "outputs": [
        {
          "output_type": "execute_result",
          "data": {
            "text/plain": [
              "[1, 2, 3, 4, 5, 6, 7, 8, 9]"
            ]
          },
          "metadata": {},
          "execution_count": 36
        }
      ]
    },
    {
      "cell_type": "code",
      "source": [
        "two.collect()"
      ],
      "metadata": {
        "id": "9exnVWQkgvQG",
        "colab": {
          "base_uri": "https://localhost:8080/"
        },
        "outputId": "1efa1825-130f-473f-8857-44c1431f1616"
      },
      "execution_count": null,
      "outputs": [
        {
          "output_type": "execute_result",
          "data": {
            "text/plain": [
              "[5, 6, 7, 8, 9, 10, 11, 12, 13, 14]"
            ]
          },
          "metadata": {},
          "execution_count": 37
        }
      ]
    },
    {
      "cell_type": "code",
      "source": [
        "one.intersection(two).collect() #część wspólna"
      ],
      "metadata": {
        "id": "fnLXe3zigT-h",
        "colab": {
          "base_uri": "https://localhost:8080/"
        },
        "outputId": "f061e841-1448-43fe-99ed-2fe27c0fc2e3"
      },
      "execution_count": null,
      "outputs": [
        {
          "output_type": "execute_result",
          "data": {
            "text/plain": [
              "[8, 5, 9, 6, 7]"
            ]
          },
          "metadata": {},
          "execution_count": 38
        }
      ]
    },
    {
      "cell_type": "code",
      "source": [
        "one.union(two).collect() # suma z powtórzeniami"
      ],
      "metadata": {
        "id": "GAWjg059gqGv",
        "colab": {
          "base_uri": "https://localhost:8080/"
        },
        "outputId": "2684c2d1-b350-4bb4-a53d-81adfb801622"
      },
      "execution_count": null,
      "outputs": [
        {
          "output_type": "execute_result",
          "data": {
            "text/plain": [
              "[1, 2, 3, 4, 5, 6, 7, 8, 9, 5, 6, 7, 8, 9, 10, 11, 12, 13, 14]"
            ]
          },
          "metadata": {},
          "execution_count": 40
        }
      ]
    },
    {
      "cell_type": "code",
      "source": [
        "one.union(two).distinct().collect() #distinct - gwarantuje unikalne wartości/elementy"
      ],
      "metadata": {
        "id": "gtszt0ZVgx2E",
        "colab": {
          "base_uri": "https://localhost:8080/"
        },
        "outputId": "b8dd79fc-a055-4836-97be-2c276d812acf"
      },
      "execution_count": null,
      "outputs": [
        {
          "output_type": "execute_result",
          "data": {
            "text/plain": [
              "[4, 8, 12, 1, 5, 9, 13, 2, 6, 10, 14, 3, 7, 11]"
            ]
          },
          "metadata": {},
          "execution_count": 41
        }
      ]
    },
    {
      "cell_type": "code",
      "source": [
        "names1 = sc.parallelize(('abe', 'abby', 'apple')).map(lambda x: (x, 1))\n",
        "names2 = sc.parallelize(('apple', 'beatty', 'beatrice')).map(lambda x: (x, 5))\n",
        "print(f'names1: {names1.collect()}')\n",
        "print(f'names2: {names2.collect()}')\n",
        "\n",
        "# listy krotek - klucz, wartość"
      ],
      "metadata": {
        "id": "XWpWJ96dg6wn",
        "colab": {
          "base_uri": "https://localhost:8080/"
        },
        "outputId": "683b2ab0-cc06-4b29-e1aa-dc0a0c20b1ca"
      },
      "execution_count": null,
      "outputs": [
        {
          "output_type": "stream",
          "name": "stdout",
          "text": [
            "names1: [('abe', 1), ('abby', 1), ('apple', 1)]\n",
            "names2: [('apple', 5), ('beatty', 5), ('beatrice', 5)]\n"
          ]
        }
      ]
    },
    {
      "cell_type": "code",
      "source": [
        "names1.join(names2).collect() # przy zwykłym joinie łączą się elementy, które mają ten sam klucz"
      ],
      "metadata": {
        "id": "pr8tUgGehBbO",
        "colab": {
          "base_uri": "https://localhost:8080/"
        },
        "outputId": "0532338c-d56c-4b1d-8e56-d50ebd4bac89"
      },
      "execution_count": null,
      "outputs": [
        {
          "output_type": "execute_result",
          "data": {
            "text/plain": [
              "[('apple', (1, 5))]"
            ]
          },
          "metadata": {},
          "execution_count": 43
        }
      ]
    },
    {
      "cell_type": "code",
      "source": [
        "names1.leftOuterJoin(names2).collect() #wszystkie z lewej"
      ],
      "metadata": {
        "id": "mNlNAJRbhYBC",
        "colab": {
          "base_uri": "https://localhost:8080/"
        },
        "outputId": "671646cc-9ee8-4597-fb35-e57758068a53"
      },
      "execution_count": null,
      "outputs": [
        {
          "output_type": "execute_result",
          "data": {
            "text/plain": [
              "[('abby', (1, None)), ('abe', (1, None)), ('apple', (1, 5))]"
            ]
          },
          "metadata": {},
          "execution_count": 44
        }
      ]
    },
    {
      "cell_type": "code",
      "source": [
        "names1.rightOuterJoin(names2).collect() #wszystkie z prawej"
      ],
      "metadata": {
        "id": "q2LhVi5LhZaJ",
        "colab": {
          "base_uri": "https://localhost:8080/"
        },
        "outputId": "1dd3b6c7-841c-48a7-90e8-983b7a6f1c99"
      },
      "execution_count": null,
      "outputs": [
        {
          "output_type": "execute_result",
          "data": {
            "text/plain": [
              "[('beatty', (None, 5)), ('beatrice', (None, 5)), ('apple', (1, 5))]"
            ]
          },
          "metadata": {},
          "execution_count": 45
        }
      ]
    },
    {
      "cell_type": "code",
      "source": [
        "names1.cartesian(names2).collect() #iloczyn kartezjański"
      ],
      "metadata": {
        "id": "5hPv2I6Hhbcg",
        "colab": {
          "base_uri": "https://localhost:8080/"
        },
        "outputId": "509094e7-4060-4a87-badb-b2451b8a0852"
      },
      "execution_count": null,
      "outputs": [
        {
          "output_type": "execute_result",
          "data": {
            "text/plain": [
              "[(('abe', 1), ('apple', 5)),\n",
              " (('abe', 1), ('beatty', 5)),\n",
              " (('abe', 1), ('beatrice', 5)),\n",
              " (('abby', 1), ('apple', 5)),\n",
              " (('apple', 1), ('apple', 5)),\n",
              " (('abby', 1), ('beatty', 5)),\n",
              " (('abby', 1), ('beatrice', 5)),\n",
              " (('apple', 1), ('beatty', 5)),\n",
              " (('apple', 1), ('beatrice', 5))]"
            ]
          },
          "metadata": {},
          "execution_count": 46
        }
      ]
    },
    {
      "cell_type": "markdown",
      "source": [
        "###Zapis do jednego pliku (użycie coalesce)"
      ],
      "metadata": {
        "id": "UR-tc7e4hv1z"
      }
    },
    {
      "cell_type": "code",
      "source": [
        "wynik = names1.cartesian(names2)"
      ],
      "metadata": {
        "id": "uflCBhCKhxDf"
      },
      "execution_count": null,
      "outputs": []
    },
    {
      "cell_type": "code",
      "source": [
        "type(wynik)"
      ],
      "metadata": {
        "id": "quQhlyKLiRiO",
        "colab": {
          "base_uri": "https://localhost:8080/",
          "height": 174
        },
        "outputId": "85e53884-03bb-401c-f0cb-deaa08ac1213"
      },
      "execution_count": null,
      "outputs": [
        {
          "output_type": "execute_result",
          "data": {
            "text/plain": [
              "pyspark.rdd.RDD"
            ],
            "text/html": [
              "<div style=\"max-width:800px; border: 1px solid var(--colab-border-color);\"><style>\n",
              "      pre.function-repr-contents {\n",
              "        overflow-x: auto;\n",
              "        padding: 8px 12px;\n",
              "        max-height: 500px;\n",
              "      }\n",
              "\n",
              "      pre.function-repr-contents.function-repr-contents-collapsed {\n",
              "        cursor: pointer;\n",
              "        max-height: 100px;\n",
              "      }\n",
              "    </style>\n",
              "    <pre style=\"white-space: initial; background:\n",
              "         var(--colab-secondary-surface-color); padding: 8px 12px;\n",
              "         border-bottom: 1px solid var(--colab-border-color);\"><b>pyspark.rdd.RDD</b><br/>def __init__(jrdd: &#x27;JavaObject&#x27;, ctx: &#x27;SparkContext&#x27;, jrdd_deserializer: Serializer=AutoBatchedSerializer(CPickleSerializer()))</pre><pre class=\"function-repr-contents function-repr-contents-collapsed\" style=\"\"><a class=\"filepath\" style=\"display:none\" href=\"#\">/usr/local/lib/python3.10/dist-packages/pyspark/rdd.py</a>A Resilient Distributed Dataset (RDD), the basic abstraction in Spark.\n",
              "Represents an immutable, partitioned collection of elements that can be\n",
              "operated on in parallel.</pre>\n",
              "      <script>\n",
              "      if (google.colab.kernel.accessAllowed && google.colab.files && google.colab.files.view) {\n",
              "        for (const element of document.querySelectorAll('.filepath')) {\n",
              "          element.style.display = 'block'\n",
              "          element.onclick = (event) => {\n",
              "            event.preventDefault();\n",
              "            event.stopPropagation();\n",
              "            google.colab.files.view(element.textContent, 336);\n",
              "          };\n",
              "        }\n",
              "      }\n",
              "      for (const element of document.querySelectorAll('.function-repr-contents')) {\n",
              "        element.onclick = (event) => {\n",
              "          event.preventDefault();\n",
              "          event.stopPropagation();\n",
              "          element.classList.toggle('function-repr-contents-collapsed');\n",
              "        };\n",
              "      }\n",
              "      </script>\n",
              "      </div>"
            ]
          },
          "metadata": {},
          "execution_count": 48
        }
      ]
    },
    {
      "cell_type": "code",
      "source": [
        "wynik.saveAsTextFile('wynik.txt')\n",
        "#stworzenie katalogu z 4 plikami part (ponieważ maszyna ma 4 rdzenie i może prowadzić rozproszone obliczenia)"
      ],
      "metadata": {
        "id": "uW29x06GiSr0"
      },
      "execution_count": null,
      "outputs": []
    },
    {
      "cell_type": "code",
      "source": [
        "!cat wynik.txt/part-00000"
      ],
      "metadata": {
        "id": "j_j0ZUaFiX_Q",
        "colab": {
          "base_uri": "https://localhost:8080/"
        },
        "outputId": "bcad2f2e-a21e-4aab-a58c-6f769c8e61b8"
      },
      "execution_count": null,
      "outputs": [
        {
          "output_type": "stream",
          "name": "stdout",
          "text": [
            "(('abe', 1), ('apple', 5))\n"
          ]
        }
      ]
    },
    {
      "cell_type": "code",
      "source": [
        "wynik.coalesce(1).saveAsTextFile('wynik_one_partition.txt')"
      ],
      "metadata": {
        "id": "1tWRo2tZii7N"
      },
      "execution_count": null,
      "outputs": []
    },
    {
      "cell_type": "code",
      "source": [
        "!cat wynik_one_partition.txt/part-00000"
      ],
      "metadata": {
        "id": "cnozON85irqS",
        "colab": {
          "base_uri": "https://localhost:8080/"
        },
        "outputId": "33717c32-1066-42dd-c55b-04baf955df35"
      },
      "execution_count": null,
      "outputs": [
        {
          "output_type": "stream",
          "name": "stdout",
          "text": [
            "(('abe', 1), ('apple', 5))\n",
            "(('abe', 1), ('beatty', 5))\n",
            "(('abe', 1), ('beatrice', 5))\n",
            "(('abby', 1), ('apple', 5))\n",
            "(('apple', 1), ('apple', 5))\n",
            "(('abby', 1), ('beatty', 5))\n",
            "(('abby', 1), ('beatrice', 5))\n",
            "(('apple', 1), ('beatty', 5))\n",
            "(('apple', 1), ('beatrice', 5))\n"
          ]
        }
      ]
    },
    {
      "cell_type": "markdown",
      "source": [
        "###Zadanie 2\n",
        "1. Stwórz zmienną w rozproszonym środowisku Sparka (RDD), która zawiera liczby od jeden do miliona\n",
        "2. Usuń z tej zmiennej liczby, które mają resztę z dzielenia przez 5 mniejszą niż 2\n",
        "3. Wylosuj 1% rekordów z uzyskanego RDD bez zwracania z ziarnem losowości 12345\n",
        "4. Zapisz na lokalnym systemie plików do jednego pliku tekstowego\n",
        "5. Odczytaj pierwsze 3 liczby z zapisanego pliku"
      ],
      "metadata": {
        "id": "-AyBZ3_0j2e-"
      }
    },
    {
      "cell_type": "code",
      "source": [
        "#kod\n",
        "# 1 Stwórz zmienną w rozproszonym środowisku Sparka (RDD), która zawiera liczby od jeden do miliona\n",
        "milion = sc.parallelize(range(1, 1000001))"
      ],
      "metadata": {
        "id": "qCf3wajA17xB"
      },
      "execution_count": null,
      "outputs": []
    },
    {
      "cell_type": "code",
      "source": [
        "#2 Usuń z tej zmiennej liczby, które mają resztę z dzielenia przez 5 mniejszą niż 2\n",
        "\n",
        "milion_filtered = milion.filter(lambda x: x % 5 >= 2)"
      ],
      "metadata": {
        "id": "X16Jsx4SoWA9"
      },
      "execution_count": null,
      "outputs": []
    },
    {
      "cell_type": "code",
      "source": [
        "milion_filtered.take(10)"
      ],
      "metadata": {
        "colab": {
          "base_uri": "https://localhost:8080/"
        },
        "id": "oMNtijEtpf5P",
        "outputId": "30ef766d-345c-474d-fd0d-018832ac727f"
      },
      "execution_count": null,
      "outputs": [
        {
          "output_type": "execute_result",
          "data": {
            "text/plain": [
              "[2, 3, 4, 7, 8, 9, 12, 13, 14, 17]"
            ]
          },
          "metadata": {},
          "execution_count": 56
        }
      ]
    },
    {
      "cell_type": "code",
      "source": [
        "# 3 Wylosuj 1% rekordów z uzyskanego RDD bez zwracania z ziarnem losowości 12345\n",
        "\n",
        "probka = milion_filtered.sample(False, .01, 12345)"
      ],
      "metadata": {
        "id": "dECNngcnpsdo"
      },
      "execution_count": null,
      "outputs": []
    },
    {
      "cell_type": "code",
      "source": [
        "# 4 Zapisz na lokalnym systemie plików do jednego pliku tekstowego\n",
        "\n",
        "probka.saveAsTextFile('probka_zad2.txt')"
      ],
      "metadata": {
        "id": "MH_1nHYzqIhc"
      },
      "execution_count": null,
      "outputs": []
    },
    {
      "cell_type": "code",
      "source": [
        "probka.coalesce(1).saveAsTextFile('probka_one_partition.txt')"
      ],
      "metadata": {
        "id": "ObzsNuyEqfJQ"
      },
      "execution_count": null,
      "outputs": []
    },
    {
      "cell_type": "code",
      "source": [
        "# 5 Odczytaj pierwsze 3 liczby z zapisanego pliku\n",
        "\n",
        "!head -3 probka_one_partition.txt/part-00000 # Wynik jest poprawny"
      ],
      "metadata": {
        "colab": {
          "base_uri": "https://localhost:8080/"
        },
        "id": "vwovhkuLrpJC",
        "outputId": "795c18b2-ce86-4030-d012-07b8b1b67ed9"
      },
      "execution_count": null,
      "outputs": [
        {
          "output_type": "stream",
          "name": "stdout",
          "text": [
            "34\n",
            "79\n",
            "233\n"
          ]
        }
      ]
    },
    {
      "cell_type": "markdown",
      "source": [
        "###groupByKey"
      ],
      "metadata": {
        "id": "vFEB6z1zqt6V"
      }
    },
    {
      "cell_type": "code",
      "source": [
        "!head -5 baby.csv"
      ],
      "metadata": {
        "id": "tP6HlQnIrAsK",
        "colab": {
          "base_uri": "https://localhost:8080/"
        },
        "outputId": "05bcafed-ef93-4411-ed5d-27e10d50b844"
      },
      "execution_count": null,
      "outputs": [
        {
          "output_type": "stream",
          "name": "stdout",
          "text": [
            "Year,First Name,County,Sex,Count\n",
            "2013,DAVID,KINGS,M,272\n",
            "2013,JAYDEN,KINGS,M,268\n",
            "2013,JAYDEN,QUEENS,M,219\n",
            "2013,MOSHE,KINGS,M,219\n"
          ]
        }
      ]
    },
    {
      "cell_type": "code",
      "source": [
        "baby_names = sc.textFile('baby.csv')"
      ],
      "metadata": {
        "id": "tpmMZ-P6rCUg"
      },
      "execution_count": null,
      "outputs": []
    },
    {
      "cell_type": "code",
      "source": [
        "baby_names_no_header = baby_names.filter(lambda x: x!='Year,First Name,County,Sex,Count')"
      ],
      "metadata": {
        "id": "HitD8EsHrhJe"
      },
      "execution_count": null,
      "outputs": []
    },
    {
      "cell_type": "code",
      "source": [
        "baby_names_no_header.take(10)"
      ],
      "metadata": {
        "id": "ICpX7K-Kr6y_",
        "colab": {
          "base_uri": "https://localhost:8080/"
        },
        "outputId": "b1fced2a-4749-480e-b6ac-5caa6ec68ede"
      },
      "execution_count": null,
      "outputs": [
        {
          "output_type": "execute_result",
          "data": {
            "text/plain": [
              "['2013,DAVID,KINGS,M,272',\n",
              " '2013,JAYDEN,KINGS,M,268',\n",
              " '2013,JAYDEN,QUEENS,M,219',\n",
              " '2013,MOSHE,KINGS,M,219',\n",
              " '2013,ETHAN,QUEENS,M,216',\n",
              " '2013,SOPHIA,QUEENS,F,204',\n",
              " '2013,DANIEL,QUEENS,M,203',\n",
              " '2013,JACOB,KINGS,M,202',\n",
              " '2013,ESTHER,KINGS,F,196',\n",
              " '2013,ETHAN,KINGS,M,196']"
            ]
          },
          "metadata": {},
          "execution_count": 64
        }
      ]
    },
    {
      "cell_type": "code",
      "source": [
        "rows = baby_names_no_header.map(lambda x: x.split(','))"
      ],
      "metadata": {
        "id": "BntNmKDfrDlH"
      },
      "execution_count": null,
      "outputs": []
    },
    {
      "cell_type": "code",
      "source": [
        "rows.take(10)"
      ],
      "metadata": {
        "id": "XGo0iPO6rGvp",
        "colab": {
          "base_uri": "https://localhost:8080/"
        },
        "outputId": "346d202f-7f0c-4ae4-bf1d-1c1b8af6132b"
      },
      "execution_count": null,
      "outputs": [
        {
          "output_type": "execute_result",
          "data": {
            "text/plain": [
              "[['2013', 'DAVID', 'KINGS', 'M', '272'],\n",
              " ['2013', 'JAYDEN', 'KINGS', 'M', '268'],\n",
              " ['2013', 'JAYDEN', 'QUEENS', 'M', '219'],\n",
              " ['2013', 'MOSHE', 'KINGS', 'M', '219'],\n",
              " ['2013', 'ETHAN', 'QUEENS', 'M', '216'],\n",
              " ['2013', 'SOPHIA', 'QUEENS', 'F', '204'],\n",
              " ['2013', 'DANIEL', 'QUEENS', 'M', '203'],\n",
              " ['2013', 'JACOB', 'KINGS', 'M', '202'],\n",
              " ['2013', 'ESTHER', 'KINGS', 'F', '196'],\n",
              " ['2013', 'ETHAN', 'KINGS', 'M', '196']]"
            ]
          },
          "metadata": {},
          "execution_count": 66
        }
      ]
    },
    {
      "cell_type": "code",
      "source": [
        "#W jakich hrabstwach występuje dane imię"
      ],
      "metadata": {
        "id": "Dw6itfSIqvHN"
      },
      "execution_count": null,
      "outputs": []
    },
    {
      "cell_type": "code",
      "source": [
        "(rows\n",
        " .map(lambda x: (x[1], x[2]))\n",
        " .groupByKey()\n",
        " .map(lambda x: {x[0]: list(x[1])})\n",
        " ).collect()"
      ],
      "metadata": {
        "id": "jwzyVi_NqxTo",
        "colab": {
          "base_uri": "https://localhost:8080/"
        },
        "outputId": "4983f4d0-8e1c-4ed8-e816-962901aecdbb"
      },
      "execution_count": null,
      "outputs": [
        {
          "output_type": "execute_result",
          "data": {
            "text/plain": [
              "[{'JAYDEN': ['KINGS', 'QUEENS']},\n",
              " {'ETHAN': ['QUEENS', 'KINGS']},\n",
              " {'SOPHIA': ['QUEENS']},\n",
              " {'DANIEL': ['QUEENS', 'KINGS']},\n",
              " {'ESTHER': ['KINGS']},\n",
              " {'ISABELLA': ['QUEENS']},\n",
              " {'AIDEN': ['KINGS']},\n",
              " {'NOAH': ['KINGS']},\n",
              " {'JOSEPH': ['KINGS']},\n",
              " {'DAVID': ['KINGS']},\n",
              " {'MOSHE': ['KINGS']},\n",
              " {'JACOB': ['KINGS', 'QUEENS']},\n",
              " {'LEAH': ['KINGS']},\n",
              " {'MATTHEW': ['QUEENS']}]"
            ]
          },
          "metadata": {},
          "execution_count": 67
        }
      ]
    },
    {
      "cell_type": "markdown",
      "source": [
        "###reduceByKey"
      ],
      "metadata": {
        "id": "v3XYYc2itaTy"
      }
    },
    {
      "cell_type": "code",
      "source": [
        "rows.take(20)"
      ],
      "metadata": {
        "id": "0UVt41PVtavp",
        "colab": {
          "base_uri": "https://localhost:8080/"
        },
        "outputId": "aedbd8a3-9c03-4c28-9b27-2f0bfbe58b1b"
      },
      "execution_count": null,
      "outputs": [
        {
          "output_type": "execute_result",
          "data": {
            "text/plain": [
              "[['2013', 'DAVID', 'KINGS', 'M', '272'],\n",
              " ['2013', 'JAYDEN', 'KINGS', 'M', '268'],\n",
              " ['2013', 'JAYDEN', 'QUEENS', 'M', '219'],\n",
              " ['2013', 'MOSHE', 'KINGS', 'M', '219'],\n",
              " ['2013', 'ETHAN', 'QUEENS', 'M', '216'],\n",
              " ['2013', 'SOPHIA', 'QUEENS', 'F', '204'],\n",
              " ['2013', 'DANIEL', 'QUEENS', 'M', '203'],\n",
              " ['2013', 'JACOB', 'KINGS', 'M', '202'],\n",
              " ['2013', 'ESTHER', 'KINGS', 'F', '196'],\n",
              " ['2013', 'ETHAN', 'KINGS', 'M', '196'],\n",
              " ['2013', 'ISABELLA', 'QUEENS', 'F', '192'],\n",
              " ['2013', 'DANIEL', 'KINGS', 'M', '188'],\n",
              " ['2013', 'JACOB', 'QUEENS', 'M', '186'],\n",
              " ['2013', 'AIDEN', 'KINGS', 'M', '182'],\n",
              " ['2013', 'LEAH', 'KINGS', 'F', '179'],\n",
              " ['2013', 'NOAH', 'KINGS', 'M', '168'],\n",
              " ['2013', 'JOSEPH', 'KINGS', 'M', '166'],\n",
              " ['2013', 'MATTHEW', 'QUEENS', 'M', '161']]"
            ]
          },
          "metadata": {},
          "execution_count": 68
        }
      ]
    },
    {
      "cell_type": "code",
      "source": [
        "#Ile razy dane imię wystąpiło we wszystkich hrabstwach"
      ],
      "metadata": {
        "id": "kYJCcQqhtdNa"
      },
      "execution_count": null,
      "outputs": []
    },
    {
      "cell_type": "code",
      "source": [
        "#?rows.reduceByKey()"
      ],
      "metadata": {
        "id": "4sxR4WvutfCJ"
      },
      "execution_count": null,
      "outputs": []
    },
    {
      "cell_type": "code",
      "source": [
        "(rows\n",
        " .map(lambda x: (x[1],int(x[4])))\n",
        " .reduceByKey(lambda x,y: x+y)\n",
        ").collect()\n",
        "\n",
        "# ważne żeby funkcja redukująca była przemienna (dodawanie, mnożenie)"
      ],
      "metadata": {
        "id": "ZMOLjVhLtn7S",
        "colab": {
          "base_uri": "https://localhost:8080/"
        },
        "outputId": "abd84adf-0ded-4fe1-8b29-32c6f41dfcfb"
      },
      "execution_count": null,
      "outputs": [
        {
          "output_type": "execute_result",
          "data": {
            "text/plain": [
              "[('JAYDEN', 487),\n",
              " ('ETHAN', 412),\n",
              " ('SOPHIA', 204),\n",
              " ('DANIEL', 391),\n",
              " ('ESTHER', 196),\n",
              " ('ISABELLA', 192),\n",
              " ('AIDEN', 182),\n",
              " ('NOAH', 168),\n",
              " ('JOSEPH', 166),\n",
              " ('DAVID', 272),\n",
              " ('MOSHE', 219),\n",
              " ('JACOB', 388),\n",
              " ('LEAH', 179),\n",
              " ('MATTHEW', 161)]"
            ]
          },
          "metadata": {},
          "execution_count": 69
        }
      ]
    },
    {
      "cell_type": "markdown",
      "source": [
        "###Reduce + flatMap"
      ],
      "metadata": {
        "id": "JP4XlFcSuw3w"
      }
    },
    {
      "cell_type": "code",
      "source": [
        "x1 = sc.parallelize(['kot','pies','zajac', 'niedzwiedz'])\n",
        "x2 = sc.parallelize(['wilk','pies','dzik', 'bocian'])"
      ],
      "metadata": {
        "id": "028zT-mpuxqY"
      },
      "execution_count": null,
      "outputs": []
    },
    {
      "cell_type": "code",
      "source": [
        "x1.reduce(lambda x,y: x + '_' + y)"
      ],
      "metadata": {
        "id": "rfIAZpWeuzip",
        "colab": {
          "base_uri": "https://localhost:8080/",
          "height": 35
        },
        "outputId": "4cf42bc1-4cb8-4687-868b-cfd35204b513"
      },
      "execution_count": null,
      "outputs": [
        {
          "output_type": "execute_result",
          "data": {
            "text/plain": [
              "'kot_pies_zajac_niedzwiedz'"
            ],
            "application/vnd.google.colaboratory.intrinsic+json": {
              "type": "string"
            }
          },
          "metadata": {},
          "execution_count": 71
        }
      ]
    },
    {
      "cell_type": "code",
      "source": [
        "#łączna liczba znaków we wszystkich wyrazach w x1"
      ],
      "metadata": {
        "id": "ksh9VBhJvIqd"
      },
      "execution_count": null,
      "outputs": []
    },
    {
      "cell_type": "code",
      "source": [
        "(x1\n",
        " .map(lambda x: [x, len(x)])\n",
        " .map(lambda x: [x[1]])\n",
        " #.flatMap(lambda x: [x[1]])\n",
        ").take(10)\n",
        "\n",
        "# lista, w której są mniejsze listy (jeżeli używamy map)\n",
        "# w przypadku użycia flatmap \"redukujemy\" jeden wymiar - w tym przypadku zostają nam wartości w liście"
      ],
      "metadata": {
        "colab": {
          "base_uri": "https://localhost:8080/"
        },
        "id": "StMCzim2uf76",
        "outputId": "5b770e44-e295-4a2f-b34e-8dd3fcf83cbc"
      },
      "execution_count": null,
      "outputs": [
        {
          "output_type": "execute_result",
          "data": {
            "text/plain": [
              "[[3], [4], [5], [10]]"
            ]
          },
          "metadata": {},
          "execution_count": 72
        }
      ]
    },
    {
      "cell_type": "code",
      "source": [
        "(x1\n",
        " .map(lambda x: [x, len(x)])\n",
        " .flatMap(lambda x: [x[1]])\n",
        ").reduce(lambda x, y: x + y)"
      ],
      "metadata": {
        "id": "2s815dB7vSsD",
        "colab": {
          "base_uri": "https://localhost:8080/"
        },
        "outputId": "5bc52f2c-0fde-4491-b7ff-0c4d74fe62e7"
      },
      "execution_count": null,
      "outputs": [
        {
          "output_type": "execute_result",
          "data": {
            "text/plain": [
              "22"
            ]
          },
          "metadata": {},
          "execution_count": 73
        }
      ]
    },
    {
      "cell_type": "markdown",
      "source": [
        "# Zajęcia 12.04.2023"
      ],
      "metadata": {
        "id": "CTJTh6LpYt1w"
      }
    },
    {
      "cell_type": "markdown",
      "source": [
        "###CountByKey"
      ],
      "metadata": {
        "id": "CsjCr0oEvikd"
      }
    },
    {
      "cell_type": "code",
      "source": [
        "x12 = x1.union(x2)\n",
        "x12.take(10)"
      ],
      "metadata": {
        "id": "bKy5LYKxvj_K",
        "colab": {
          "base_uri": "https://localhost:8080/"
        },
        "outputId": "5de2e490-14ca-4863-f580-b839e42d1365"
      },
      "execution_count": null,
      "outputs": [
        {
          "output_type": "execute_result",
          "data": {
            "text/plain": [
              "['kot', 'pies', 'zajac', 'niedzwiedz', 'wilk', 'pies', 'dzik', 'bocian']"
            ]
          },
          "metadata": {},
          "execution_count": 74
        }
      ]
    },
    {
      "cell_type": "code",
      "source": [
        "(x12\n",
        " .map(lambda x: (x, 'wartosc-wymagane-pole'))\n",
        " ).collect()"
      ],
      "metadata": {
        "id": "j11Muv0CvmWY",
        "colab": {
          "base_uri": "https://localhost:8080/"
        },
        "outputId": "d2ed089e-035d-49e2-dd3f-9f84d102c846"
      },
      "execution_count": null,
      "outputs": [
        {
          "output_type": "execute_result",
          "data": {
            "text/plain": [
              "[('kot', 'wartosc-wymagane-pole'),\n",
              " ('pies', 'wartosc-wymagane-pole'),\n",
              " ('zajac', 'wartosc-wymagane-pole'),\n",
              " ('niedzwiedz', 'wartosc-wymagane-pole'),\n",
              " ('wilk', 'wartosc-wymagane-pole'),\n",
              " ('pies', 'wartosc-wymagane-pole'),\n",
              " ('dzik', 'wartosc-wymagane-pole'),\n",
              " ('bocian', 'wartosc-wymagane-pole')]"
            ]
          },
          "metadata": {},
          "execution_count": 75
        }
      ]
    },
    {
      "cell_type": "code",
      "source": [
        "(x12\n",
        " .map(lambda x: (x, 'wartosc-wymagane-pole'))\n",
        " ).countByKey()\n",
        "\n",
        " # słownik, który jest obiektem sparkowym"
      ],
      "metadata": {
        "id": "mznBNBmjvoNc",
        "colab": {
          "base_uri": "https://localhost:8080/"
        },
        "outputId": "29d35bab-c307-496a-ec6e-adfa992163a0"
      },
      "execution_count": null,
      "outputs": [
        {
          "output_type": "execute_result",
          "data": {
            "text/plain": [
              "defaultdict(int,\n",
              "            {'kot': 1,\n",
              "             'pies': 2,\n",
              "             'zajac': 1,\n",
              "             'niedzwiedz': 1,\n",
              "             'wilk': 1,\n",
              "             'dzik': 1,\n",
              "             'bocian': 1})"
            ]
          },
          "metadata": {},
          "execution_count": 76
        }
      ]
    },
    {
      "cell_type": "code",
      "source": [
        "slownik = (x12\n",
        " .map(lambda x: (x, 'wartosc-wymagane-pole'))\n",
        " ).countByKey()"
      ],
      "metadata": {
        "id": "UM-GW6OgwW27"
      },
      "execution_count": null,
      "outputs": []
    },
    {
      "cell_type": "code",
      "source": [
        "x12_dict_python = dict(slownik)\n",
        "x12_dict_python\n",
        "\n",
        "# castowanie do słownika pythonowego"
      ],
      "metadata": {
        "id": "K5ZwRaC8vwTX",
        "colab": {
          "base_uri": "https://localhost:8080/"
        },
        "outputId": "9608f099-f606-4e41-f81e-819c74e7666d"
      },
      "execution_count": null,
      "outputs": [
        {
          "output_type": "execute_result",
          "data": {
            "text/plain": [
              "{'kot': 1,\n",
              " 'pies': 2,\n",
              " 'zajac': 1,\n",
              " 'niedzwiedz': 1,\n",
              " 'wilk': 1,\n",
              " 'dzik': 1,\n",
              " 'bocian': 1}"
            ]
          },
          "metadata": {},
          "execution_count": 78
        }
      ]
    },
    {
      "cell_type": "code",
      "source": [
        "x12_dict_python['pies']"
      ],
      "metadata": {
        "id": "RYj5uRYbwUdH",
        "colab": {
          "base_uri": "https://localhost:8080/"
        },
        "outputId": "6000ef1f-fcca-474c-895a-d060a2869e4f"
      },
      "execution_count": null,
      "outputs": [
        {
          "output_type": "execute_result",
          "data": {
            "text/plain": [
              "2"
            ]
          },
          "metadata": {},
          "execution_count": 79
        }
      ]
    },
    {
      "cell_type": "markdown",
      "source": [
        "###Broadcast"
      ],
      "metadata": {
        "id": "5OvdzP3DwkZh"
      }
    },
    {
      "cell_type": "code",
      "source": [
        "my_local_dict = {'cityX': [1,2,3],\n",
        "                 'cityY': [4,5,6]}"
      ],
      "metadata": {
        "id": "rhDtcHB5wjmp"
      },
      "execution_count": null,
      "outputs": []
    },
    {
      "cell_type": "code",
      "source": [
        "my_rdd = sc.parallelize(['cityX','cityY'])\n",
        "my_rdd.collect()"
      ],
      "metadata": {
        "id": "C_uQWfUkwmTa",
        "colab": {
          "base_uri": "https://localhost:8080/"
        },
        "outputId": "48d0b308-4fb7-484d-cf23-5ed35e8218b8"
      },
      "execution_count": null,
      "outputs": [
        {
          "output_type": "execute_result",
          "data": {
            "text/plain": [
              "['cityX', 'cityY']"
            ]
          },
          "metadata": {},
          "execution_count": 81
        }
      ]
    },
    {
      "cell_type": "code",
      "source": [
        "my_rdd.map(lambda x: (x, my_local_dict[x][2])).collect() #Złe podejście - zadziała na jednym komputerze, ale nie na clustrze komputerów"
      ],
      "metadata": {
        "id": "y7D8DU50wnd-",
        "colab": {
          "base_uri": "https://localhost:8080/"
        },
        "outputId": "f9a81e18-d8d0-4af7-9a52-58bc25f45a40"
      },
      "execution_count": null,
      "outputs": [
        {
          "output_type": "execute_result",
          "data": {
            "text/plain": [
              "[('cityX', 3), ('cityY', 6)]"
            ]
          },
          "metadata": {},
          "execution_count": 82
        }
      ]
    },
    {
      "cell_type": "code",
      "source": [
        "my_broadcasted_dict = sc.broadcast(my_local_dict) # zmienna broadcastowana - widziana przez cluster komputerów"
      ],
      "metadata": {
        "id": "0GZop-F_wqtK"
      },
      "execution_count": null,
      "outputs": []
    },
    {
      "cell_type": "code",
      "source": [
        "my_broadcasted_dict.value"
      ],
      "metadata": {
        "id": "i4c1bcSdwsVu",
        "colab": {
          "base_uri": "https://localhost:8080/"
        },
        "outputId": "0f463a13-de34-4993-eed0-1b0b39911825"
      },
      "execution_count": null,
      "outputs": [
        {
          "output_type": "execute_result",
          "data": {
            "text/plain": [
              "{'cityX': [1, 2, 3], 'cityY': [4, 5, 6]}"
            ]
          },
          "metadata": {},
          "execution_count": 84
        }
      ]
    },
    {
      "cell_type": "code",
      "source": [
        "my_rdd.map(lambda x: (x, my_broadcasted_dict.value[x][2])).collect() #Dobre podejście"
      ],
      "metadata": {
        "id": "tFkgSVdPwuLZ",
        "colab": {
          "base_uri": "https://localhost:8080/"
        },
        "outputId": "6a042b26-fbd7-4271-8a7e-1d2949cadbab"
      },
      "execution_count": null,
      "outputs": [
        {
          "output_type": "execute_result",
          "data": {
            "text/plain": [
              "[('cityX', 3), ('cityY', 6)]"
            ]
          },
          "metadata": {},
          "execution_count": 86
        }
      ]
    },
    {
      "cell_type": "markdown",
      "source": [
        "###Accumulators"
      ],
      "metadata": {
        "id": "WWJi18qqx8_H"
      }
    },
    {
      "cell_type": "code",
      "source": [
        "accumulator = sc.accumulator(0) #zmienna, która akumuluje wartości z innych maszyn"
      ],
      "metadata": {
        "id": "bgfguvH2x9ZJ"
      },
      "execution_count": null,
      "outputs": []
    },
    {
      "cell_type": "code",
      "source": [
        "accumulator.value"
      ],
      "metadata": {
        "id": "MLzzbcHmyDLk",
        "colab": {
          "base_uri": "https://localhost:8080/"
        },
        "outputId": "48b01a17-5455-4492-a8bb-acf0b1db8832"
      },
      "execution_count": null,
      "outputs": [
        {
          "output_type": "execute_result",
          "data": {
            "text/plain": [
              "0"
            ]
          },
          "metadata": {},
          "execution_count": 88
        }
      ]
    },
    {
      "cell_type": "code",
      "source": [
        "sc.parallelize([1,2,3,4]).foreach(lambda x: accumulator.add(x))"
      ],
      "metadata": {
        "id": "KW1V7qUXyD9O"
      },
      "execution_count": null,
      "outputs": []
    },
    {
      "cell_type": "code",
      "source": [
        "accumulator.value"
      ],
      "metadata": {
        "id": "9iBLfPQKyFZm",
        "colab": {
          "base_uri": "https://localhost:8080/"
        },
        "outputId": "407901f8-095d-4d57-86dc-9d561d91e496"
      },
      "execution_count": null,
      "outputs": [
        {
          "output_type": "execute_result",
          "data": {
            "text/plain": [
              "10"
            ]
          },
          "metadata": {},
          "execution_count": 90
        }
      ]
    },
    {
      "cell_type": "markdown",
      "source": [
        "###Zadanie 3 - wordcount\n",
        "1. Wczytaj plik TREASURE_ISLAND.txt z moodle do RDD\n",
        "2. wykonaj wordcount (jakie słowo ile razy wystąpiło)"
      ],
      "metadata": {
        "id": "dpVggmgQyTtM"
      }
    },
    {
      "cell_type": "code",
      "source": [
        "#kod"
      ],
      "metadata": {
        "id": "EXgex05519Ba"
      },
      "execution_count": null,
      "outputs": []
    },
    {
      "cell_type": "code",
      "source": [
        "# Wczytanie pliku tekstowego\n",
        "ksiazka = sc.textFile(\"TREASURE_ISLAND.txt\")"
      ],
      "metadata": {
        "id": "3_PJVVpmkhjN"
      },
      "execution_count": null,
      "outputs": []
    },
    {
      "cell_type": "code",
      "source": [
        "ksiazka.take(10)"
      ],
      "metadata": {
        "colab": {
          "base_uri": "https://localhost:8080/"
        },
        "id": "aPCqO9JOkKIp",
        "outputId": "ea07a9c4-1454-4236-cd53-296d545ada90"
      },
      "execution_count": null,
      "outputs": [
        {
          "output_type": "execute_result",
          "data": {
            "text/plain": [
              "['TREASURE ISLAND',\n",
              " '',\n",
              " ' To',\n",
              " 'S.L.O.,',\n",
              " 'an American gentleman',\n",
              " 'in accordance with whose classic taste',\n",
              " 'the following narrative has been designed,',\n",
              " 'it is now, in return for numerous delightful hours,',\n",
              " 'and with the kindest wishes,',\n",
              " 'dedicated']"
            ]
          },
          "metadata": {},
          "execution_count": 26
        }
      ]
    },
    {
      "cell_type": "code",
      "source": [
        "(ksiazka\n",
        " .flatMap(lambda x: x.split(' '))\n",
        " .filter(lambda x: x!= '')\n",
        " .map(lambda x: x.lower())\n",
        " .map(lambda x: (x, 1))\n",
        " .reduceByKey(lambda x,y: x+y)\n",
        ").take(10)"
      ],
      "metadata": {
        "colab": {
          "base_uri": "https://localhost:8080/"
        },
        "id": "p43jFr1Ajto5",
        "outputId": "f2ec21ea-318b-43be-de1d-63dabecc8922"
      },
      "execution_count": null,
      "outputs": [
        {
          "output_type": "execute_result",
          "data": {
            "text/plain": [
              "[('treasure', 7),\n",
              " ('s.l.o.,', 1),\n",
              " ('an', 30),\n",
              " ('gentleman', 2),\n",
              " ('in', 222),\n",
              " ('whose', 1),\n",
              " ('following', 5),\n",
              " ('narrative', 5),\n",
              " ('designed,', 1),\n",
              " ('is', 44)]"
            ]
          },
          "metadata": {},
          "execution_count": 27
        }
      ]
    },
    {
      "cell_type": "markdown",
      "source": [
        "##Spark SQL (DataFrames)"
      ],
      "metadata": {
        "id": "S77gpQjWZD7V"
      }
    },
    {
      "cell_type": "code",
      "source": [
        "!head -5 people.txt"
      ],
      "metadata": {
        "id": "qD4LFSpjZFHS",
        "colab": {
          "base_uri": "https://localhost:8080/"
        },
        "outputId": "abb97907-e34d-49ed-dc7a-63cbb3eb6cf1"
      },
      "execution_count": null,
      "outputs": [
        {
          "output_type": "stream",
          "name": "stdout",
          "text": [
            "Name,Age\n",
            "Michael, 29\n",
            "Andy, 30\n",
            "Justin, 19\n",
            "Filip, 99\n"
          ]
        }
      ]
    },
    {
      "cell_type": "code",
      "source": [
        "spark\n",
        "# do data frameów potrzebujemy spark session (wcześniej był to spark context)"
      ],
      "metadata": {
        "id": "6TdDodUBdgYB",
        "colab": {
          "base_uri": "https://localhost:8080/",
          "height": 219
        },
        "outputId": "16a81792-4e4d-4ff0-ebdc-6e6db15f96d3"
      },
      "execution_count": null,
      "outputs": [
        {
          "output_type": "execute_result",
          "data": {
            "text/plain": [
              "<pyspark.sql.session.SparkSession at 0x7cb962b1ac80>"
            ],
            "text/html": [
              "\n",
              "            <div>\n",
              "                <p><b>SparkSession - in-memory</b></p>\n",
              "                \n",
              "        <div>\n",
              "            <p><b>SparkContext</b></p>\n",
              "\n",
              "            <p><a href=\"http://ed7aafac604d:4040\">Spark UI</a></p>\n",
              "\n",
              "            <dl>\n",
              "              <dt>Version</dt>\n",
              "                <dd><code>v3.5.1</code></dd>\n",
              "              <dt>Master</dt>\n",
              "                <dd><code>local[*]</code></dd>\n",
              "              <dt>AppName</dt>\n",
              "                <dd><code>pyspark-shell</code></dd>\n",
              "            </dl>\n",
              "        </div>\n",
              "        \n",
              "            </div>\n",
              "        "
            ]
          },
          "metadata": {},
          "execution_count": 29
        }
      ]
    },
    {
      "cell_type": "code",
      "source": [
        "df = spark.read.csv('people.txt', header=True, sep=\",\")"
      ],
      "metadata": {
        "id": "a9BLInEucqba"
      },
      "execution_count": null,
      "outputs": []
    },
    {
      "cell_type": "code",
      "source": [
        "type(df)"
      ],
      "metadata": {
        "id": "FdS6QAiAcrFC",
        "colab": {
          "base_uri": "https://localhost:8080/",
          "height": 187
        },
        "outputId": "9cb953e1-76ea-4461-df2c-e4302d21b82c"
      },
      "execution_count": null,
      "outputs": [
        {
          "output_type": "execute_result",
          "data": {
            "text/plain": [
              "pyspark.sql.dataframe.DataFrame"
            ],
            "text/html": [
              "<div style=\"max-width:800px; border: 1px solid var(--colab-border-color);\"><style>\n",
              "      pre.function-repr-contents {\n",
              "        overflow-x: auto;\n",
              "        padding: 8px 12px;\n",
              "        max-height: 500px;\n",
              "      }\n",
              "\n",
              "      pre.function-repr-contents.function-repr-contents-collapsed {\n",
              "        cursor: pointer;\n",
              "        max-height: 100px;\n",
              "      }\n",
              "    </style>\n",
              "    <pre style=\"white-space: initial; background:\n",
              "         var(--colab-secondary-surface-color); padding: 8px 12px;\n",
              "         border-bottom: 1px solid var(--colab-border-color);\"><b>pyspark.sql.dataframe.DataFrame</b><br/>def __init__(jdf: JavaObject, sql_ctx: Union[&#x27;SQLContext&#x27;, &#x27;SparkSession&#x27;])</pre><pre class=\"function-repr-contents function-repr-contents-collapsed\" style=\"\"><a class=\"filepath\" style=\"display:none\" href=\"#\">/usr/local/lib/python3.10/dist-packages/pyspark/sql/dataframe.py</a>A distributed collection of data grouped into named columns.\n",
              "\n",
              ".. versionadded:: 1.3.0\n",
              "\n",
              ".. versionchanged:: 3.4.0\n",
              "    Supports Spark Connect.\n",
              "\n",
              "Examples\n",
              "--------\n",
              "A :class:`DataFrame` is equivalent to a relational table in Spark SQL,\n",
              "and can be created using various functions in :class:`SparkSession`:\n",
              "\n",
              "&gt;&gt;&gt; people = spark.createDataFrame([\n",
              "...     {&quot;deptId&quot;: 1, &quot;age&quot;: 40, &quot;name&quot;: &quot;Hyukjin Kwon&quot;, &quot;gender&quot;: &quot;M&quot;, &quot;salary&quot;: 50},\n",
              "...     {&quot;deptId&quot;: 1, &quot;age&quot;: 50, &quot;name&quot;: &quot;Takuya Ueshin&quot;, &quot;gender&quot;: &quot;M&quot;, &quot;salary&quot;: 100},\n",
              "...     {&quot;deptId&quot;: 2, &quot;age&quot;: 60, &quot;name&quot;: &quot;Xinrong Meng&quot;, &quot;gender&quot;: &quot;F&quot;, &quot;salary&quot;: 150},\n",
              "...     {&quot;deptId&quot;: 3, &quot;age&quot;: 20, &quot;name&quot;: &quot;Haejoon Lee&quot;, &quot;gender&quot;: &quot;M&quot;, &quot;salary&quot;: 200}\n",
              "... ])\n",
              "\n",
              "Once created, it can be manipulated using the various domain-specific-language\n",
              "(DSL) functions defined in: :class:`DataFrame`, :class:`Column`.\n",
              "\n",
              "To select a column from the :class:`DataFrame`, use the apply method:\n",
              "\n",
              "&gt;&gt;&gt; age_col = people.age\n",
              "\n",
              "A more concrete example:\n",
              "\n",
              "&gt;&gt;&gt; # To create DataFrame using SparkSession\n",
              "... department = spark.createDataFrame([\n",
              "...     {&quot;id&quot;: 1, &quot;name&quot;: &quot;PySpark&quot;},\n",
              "...     {&quot;id&quot;: 2, &quot;name&quot;: &quot;ML&quot;},\n",
              "...     {&quot;id&quot;: 3, &quot;name&quot;: &quot;Spark SQL&quot;}\n",
              "... ])\n",
              "\n",
              "&gt;&gt;&gt; people.filter(people.age &gt; 30).join(\n",
              "...     department, people.deptId == department.id).groupBy(\n",
              "...     department.name, &quot;gender&quot;).agg({&quot;salary&quot;: &quot;avg&quot;, &quot;age&quot;: &quot;max&quot;}).show()\n",
              "+-------+------+-----------+--------+\n",
              "|   name|gender|avg(salary)|max(age)|\n",
              "+-------+------+-----------+--------+\n",
              "|     ML|     F|      150.0|      60|\n",
              "|PySpark|     M|       75.0|      50|\n",
              "+-------+------+-----------+--------+\n",
              "\n",
              "Notes\n",
              "-----\n",
              "A DataFrame should only be created as described above. It should not be directly\n",
              "created via using the constructor.</pre>\n",
              "      <script>\n",
              "      if (google.colab.kernel.accessAllowed && google.colab.files && google.colab.files.view) {\n",
              "        for (const element of document.querySelectorAll('.filepath')) {\n",
              "          element.style.display = 'block'\n",
              "          element.onclick = (event) => {\n",
              "            event.preventDefault();\n",
              "            event.stopPropagation();\n",
              "            google.colab.files.view(element.textContent, 80);\n",
              "          };\n",
              "        }\n",
              "      }\n",
              "      for (const element of document.querySelectorAll('.function-repr-contents')) {\n",
              "        element.onclick = (event) => {\n",
              "          event.preventDefault();\n",
              "          event.stopPropagation();\n",
              "          element.classList.toggle('function-repr-contents-collapsed');\n",
              "        };\n",
              "      }\n",
              "      </script>\n",
              "      </div>"
            ]
          },
          "metadata": {},
          "execution_count": 33
        }
      ]
    },
    {
      "cell_type": "code",
      "source": [
        "df.show(100) #RDD - take() df - show(). Wyświetlanie pliku."
      ],
      "metadata": {
        "id": "Of9QZYIGcseI",
        "colab": {
          "base_uri": "https://localhost:8080/"
        },
        "outputId": "5698fecd-b189-434d-edeb-eb55eabe2624"
      },
      "execution_count": null,
      "outputs": [
        {
          "output_type": "stream",
          "name": "stdout",
          "text": [
            "+-------+---+\n",
            "|   Name|Age|\n",
            "+-------+---+\n",
            "|Michael| 29|\n",
            "|   Andy| 30|\n",
            "| Justin| 19|\n",
            "|  Filip| 99|\n",
            "+-------+---+\n",
            "\n"
          ]
        }
      ]
    },
    {
      "cell_type": "code",
      "source": [
        "df.storageLevel.useMemory #Sprawdzenie, czy data frame jest zaczytany do pamięci podręcznej"
      ],
      "metadata": {
        "id": "jbapBCtcczEl",
        "colab": {
          "base_uri": "https://localhost:8080/"
        },
        "outputId": "73f4329a-a3bb-4d47-99de-c7f09594f217"
      },
      "execution_count": null,
      "outputs": [
        {
          "output_type": "execute_result",
          "data": {
            "text/plain": [
              "False"
            ]
          },
          "metadata": {},
          "execution_count": 35
        }
      ]
    },
    {
      "cell_type": "code",
      "source": [
        "df.cache()"
      ],
      "metadata": {
        "id": "HS7dK_7Fdtdo",
        "colab": {
          "base_uri": "https://localhost:8080/"
        },
        "outputId": "c7867814-2aed-4e75-bb26-26f54f8abe2b"
      },
      "execution_count": null,
      "outputs": [
        {
          "output_type": "execute_result",
          "data": {
            "text/plain": [
              "DataFrame[Name: string, Age: string]"
            ]
          },
          "metadata": {},
          "execution_count": 36
        }
      ]
    },
    {
      "cell_type": "code",
      "source": [
        "df.storageLevel.useMemory"
      ],
      "metadata": {
        "id": "icATrcjAd255",
        "colab": {
          "base_uri": "https://localhost:8080/"
        },
        "outputId": "4babb26d-3f89-41a6-d39d-70464cf99a22"
      },
      "execution_count": null,
      "outputs": [
        {
          "output_type": "execute_result",
          "data": {
            "text/plain": [
              "True"
            ]
          },
          "metadata": {},
          "execution_count": 37
        }
      ]
    },
    {
      "cell_type": "code",
      "source": [
        "import pyspark.sql.functions as f"
      ],
      "metadata": {
        "id": "RiL4nnEyd48z"
      },
      "execution_count": null,
      "outputs": []
    },
    {
      "cell_type": "code",
      "source": [
        "x = df.select('Age', df['Age']+2, f.col('Age')+2).toPandas()"
      ],
      "metadata": {
        "id": "DIZrLboJd6rd"
      },
      "execution_count": null,
      "outputs": []
    },
    {
      "cell_type": "code",
      "source": [
        "x"
      ],
      "metadata": {
        "id": "-NcVD9b3eI0T",
        "colab": {
          "base_uri": "https://localhost:8080/",
          "height": 175
        },
        "outputId": "0dda2f5d-4483-454b-b029-4a7cbc5a47af"
      },
      "execution_count": null,
      "outputs": [
        {
          "output_type": "execute_result",
          "data": {
            "text/plain": [
              "   Age  (Age + 2)  (Age + 2)\n",
              "0   29       31.0       31.0\n",
              "1   30       32.0       32.0\n",
              "2   19       21.0       21.0\n",
              "3   99      101.0      101.0"
            ],
            "text/html": [
              "\n",
              "  <div id=\"df-1cbc61d7-3393-4f87-8c43-b31877f178ab\" class=\"colab-df-container\">\n",
              "    <div>\n",
              "<style scoped>\n",
              "    .dataframe tbody tr th:only-of-type {\n",
              "        vertical-align: middle;\n",
              "    }\n",
              "\n",
              "    .dataframe tbody tr th {\n",
              "        vertical-align: top;\n",
              "    }\n",
              "\n",
              "    .dataframe thead th {\n",
              "        text-align: right;\n",
              "    }\n",
              "</style>\n",
              "<table border=\"1\" class=\"dataframe\">\n",
              "  <thead>\n",
              "    <tr style=\"text-align: right;\">\n",
              "      <th></th>\n",
              "      <th>Age</th>\n",
              "      <th>(Age + 2)</th>\n",
              "      <th>(Age + 2)</th>\n",
              "    </tr>\n",
              "  </thead>\n",
              "  <tbody>\n",
              "    <tr>\n",
              "      <th>0</th>\n",
              "      <td>29</td>\n",
              "      <td>31.0</td>\n",
              "      <td>31.0</td>\n",
              "    </tr>\n",
              "    <tr>\n",
              "      <th>1</th>\n",
              "      <td>30</td>\n",
              "      <td>32.0</td>\n",
              "      <td>32.0</td>\n",
              "    </tr>\n",
              "    <tr>\n",
              "      <th>2</th>\n",
              "      <td>19</td>\n",
              "      <td>21.0</td>\n",
              "      <td>21.0</td>\n",
              "    </tr>\n",
              "    <tr>\n",
              "      <th>3</th>\n",
              "      <td>99</td>\n",
              "      <td>101.0</td>\n",
              "      <td>101.0</td>\n",
              "    </tr>\n",
              "  </tbody>\n",
              "</table>\n",
              "</div>\n",
              "    <div class=\"colab-df-buttons\">\n",
              "\n",
              "  <div class=\"colab-df-container\">\n",
              "    <button class=\"colab-df-convert\" onclick=\"convertToInteractive('df-1cbc61d7-3393-4f87-8c43-b31877f178ab')\"\n",
              "            title=\"Convert this dataframe to an interactive table.\"\n",
              "            style=\"display:none;\">\n",
              "\n",
              "  <svg xmlns=\"http://www.w3.org/2000/svg\" height=\"24px\" viewBox=\"0 -960 960 960\">\n",
              "    <path d=\"M120-120v-720h720v720H120Zm60-500h600v-160H180v160Zm220 220h160v-160H400v160Zm0 220h160v-160H400v160ZM180-400h160v-160H180v160Zm440 0h160v-160H620v160ZM180-180h160v-160H180v160Zm440 0h160v-160H620v160Z\"/>\n",
              "  </svg>\n",
              "    </button>\n",
              "\n",
              "  <style>\n",
              "    .colab-df-container {\n",
              "      display:flex;\n",
              "      gap: 12px;\n",
              "    }\n",
              "\n",
              "    .colab-df-convert {\n",
              "      background-color: #E8F0FE;\n",
              "      border: none;\n",
              "      border-radius: 50%;\n",
              "      cursor: pointer;\n",
              "      display: none;\n",
              "      fill: #1967D2;\n",
              "      height: 32px;\n",
              "      padding: 0 0 0 0;\n",
              "      width: 32px;\n",
              "    }\n",
              "\n",
              "    .colab-df-convert:hover {\n",
              "      background-color: #E2EBFA;\n",
              "      box-shadow: 0px 1px 2px rgba(60, 64, 67, 0.3), 0px 1px 3px 1px rgba(60, 64, 67, 0.15);\n",
              "      fill: #174EA6;\n",
              "    }\n",
              "\n",
              "    .colab-df-buttons div {\n",
              "      margin-bottom: 4px;\n",
              "    }\n",
              "\n",
              "    [theme=dark] .colab-df-convert {\n",
              "      background-color: #3B4455;\n",
              "      fill: #D2E3FC;\n",
              "    }\n",
              "\n",
              "    [theme=dark] .colab-df-convert:hover {\n",
              "      background-color: #434B5C;\n",
              "      box-shadow: 0px 1px 3px 1px rgba(0, 0, 0, 0.15);\n",
              "      filter: drop-shadow(0px 1px 2px rgba(0, 0, 0, 0.3));\n",
              "      fill: #FFFFFF;\n",
              "    }\n",
              "  </style>\n",
              "\n",
              "    <script>\n",
              "      const buttonEl =\n",
              "        document.querySelector('#df-1cbc61d7-3393-4f87-8c43-b31877f178ab button.colab-df-convert');\n",
              "      buttonEl.style.display =\n",
              "        google.colab.kernel.accessAllowed ? 'block' : 'none';\n",
              "\n",
              "      async function convertToInteractive(key) {\n",
              "        const element = document.querySelector('#df-1cbc61d7-3393-4f87-8c43-b31877f178ab');\n",
              "        const dataTable =\n",
              "          await google.colab.kernel.invokeFunction('convertToInteractive',\n",
              "                                                    [key], {});\n",
              "        if (!dataTable) return;\n",
              "\n",
              "        const docLinkHtml = 'Like what you see? Visit the ' +\n",
              "          '<a target=\"_blank\" href=https://colab.research.google.com/notebooks/data_table.ipynb>data table notebook</a>'\n",
              "          + ' to learn more about interactive tables.';\n",
              "        element.innerHTML = '';\n",
              "        dataTable['output_type'] = 'display_data';\n",
              "        await google.colab.output.renderOutput(dataTable, element);\n",
              "        const docLink = document.createElement('div');\n",
              "        docLink.innerHTML = docLinkHtml;\n",
              "        element.appendChild(docLink);\n",
              "      }\n",
              "    </script>\n",
              "  </div>\n",
              "\n",
              "\n",
              "<div id=\"df-94d0760b-3acd-45be-9c1d-2bef33e8f703\">\n",
              "  <button class=\"colab-df-quickchart\" onclick=\"quickchart('df-94d0760b-3acd-45be-9c1d-2bef33e8f703')\"\n",
              "            title=\"Suggest charts\"\n",
              "            style=\"display:none;\">\n",
              "\n",
              "<svg xmlns=\"http://www.w3.org/2000/svg\" height=\"24px\"viewBox=\"0 0 24 24\"\n",
              "     width=\"24px\">\n",
              "    <g>\n",
              "        <path d=\"M19 3H5c-1.1 0-2 .9-2 2v14c0 1.1.9 2 2 2h14c1.1 0 2-.9 2-2V5c0-1.1-.9-2-2-2zM9 17H7v-7h2v7zm4 0h-2V7h2v10zm4 0h-2v-4h2v4z\"/>\n",
              "    </g>\n",
              "</svg>\n",
              "  </button>\n",
              "\n",
              "<style>\n",
              "  .colab-df-quickchart {\n",
              "      --bg-color: #E8F0FE;\n",
              "      --fill-color: #1967D2;\n",
              "      --hover-bg-color: #E2EBFA;\n",
              "      --hover-fill-color: #174EA6;\n",
              "      --disabled-fill-color: #AAA;\n",
              "      --disabled-bg-color: #DDD;\n",
              "  }\n",
              "\n",
              "  [theme=dark] .colab-df-quickchart {\n",
              "      --bg-color: #3B4455;\n",
              "      --fill-color: #D2E3FC;\n",
              "      --hover-bg-color: #434B5C;\n",
              "      --hover-fill-color: #FFFFFF;\n",
              "      --disabled-bg-color: #3B4455;\n",
              "      --disabled-fill-color: #666;\n",
              "  }\n",
              "\n",
              "  .colab-df-quickchart {\n",
              "    background-color: var(--bg-color);\n",
              "    border: none;\n",
              "    border-radius: 50%;\n",
              "    cursor: pointer;\n",
              "    display: none;\n",
              "    fill: var(--fill-color);\n",
              "    height: 32px;\n",
              "    padding: 0;\n",
              "    width: 32px;\n",
              "  }\n",
              "\n",
              "  .colab-df-quickchart:hover {\n",
              "    background-color: var(--hover-bg-color);\n",
              "    box-shadow: 0 1px 2px rgba(60, 64, 67, 0.3), 0 1px 3px 1px rgba(60, 64, 67, 0.15);\n",
              "    fill: var(--button-hover-fill-color);\n",
              "  }\n",
              "\n",
              "  .colab-df-quickchart-complete:disabled,\n",
              "  .colab-df-quickchart-complete:disabled:hover {\n",
              "    background-color: var(--disabled-bg-color);\n",
              "    fill: var(--disabled-fill-color);\n",
              "    box-shadow: none;\n",
              "  }\n",
              "\n",
              "  .colab-df-spinner {\n",
              "    border: 2px solid var(--fill-color);\n",
              "    border-color: transparent;\n",
              "    border-bottom-color: var(--fill-color);\n",
              "    animation:\n",
              "      spin 1s steps(1) infinite;\n",
              "  }\n",
              "\n",
              "  @keyframes spin {\n",
              "    0% {\n",
              "      border-color: transparent;\n",
              "      border-bottom-color: var(--fill-color);\n",
              "      border-left-color: var(--fill-color);\n",
              "    }\n",
              "    20% {\n",
              "      border-color: transparent;\n",
              "      border-left-color: var(--fill-color);\n",
              "      border-top-color: var(--fill-color);\n",
              "    }\n",
              "    30% {\n",
              "      border-color: transparent;\n",
              "      border-left-color: var(--fill-color);\n",
              "      border-top-color: var(--fill-color);\n",
              "      border-right-color: var(--fill-color);\n",
              "    }\n",
              "    40% {\n",
              "      border-color: transparent;\n",
              "      border-right-color: var(--fill-color);\n",
              "      border-top-color: var(--fill-color);\n",
              "    }\n",
              "    60% {\n",
              "      border-color: transparent;\n",
              "      border-right-color: var(--fill-color);\n",
              "    }\n",
              "    80% {\n",
              "      border-color: transparent;\n",
              "      border-right-color: var(--fill-color);\n",
              "      border-bottom-color: var(--fill-color);\n",
              "    }\n",
              "    90% {\n",
              "      border-color: transparent;\n",
              "      border-bottom-color: var(--fill-color);\n",
              "    }\n",
              "  }\n",
              "</style>\n",
              "\n",
              "  <script>\n",
              "    async function quickchart(key) {\n",
              "      const quickchartButtonEl =\n",
              "        document.querySelector('#' + key + ' button');\n",
              "      quickchartButtonEl.disabled = true;  // To prevent multiple clicks.\n",
              "      quickchartButtonEl.classList.add('colab-df-spinner');\n",
              "      try {\n",
              "        const charts = await google.colab.kernel.invokeFunction(\n",
              "            'suggestCharts', [key], {});\n",
              "      } catch (error) {\n",
              "        console.error('Error during call to suggestCharts:', error);\n",
              "      }\n",
              "      quickchartButtonEl.classList.remove('colab-df-spinner');\n",
              "      quickchartButtonEl.classList.add('colab-df-quickchart-complete');\n",
              "    }\n",
              "    (() => {\n",
              "      let quickchartButtonEl =\n",
              "        document.querySelector('#df-94d0760b-3acd-45be-9c1d-2bef33e8f703 button');\n",
              "      quickchartButtonEl.style.display =\n",
              "        google.colab.kernel.accessAllowed ? 'block' : 'none';\n",
              "    })();\n",
              "  </script>\n",
              "</div>\n",
              "    </div>\n",
              "  </div>\n"
            ],
            "application/vnd.google.colaboratory.intrinsic+json": {
              "type": "dataframe",
              "variable_name": "x",
              "summary": "{\n  \"name\": \"x\",\n  \"rows\": 4,\n  \"fields\": [\n    {\n      \"column\": \"Age\",\n      \"properties\": {\n        \"dtype\": \"string\",\n        \"num_unique_values\": 4,\n        \"samples\": [\n          \" 30\",\n          \" 99\",\n          \" 29\"\n        ],\n        \"semantic_type\": \"\",\n        \"description\": \"\"\n      }\n    },\n    {\n      \"column\": \"(Age + 2)\",\n      \"properties\": {\n        \"dtype\": \"number\",\n        \"std\": 36.83634980106833,\n        \"min\": 21.0,\n        \"max\": 101.0,\n        \"num_unique_values\": 4,\n        \"samples\": [\n          32.0,\n          101.0,\n          31.0\n        ],\n        \"semantic_type\": \"\",\n        \"description\": \"\"\n      }\n    },\n    {\n      \"column\": \"(Age + 2)\",\n      \"properties\": {\n        \"dtype\": \"number\",\n        \"std\": 36.83634980106833,\n        \"min\": 21.0,\n        \"max\": 101.0,\n        \"num_unique_values\": 4,\n        \"samples\": [\n          32.0,\n          101.0,\n          31.0\n        ],\n        \"semantic_type\": \"\",\n        \"description\": \"\"\n      }\n    }\n  ]\n}"
            }
          },
          "metadata": {},
          "execution_count": 40
        }
      ]
    },
    {
      "cell_type": "code",
      "source": [
        "df.show(100)"
      ],
      "metadata": {
        "id": "s5EpfTLPeKOl",
        "colab": {
          "base_uri": "https://localhost:8080/"
        },
        "outputId": "658ed58b-d609-417d-ed79-e30af5525af3"
      },
      "execution_count": null,
      "outputs": [
        {
          "output_type": "stream",
          "name": "stdout",
          "text": [
            "+-------+---+\n",
            "|   Name|Age|\n",
            "+-------+---+\n",
            "|Michael| 29|\n",
            "|   Andy| 30|\n",
            "| Justin| 19|\n",
            "|  Filip| 99|\n",
            "+-------+---+\n",
            "\n"
          ]
        }
      ]
    },
    {
      "cell_type": "code",
      "source": [
        "(df\n",
        " .filter(f.col('Age') > 20)\n",
        " .filter(f.col('Name').startswith('F'))\n",
        " ).show(100)"
      ],
      "metadata": {
        "id": "-k0vFCaOfIH-",
        "colab": {
          "base_uri": "https://localhost:8080/"
        },
        "outputId": "116c9e5c-5be1-43c3-9994-ac32ed6e1f83"
      },
      "execution_count": null,
      "outputs": [
        {
          "output_type": "stream",
          "name": "stdout",
          "text": [
            "+-----+---+\n",
            "| Name|Age|\n",
            "+-----+---+\n",
            "|Filip| 99|\n",
            "+-----+---+\n",
            "\n"
          ]
        }
      ]
    },
    {
      "cell_type": "code",
      "source": [
        "df.groupBy('Name').count().show() # count(), mean() itd. - funkcje agregujące"
      ],
      "metadata": {
        "id": "ojGTi1n3fK08",
        "colab": {
          "base_uri": "https://localhost:8080/"
        },
        "outputId": "8816f0f4-c072-41dd-acc8-2b733054b4c7"
      },
      "execution_count": null,
      "outputs": [
        {
          "output_type": "stream",
          "name": "stdout",
          "text": [
            "+-------+-----+\n",
            "|   Name|count|\n",
            "+-------+-----+\n",
            "|Michael|    1|\n",
            "|  Filip|    1|\n",
            "|   Andy|    1|\n",
            "| Justin|    1|\n",
            "+-------+-----+\n",
            "\n"
          ]
        }
      ]
    },
    {
      "cell_type": "markdown",
      "source": [
        "###TempView / GlobalTempView (ala SQL)"
      ],
      "metadata": {
        "id": "mgDudeWfguSs"
      }
    },
    {
      "cell_type": "code",
      "source": [
        "# Tymczasowy widok jest dostępny w danej aplikacji\n",
        "# Globalny widok tymczasowy jest dostępny w całym clustrze kmputerów\n",
        "\n",
        "df.createOrReplaceTempView('people') # people - nazwa naszego df\n",
        "sqlDF = spark.sql(\"SELECT * FROM people WHERE Age>20 AND SUBSTR(Name,1,1)='F'\") #Wiek >20, Pierwsza litera kolumny Name zaczyna się na F\n",
        "sqlDF.show()"
      ],
      "metadata": {
        "id": "wGOWv-DMgcZY",
        "colab": {
          "base_uri": "https://localhost:8080/"
        },
        "outputId": "80c1a0b8-115e-4ae3-89ff-fa8426f6c87a"
      },
      "execution_count": null,
      "outputs": [
        {
          "output_type": "stream",
          "name": "stdout",
          "text": [
            "+-----+---+\n",
            "| Name|Age|\n",
            "+-----+---+\n",
            "|Filip| 99|\n",
            "+-----+---+\n",
            "\n"
          ]
        }
      ]
    },
    {
      "cell_type": "code",
      "source": [
        "df.createOrReplaceGlobalTempView('people_g')\n",
        "sqlDF = spark.sql(\"SELECT * FROM global_temp.people_g WHERE Age>20 AND SUBSTR(Name,1,1)='F'\")\n",
        "sqlDF.show()"
      ],
      "metadata": {
        "id": "labfDzb-gwdX",
        "colab": {
          "base_uri": "https://localhost:8080/"
        },
        "outputId": "5961cffe-9f71-4e76-f0e9-e1a5ce3e8657"
      },
      "execution_count": null,
      "outputs": [
        {
          "output_type": "stream",
          "name": "stdout",
          "text": [
            "+-----+---+\n",
            "| Name|Age|\n",
            "+-----+---+\n",
            "|Filip| 99|\n",
            "+-----+---+\n",
            "\n"
          ]
        }
      ]
    },
    {
      "cell_type": "markdown",
      "source": [
        "### rdd $\\mapsto$ DF"
      ],
      "metadata": {
        "id": "moJwOgKKhQOq"
      }
    },
    {
      "cell_type": "code",
      "source": [
        "lines = sc.textFile('people_noheader.txt')"
      ],
      "metadata": {
        "id": "jJ4-4mJFhWRu"
      },
      "execution_count": null,
      "outputs": []
    },
    {
      "cell_type": "code",
      "source": [
        "lines.take(10)"
      ],
      "metadata": {
        "id": "Ngu87hefhYnj",
        "colab": {
          "base_uri": "https://localhost:8080/"
        },
        "outputId": "fa0da2cc-f928-46eb-f91e-648ac582952c"
      },
      "execution_count": null,
      "outputs": [
        {
          "output_type": "execute_result",
          "data": {
            "text/plain": [
              "['Michael, 29', 'Andy, 30', 'Justin, 19', 'Filip, 99']"
            ]
          },
          "metadata": {},
          "execution_count": 49
        }
      ]
    },
    {
      "cell_type": "code",
      "source": [
        "parts = lines.map(lambda x: x.split(','))\n",
        "parts.take(10)"
      ],
      "metadata": {
        "id": "stzGItg3hZ8m",
        "colab": {
          "base_uri": "https://localhost:8080/"
        },
        "outputId": "98a875ac-c99b-4dc5-cfac-4b0d53a000d9"
      },
      "execution_count": null,
      "outputs": [
        {
          "output_type": "execute_result",
          "data": {
            "text/plain": [
              "[['Michael', ' 29'], ['Andy', ' 30'], ['Justin', ' 19'], ['Filip', ' 99']]"
            ]
          },
          "metadata": {},
          "execution_count": 50
        }
      ]
    },
    {
      "cell_type": "code",
      "source": [
        "parts = parts.map(lambda x: [x[0], int(x[1].strip())])\n",
        "parts.take(10)"
      ],
      "metadata": {
        "id": "9XlescsRh4u5",
        "colab": {
          "base_uri": "https://localhost:8080/"
        },
        "outputId": "42a8469f-a4ab-4d89-8959-36f7055ede2b"
      },
      "execution_count": null,
      "outputs": [
        {
          "output_type": "execute_result",
          "data": {
            "text/plain": [
              "[['Michael', 29], ['Andy', 30], ['Justin', 19], ['Filip', 99]]"
            ]
          },
          "metadata": {},
          "execution_count": 51
        }
      ]
    },
    {
      "cell_type": "code",
      "source": [
        "from pyspark.sql import Row"
      ],
      "metadata": {
        "id": "Ewo9gMlvh-WQ"
      },
      "execution_count": null,
      "outputs": []
    },
    {
      "cell_type": "code",
      "source": [
        "people = parts.map(lambda x: Row(Name=x[0], Age=x[1]))\n",
        "people.take(10)"
      ],
      "metadata": {
        "id": "L5oeBvOZiCTa",
        "colab": {
          "base_uri": "https://localhost:8080/"
        },
        "outputId": "b0667d03-aba8-4708-9ec5-85155e306376"
      },
      "execution_count": null,
      "outputs": [
        {
          "output_type": "execute_result",
          "data": {
            "text/plain": [
              "[Row(Name='Michael', Age=29),\n",
              " Row(Name='Andy', Age=30),\n",
              " Row(Name='Justin', Age=19),\n",
              " Row(Name='Filip', Age=99)]"
            ]
          },
          "metadata": {},
          "execution_count": 54
        }
      ]
    },
    {
      "cell_type": "code",
      "source": [
        "type(people)"
      ],
      "metadata": {
        "id": "8h7aDvI9iDW8",
        "colab": {
          "base_uri": "https://localhost:8080/",
          "height": 204
        },
        "outputId": "1172af23-276f-4d15-ea6d-6b4f1931c970"
      },
      "execution_count": null,
      "outputs": [
        {
          "output_type": "execute_result",
          "data": {
            "text/plain": [
              "pyspark.rdd.PipelinedRDD"
            ],
            "text/html": [
              "<div style=\"max-width:800px; border: 1px solid var(--colab-border-color);\"><style>\n",
              "      pre.function-repr-contents {\n",
              "        overflow-x: auto;\n",
              "        padding: 8px 12px;\n",
              "        max-height: 500px;\n",
              "      }\n",
              "\n",
              "      pre.function-repr-contents.function-repr-contents-collapsed {\n",
              "        cursor: pointer;\n",
              "        max-height: 100px;\n",
              "      }\n",
              "    </style>\n",
              "    <pre style=\"white-space: initial; background:\n",
              "         var(--colab-secondary-surface-color); padding: 8px 12px;\n",
              "         border-bottom: 1px solid var(--colab-border-color);\"><b>pyspark.rdd.PipelinedRDD</b><br/>def __init__(prev: RDD[T], func: Callable[[int, Iterable[T]], Iterable[U]], preservesPartitioning: bool=False, isFromBarrier: bool=False)</pre><pre class=\"function-repr-contents function-repr-contents-collapsed\" style=\"\"><a class=\"filepath\" style=\"display:none\" href=\"#\">/usr/local/lib/python3.10/dist-packages/pyspark/rdd.py</a>Examples\n",
              "--------\n",
              "Pipelined maps:\n",
              "\n",
              "&gt;&gt;&gt; rdd = sc.parallelize([1, 2, 3, 4])\n",
              "&gt;&gt;&gt; rdd.map(lambda x: 2 * x).cache().map(lambda x: 2 * x).collect()\n",
              "[4, 8, 12, 16]\n",
              "&gt;&gt;&gt; rdd.map(lambda x: 2 * x).map(lambda x: 2 * x).collect()\n",
              "[4, 8, 12, 16]\n",
              "\n",
              "Pipelined reduces:\n",
              "\n",
              "&gt;&gt;&gt; from operator import add\n",
              "&gt;&gt;&gt; rdd.map(lambda x: 2 * x).reduce(add)\n",
              "20\n",
              "&gt;&gt;&gt; rdd.flatMap(lambda x: [x, x]).reduce(add)\n",
              "20</pre>\n",
              "      <script>\n",
              "      if (google.colab.kernel.accessAllowed && google.colab.files && google.colab.files.view) {\n",
              "        for (const element of document.querySelectorAll('.filepath')) {\n",
              "          element.style.display = 'block'\n",
              "          element.onclick = (event) => {\n",
              "            event.preventDefault();\n",
              "            event.stopPropagation();\n",
              "            google.colab.files.view(element.textContent, 5395);\n",
              "          };\n",
              "        }\n",
              "      }\n",
              "      for (const element of document.querySelectorAll('.function-repr-contents')) {\n",
              "        element.onclick = (event) => {\n",
              "          event.preventDefault();\n",
              "          event.stopPropagation();\n",
              "          element.classList.toggle('function-repr-contents-collapsed');\n",
              "        };\n",
              "      }\n",
              "      </script>\n",
              "      </div>"
            ]
          },
          "metadata": {},
          "execution_count": 55
        }
      ]
    },
    {
      "cell_type": "code",
      "source": [
        "DFpeople = spark.createDataFrame(people) #Obiekt typu DataFrame"
      ],
      "metadata": {
        "id": "jYDKWltxiE_E"
      },
      "execution_count": null,
      "outputs": []
    },
    {
      "cell_type": "code",
      "source": [
        "type(DFpeople)"
      ],
      "metadata": {
        "id": "NrSYzFrhiGa6",
        "colab": {
          "base_uri": "https://localhost:8080/",
          "height": 187
        },
        "outputId": "ecd77e07-02fc-4bd9-fc16-09655ae29b73"
      },
      "execution_count": null,
      "outputs": [
        {
          "output_type": "execute_result",
          "data": {
            "text/plain": [
              "pyspark.sql.dataframe.DataFrame"
            ],
            "text/html": [
              "<div style=\"max-width:800px; border: 1px solid var(--colab-border-color);\"><style>\n",
              "      pre.function-repr-contents {\n",
              "        overflow-x: auto;\n",
              "        padding: 8px 12px;\n",
              "        max-height: 500px;\n",
              "      }\n",
              "\n",
              "      pre.function-repr-contents.function-repr-contents-collapsed {\n",
              "        cursor: pointer;\n",
              "        max-height: 100px;\n",
              "      }\n",
              "    </style>\n",
              "    <pre style=\"white-space: initial; background:\n",
              "         var(--colab-secondary-surface-color); padding: 8px 12px;\n",
              "         border-bottom: 1px solid var(--colab-border-color);\"><b>pyspark.sql.dataframe.DataFrame</b><br/>def __init__(jdf: JavaObject, sql_ctx: Union[&#x27;SQLContext&#x27;, &#x27;SparkSession&#x27;])</pre><pre class=\"function-repr-contents function-repr-contents-collapsed\" style=\"\"><a class=\"filepath\" style=\"display:none\" href=\"#\">/usr/local/lib/python3.10/dist-packages/pyspark/sql/dataframe.py</a>A distributed collection of data grouped into named columns.\n",
              "\n",
              ".. versionadded:: 1.3.0\n",
              "\n",
              ".. versionchanged:: 3.4.0\n",
              "    Supports Spark Connect.\n",
              "\n",
              "Examples\n",
              "--------\n",
              "A :class:`DataFrame` is equivalent to a relational table in Spark SQL,\n",
              "and can be created using various functions in :class:`SparkSession`:\n",
              "\n",
              "&gt;&gt;&gt; people = spark.createDataFrame([\n",
              "...     {&quot;deptId&quot;: 1, &quot;age&quot;: 40, &quot;name&quot;: &quot;Hyukjin Kwon&quot;, &quot;gender&quot;: &quot;M&quot;, &quot;salary&quot;: 50},\n",
              "...     {&quot;deptId&quot;: 1, &quot;age&quot;: 50, &quot;name&quot;: &quot;Takuya Ueshin&quot;, &quot;gender&quot;: &quot;M&quot;, &quot;salary&quot;: 100},\n",
              "...     {&quot;deptId&quot;: 2, &quot;age&quot;: 60, &quot;name&quot;: &quot;Xinrong Meng&quot;, &quot;gender&quot;: &quot;F&quot;, &quot;salary&quot;: 150},\n",
              "...     {&quot;deptId&quot;: 3, &quot;age&quot;: 20, &quot;name&quot;: &quot;Haejoon Lee&quot;, &quot;gender&quot;: &quot;M&quot;, &quot;salary&quot;: 200}\n",
              "... ])\n",
              "\n",
              "Once created, it can be manipulated using the various domain-specific-language\n",
              "(DSL) functions defined in: :class:`DataFrame`, :class:`Column`.\n",
              "\n",
              "To select a column from the :class:`DataFrame`, use the apply method:\n",
              "\n",
              "&gt;&gt;&gt; age_col = people.age\n",
              "\n",
              "A more concrete example:\n",
              "\n",
              "&gt;&gt;&gt; # To create DataFrame using SparkSession\n",
              "... department = spark.createDataFrame([\n",
              "...     {&quot;id&quot;: 1, &quot;name&quot;: &quot;PySpark&quot;},\n",
              "...     {&quot;id&quot;: 2, &quot;name&quot;: &quot;ML&quot;},\n",
              "...     {&quot;id&quot;: 3, &quot;name&quot;: &quot;Spark SQL&quot;}\n",
              "... ])\n",
              "\n",
              "&gt;&gt;&gt; people.filter(people.age &gt; 30).join(\n",
              "...     department, people.deptId == department.id).groupBy(\n",
              "...     department.name, &quot;gender&quot;).agg({&quot;salary&quot;: &quot;avg&quot;, &quot;age&quot;: &quot;max&quot;}).show()\n",
              "+-------+------+-----------+--------+\n",
              "|   name|gender|avg(salary)|max(age)|\n",
              "+-------+------+-----------+--------+\n",
              "|     ML|     F|      150.0|      60|\n",
              "|PySpark|     M|       75.0|      50|\n",
              "+-------+------+-----------+--------+\n",
              "\n",
              "Notes\n",
              "-----\n",
              "A DataFrame should only be created as described above. It should not be directly\n",
              "created via using the constructor.</pre>\n",
              "      <script>\n",
              "      if (google.colab.kernel.accessAllowed && google.colab.files && google.colab.files.view) {\n",
              "        for (const element of document.querySelectorAll('.filepath')) {\n",
              "          element.style.display = 'block'\n",
              "          element.onclick = (event) => {\n",
              "            event.preventDefault();\n",
              "            event.stopPropagation();\n",
              "            google.colab.files.view(element.textContent, 80);\n",
              "          };\n",
              "        }\n",
              "      }\n",
              "      for (const element of document.querySelectorAll('.function-repr-contents')) {\n",
              "        element.onclick = (event) => {\n",
              "          event.preventDefault();\n",
              "          event.stopPropagation();\n",
              "          element.classList.toggle('function-repr-contents-collapsed');\n",
              "        };\n",
              "      }\n",
              "      </script>\n",
              "      </div>"
            ]
          },
          "metadata": {},
          "execution_count": 57
        }
      ]
    },
    {
      "cell_type": "markdown",
      "source": [
        "###modyfikacja schema - sposob 1"
      ],
      "metadata": {
        "id": "7IwJFOW07mdS"
      }
    },
    {
      "cell_type": "code",
      "source": [
        "DFpeople.show()"
      ],
      "metadata": {
        "id": "PUpQNIPfiHvT",
        "colab": {
          "base_uri": "https://localhost:8080/"
        },
        "outputId": "7dc8adb5-7cfd-4c94-e779-912ff69cc729"
      },
      "execution_count": null,
      "outputs": [
        {
          "output_type": "stream",
          "name": "stdout",
          "text": [
            "+-------+---+\n",
            "|   Name|Age|\n",
            "+-------+---+\n",
            "|Michael| 29|\n",
            "|   Andy| 30|\n",
            "| Justin| 19|\n",
            "|  Filip| 99|\n",
            "+-------+---+\n",
            "\n"
          ]
        }
      ]
    },
    {
      "cell_type": "code",
      "source": [
        "DFpeople.printSchema()\n",
        "\n",
        "# Należy zmienić typ danych z long na int (zaoszczędzimy dzięki temu pamięć)"
      ],
      "metadata": {
        "id": "tuOE1XTuiJBX",
        "colab": {
          "base_uri": "https://localhost:8080/"
        },
        "outputId": "3fe92915-7f03-462a-960b-8c578b3e524a"
      },
      "execution_count": null,
      "outputs": [
        {
          "output_type": "stream",
          "name": "stdout",
          "text": [
            "root\n",
            " |-- Name: string (nullable = true)\n",
            " |-- Age: long (nullable = true)\n",
            "\n"
          ]
        }
      ]
    },
    {
      "cell_type": "code",
      "source": [
        "from pyspark.sql.types import *"
      ],
      "metadata": {
        "id": "F_c72a1SidEE"
      },
      "execution_count": null,
      "outputs": []
    },
    {
      "cell_type": "code",
      "source": [
        "fields = [StructField('Names', StringType()),\n",
        "          StructField('Age', IntegerType())]"
      ],
      "metadata": {
        "id": "98BCSSBHie1R"
      },
      "execution_count": null,
      "outputs": []
    },
    {
      "cell_type": "code",
      "source": [
        "# inicjowanie schema\n",
        "\n",
        "schema = StructType(fields)"
      ],
      "metadata": {
        "id": "hmHItXVLigUt"
      },
      "execution_count": null,
      "outputs": []
    },
    {
      "cell_type": "code",
      "source": [
        "schema"
      ],
      "metadata": {
        "id": "USIPdS2vih3q",
        "colab": {
          "base_uri": "https://localhost:8080/"
        },
        "outputId": "1b208137-8e6a-486a-80cb-a845d6b875d6"
      },
      "execution_count": null,
      "outputs": [
        {
          "output_type": "execute_result",
          "data": {
            "text/plain": [
              "StructType([StructField('Names', StringType(), True), StructField('Age', IntegerType(), True)])"
            ]
          },
          "metadata": {},
          "execution_count": 63
        }
      ]
    },
    {
      "cell_type": "code",
      "source": [
        "DFpeople = spark.createDataFrame(people, schema)"
      ],
      "metadata": {
        "id": "FJ7c9bcUijbg"
      },
      "execution_count": null,
      "outputs": []
    },
    {
      "cell_type": "code",
      "source": [
        "DFpeople.printSchema()"
      ],
      "metadata": {
        "id": "55oOYF4hilWm",
        "colab": {
          "base_uri": "https://localhost:8080/"
        },
        "outputId": "79da7359-e60d-4d94-9adc-4a02cab87b84"
      },
      "execution_count": null,
      "outputs": [
        {
          "output_type": "stream",
          "name": "stdout",
          "text": [
            "root\n",
            " |-- Names: string (nullable = true)\n",
            " |-- Age: integer (nullable = true)\n",
            "\n"
          ]
        }
      ]
    },
    {
      "cell_type": "code",
      "source": [
        "DFpeople.show()"
      ],
      "metadata": {
        "id": "yrqXUT8iimuC",
        "colab": {
          "base_uri": "https://localhost:8080/"
        },
        "outputId": "ad39ad13-afde-45c0-a841-9b2be48064b6"
      },
      "execution_count": null,
      "outputs": [
        {
          "output_type": "stream",
          "name": "stdout",
          "text": [
            "+-------+---+\n",
            "|  Names|Age|\n",
            "+-------+---+\n",
            "|Michael| 29|\n",
            "|   Andy| 30|\n",
            "| Justin| 19|\n",
            "|  Filip| 99|\n",
            "+-------+---+\n",
            "\n"
          ]
        }
      ]
    },
    {
      "cell_type": "code",
      "source": [
        "DFpeople.createOrReplaceTempView('people')"
      ],
      "metadata": {
        "id": "-b9kP1E1in2s"
      },
      "execution_count": null,
      "outputs": []
    },
    {
      "cell_type": "code",
      "source": [
        "x = spark.sql(\"SELECT * FROM people WHERE AGE >=20 AND AGE <=40\")"
      ],
      "metadata": {
        "id": "L-5q9w7yipVo"
      },
      "execution_count": null,
      "outputs": []
    },
    {
      "cell_type": "code",
      "source": [
        "x.show()"
      ],
      "metadata": {
        "id": "mmgU9SvFirMf",
        "colab": {
          "base_uri": "https://localhost:8080/"
        },
        "outputId": "1c1ac33d-faf7-4e99-cf6d-ffad7b7135b9"
      },
      "execution_count": null,
      "outputs": [
        {
          "output_type": "stream",
          "name": "stdout",
          "text": [
            "+-------+---+\n",
            "|  Names|Age|\n",
            "+-------+---+\n",
            "|Michael| 29|\n",
            "|   Andy| 30|\n",
            "+-------+---+\n",
            "\n"
          ]
        }
      ]
    },
    {
      "cell_type": "code",
      "source": [
        "DFpeople.printSchema()"
      ],
      "metadata": {
        "id": "Dv0FOj-gisaU",
        "colab": {
          "base_uri": "https://localhost:8080/"
        },
        "outputId": "07c9bbd5-657d-4855-964f-35bf11eff0fc"
      },
      "execution_count": null,
      "outputs": [
        {
          "output_type": "stream",
          "name": "stdout",
          "text": [
            "root\n",
            " |-- Names: string (nullable = true)\n",
            " |-- Age: integer (nullable = true)\n",
            "\n"
          ]
        }
      ]
    },
    {
      "cell_type": "markdown",
      "source": [
        "###modyfikacja schema - sposob 2"
      ],
      "metadata": {
        "id": "h9M0o0pd7ydr"
      }
    },
    {
      "cell_type": "code",
      "source": [
        "import pyspark.sql.functions as f"
      ],
      "metadata": {
        "id": "sGB8ZVjhivQt"
      },
      "execution_count": null,
      "outputs": []
    },
    {
      "cell_type": "code",
      "source": [
        "df = (DFpeople\n",
        "      .withColumn('Age', f.col('Age').cast(StringType())))"
      ],
      "metadata": {
        "id": "kdUPTrcgixko"
      },
      "execution_count": null,
      "outputs": []
    },
    {
      "cell_type": "code",
      "source": [
        "df.printSchema()"
      ],
      "metadata": {
        "id": "IEJZ7GZjiynd",
        "colab": {
          "base_uri": "https://localhost:8080/"
        },
        "outputId": "12a6e6be-2bc4-49ff-f4bb-ba3e50f51bbf"
      },
      "execution_count": null,
      "outputs": [
        {
          "output_type": "stream",
          "name": "stdout",
          "text": [
            "root\n",
            " |-- Names: string (nullable = true)\n",
            " |-- Age: string (nullable = true)\n",
            "\n"
          ]
        }
      ]
    },
    {
      "cell_type": "markdown",
      "source": [
        "###ładowanie df od razu ze zdefiniowana schema"
      ],
      "metadata": {
        "id": "YwxvNHhK72P3"
      }
    },
    {
      "cell_type": "code",
      "source": [
        "schema_for_people = StructType([StructField('Names', StringType()),\n",
        "                                StructField('Age', IntegerType())])"
      ],
      "metadata": {
        "id": "jg4XdOXR7Kmi"
      },
      "execution_count": null,
      "outputs": []
    },
    {
      "cell_type": "code",
      "source": [
        "df_with_schema = spark.read.csv(path='people_noheader.txt', schema=schema_for_people)"
      ],
      "metadata": {
        "id": "1CSLQIPiiztU"
      },
      "execution_count": null,
      "outputs": []
    },
    {
      "cell_type": "code",
      "source": [
        "df_with_schema.printSchema()"
      ],
      "metadata": {
        "id": "Zbyrn2OV79pw",
        "colab": {
          "base_uri": "https://localhost:8080/"
        },
        "outputId": "23ec6034-77f2-4546-ca28-bbd85b8e573b"
      },
      "execution_count": null,
      "outputs": [
        {
          "output_type": "stream",
          "name": "stdout",
          "text": [
            "root\n",
            " |-- Names: string (nullable = true)\n",
            " |-- Age: integer (nullable = true)\n",
            "\n"
          ]
        }
      ]
    },
    {
      "cell_type": "markdown",
      "source": [
        "### DF $\\mapsto$ RDD"
      ],
      "metadata": {
        "id": "uPcQQSLgDGn_"
      }
    },
    {
      "cell_type": "code",
      "source": [
        "df_with_schema.rdd.take(10)"
      ],
      "metadata": {
        "id": "XNS_ogX9DJME",
        "colab": {
          "base_uri": "https://localhost:8080/"
        },
        "outputId": "17b12404-57ae-4524-cc2c-383764517c1f"
      },
      "execution_count": null,
      "outputs": [
        {
          "output_type": "execute_result",
          "data": {
            "text/plain": [
              "[Row(Names='Michael', Age=None),\n",
              " Row(Names='Andy', Age=None),\n",
              " Row(Names='Justin', Age=None),\n",
              " Row(Names='Filip', Age=None)]"
            ]
          },
          "metadata": {},
          "execution_count": 77
        }
      ]
    },
    {
      "cell_type": "code",
      "source": [
        "names = df_with_schema.rdd.map(lambda x: x.Names).collect()"
      ],
      "metadata": {
        "id": "NBNyPvuzDKiW"
      },
      "execution_count": null,
      "outputs": []
    },
    {
      "cell_type": "code",
      "source": [
        "names"
      ],
      "metadata": {
        "id": "9SxpXhfyDMGe",
        "colab": {
          "base_uri": "https://localhost:8080/"
        },
        "outputId": "7157d7ae-1cf0-47a3-f73c-2834a46727f9"
      },
      "execution_count": null,
      "outputs": [
        {
          "output_type": "execute_result",
          "data": {
            "text/plain": [
              "['Michael', 'Andy', 'Justin', 'Filip']"
            ]
          },
          "metadata": {},
          "execution_count": 79
        }
      ]
    },
    {
      "cell_type": "code",
      "source": [
        "names = df_with_schema.rdd.map(lambda x: x[0]).collect()"
      ],
      "metadata": {
        "id": "bZewicMhDOEW"
      },
      "execution_count": null,
      "outputs": []
    },
    {
      "cell_type": "code",
      "source": [
        "names"
      ],
      "metadata": {
        "id": "OeHNtN6ADPhZ",
        "colab": {
          "base_uri": "https://localhost:8080/"
        },
        "outputId": "b5955e27-5f47-4e35-a511-14b3e518f3b1"
      },
      "execution_count": null,
      "outputs": [
        {
          "output_type": "execute_result",
          "data": {
            "text/plain": [
              "['Michael', 'Andy', 'Justin', 'Filip']"
            ]
          },
          "metadata": {},
          "execution_count": 81
        }
      ]
    },
    {
      "cell_type": "code",
      "source": [
        "rdd_with_tuple = df_with_schema.rdd.map(lambda x: (x[0], x[1]))"
      ],
      "metadata": {
        "id": "W0Lq08sRD4D9"
      },
      "execution_count": null,
      "outputs": []
    },
    {
      "cell_type": "code",
      "source": [
        "rdd_with_tuple.take(5)"
      ],
      "metadata": {
        "id": "MtD8PK-1EDhu",
        "colab": {
          "base_uri": "https://localhost:8080/"
        },
        "outputId": "a5a083cf-3753-4ec2-cde4-0bf5cc593d8c"
      },
      "execution_count": null,
      "outputs": [
        {
          "output_type": "execute_result",
          "data": {
            "text/plain": [
              "[('Michael', None), ('Andy', None), ('Justin', None), ('Filip', None)]"
            ]
          },
          "metadata": {},
          "execution_count": 83
        }
      ]
    },
    {
      "cell_type": "code",
      "source": [
        "type(rdd_with_tuple)"
      ],
      "metadata": {
        "id": "DHeTG7zgEFkE",
        "colab": {
          "base_uri": "https://localhost:8080/",
          "height": 204
        },
        "outputId": "5ad95eb6-61ce-44ac-9d40-a3d911f43b6b"
      },
      "execution_count": null,
      "outputs": [
        {
          "output_type": "execute_result",
          "data": {
            "text/plain": [
              "pyspark.rdd.PipelinedRDD"
            ],
            "text/html": [
              "<div style=\"max-width:800px; border: 1px solid var(--colab-border-color);\"><style>\n",
              "      pre.function-repr-contents {\n",
              "        overflow-x: auto;\n",
              "        padding: 8px 12px;\n",
              "        max-height: 500px;\n",
              "      }\n",
              "\n",
              "      pre.function-repr-contents.function-repr-contents-collapsed {\n",
              "        cursor: pointer;\n",
              "        max-height: 100px;\n",
              "      }\n",
              "    </style>\n",
              "    <pre style=\"white-space: initial; background:\n",
              "         var(--colab-secondary-surface-color); padding: 8px 12px;\n",
              "         border-bottom: 1px solid var(--colab-border-color);\"><b>pyspark.rdd.PipelinedRDD</b><br/>def __init__(prev: RDD[T], func: Callable[[int, Iterable[T]], Iterable[U]], preservesPartitioning: bool=False, isFromBarrier: bool=False)</pre><pre class=\"function-repr-contents function-repr-contents-collapsed\" style=\"\"><a class=\"filepath\" style=\"display:none\" href=\"#\">/usr/local/lib/python3.10/dist-packages/pyspark/rdd.py</a>Examples\n",
              "--------\n",
              "Pipelined maps:\n",
              "\n",
              "&gt;&gt;&gt; rdd = sc.parallelize([1, 2, 3, 4])\n",
              "&gt;&gt;&gt; rdd.map(lambda x: 2 * x).cache().map(lambda x: 2 * x).collect()\n",
              "[4, 8, 12, 16]\n",
              "&gt;&gt;&gt; rdd.map(lambda x: 2 * x).map(lambda x: 2 * x).collect()\n",
              "[4, 8, 12, 16]\n",
              "\n",
              "Pipelined reduces:\n",
              "\n",
              "&gt;&gt;&gt; from operator import add\n",
              "&gt;&gt;&gt; rdd.map(lambda x: 2 * x).reduce(add)\n",
              "20\n",
              "&gt;&gt;&gt; rdd.flatMap(lambda x: [x, x]).reduce(add)\n",
              "20</pre>\n",
              "      <script>\n",
              "      if (google.colab.kernel.accessAllowed && google.colab.files && google.colab.files.view) {\n",
              "        for (const element of document.querySelectorAll('.filepath')) {\n",
              "          element.style.display = 'block'\n",
              "          element.onclick = (event) => {\n",
              "            event.preventDefault();\n",
              "            event.stopPropagation();\n",
              "            google.colab.files.view(element.textContent, 5395);\n",
              "          };\n",
              "        }\n",
              "      }\n",
              "      for (const element of document.querySelectorAll('.function-repr-contents')) {\n",
              "        element.onclick = (event) => {\n",
              "          event.preventDefault();\n",
              "          event.stopPropagation();\n",
              "          element.classList.toggle('function-repr-contents-collapsed');\n",
              "        };\n",
              "      }\n",
              "      </script>\n",
              "      </div>"
            ]
          },
          "metadata": {},
          "execution_count": 84
        }
      ]
    },
    {
      "cell_type": "markdown",
      "source": [
        "##Zadanie 4\n",
        "1. Załaduj plik pracownicy.csv z poprawnie zdefiniowaną strukturą i typami danych (schema)\n",
        "2. Dla każdego roku urodzenia występującego w danych wylicz średnią stawkę godzinową\n",
        "3. posortuj od najmłodszych lat do najstarszych\n",
        "4. Wynik zapisz do excela"
      ],
      "metadata": {
        "id": "p_jGnIjP-RUr"
      }
    },
    {
      "cell_type": "code",
      "source": [
        "#kod\n",
        "! head -5 pracownicy.csv"
      ],
      "metadata": {
        "id": "5rfCBW7LCy_-",
        "colab": {
          "base_uri": "https://localhost:8080/"
        },
        "outputId": "12551abe-3689-4329-97e7-7431cd72b8ab"
      },
      "execution_count": null,
      "outputs": [
        {
          "output_type": "stream",
          "name": "stdout",
          "text": [
            "﻿ Imie;Nazwisko ;stawka godzinowa w dolarach;rok urodzenia\r\n",
            "Maciej;Kowalski;78;1944\r\n",
            "Michael;Kowalski;57;1965\r\n",
            "Ewa;Kowalska;23;1999\r\n",
            "John;Nowak;12;2020\r\n"
          ]
        }
      ]
    },
    {
      "cell_type": "code",
      "source": [
        "schema_for_workers = StructType([StructField('Imie', StringType()),\n",
        "                                 StructField('Nazwisko', StringType()),\n",
        "                                 StructField('Stawka godzinowa', IntegerType()),\n",
        "                                StructField('Rok urodzenia', IntegerType()),\n",
        "                                 ])"
      ],
      "metadata": {
        "id": "yhIYOSvUtbIm"
      },
      "execution_count": null,
      "outputs": []
    },
    {
      "cell_type": "code",
      "source": [
        "df_pracownicy = spark.read.csv('pracownicy.csv', header=True, sep=\";\", schema=schema_for_workers)"
      ],
      "metadata": {
        "id": "22zcEhRztMzt"
      },
      "execution_count": null,
      "outputs": []
    },
    {
      "cell_type": "code",
      "source": [
        "df_pracownicy.show()"
      ],
      "metadata": {
        "colab": {
          "base_uri": "https://localhost:8080/"
        },
        "id": "ITfIXm0MwOUp",
        "outputId": "6ea7e5c2-1b09-4be3-feb6-a29af8b828ec"
      },
      "execution_count": null,
      "outputs": [
        {
          "output_type": "stream",
          "name": "stdout",
          "text": [
            "+---------+---------+----------------+-------------+\n",
            "|     Imie| Nazwisko|Stawka godzinowa|Rok urodzenia|\n",
            "+---------+---------+----------------+-------------+\n",
            "|   Maciej| Kowalski|              78|         1944|\n",
            "|  Michael| Kowalski|              57|         1965|\n",
            "|      Ewa| Kowalska|              23|         1999|\n",
            "|     John|    Nowak|              12|         2020|\n",
            "|    Steve| Stevniak|              67|         1955|\n",
            "|     Bill|    Gates|              67|         1955|\n",
            "|     Jan | Kowalski|              23|         1999|\n",
            "|     John|    Nowak|              12|         2020|\n",
            "|    Steve| Stevniak|              67|         1955|\n",
            "|     Bill|    Gates|              67|         1955|\n",
            "|      Jan| Kowalski|              23|         1999|\n",
            "|     John|    Nowak|              12|         2020|\n",
            "|    Steve|Stevniak |              67|         1955|\n",
            "|Magdalena|    Gates|              67|         1955|\n",
            "|     John|    Nowak|              78|         1944|\n",
            "|    Steve| Stevniak|              57|         1965|\n",
            "|     Bill|    Gates|              23|         1999|\n",
            "|      Jan| Kowalski|              12|         2020|\n",
            "|Michalina|    Nowak|              67|         1955|\n",
            "|    Steve| Stevniak|              67|         1955|\n",
            "+---------+---------+----------------+-------------+\n",
            "only showing top 20 rows\n",
            "\n"
          ]
        }
      ]
    },
    {
      "cell_type": "code",
      "source": [
        "df_pracownicy.printSchema()"
      ],
      "metadata": {
        "colab": {
          "base_uri": "https://localhost:8080/"
        },
        "id": "UMUNm8vYtUJW",
        "outputId": "b69a5eb2-5527-4404-c7b6-6438d62dffcb"
      },
      "execution_count": null,
      "outputs": [
        {
          "output_type": "stream",
          "name": "stdout",
          "text": [
            "root\n",
            " |-- Imie: string (nullable = true)\n",
            " |-- Nazwisko: string (nullable = true)\n",
            " |-- Stawka godzinowa: integer (nullable = true)\n",
            " |-- Rok urodzenia: integer (nullable = true)\n",
            "\n"
          ]
        }
      ]
    },
    {
      "cell_type": "code",
      "source": [
        "# Tworzenie tymczasowej tabeli\n",
        "df_pracownicy.createOrReplaceTempView(\"pracownicy\")"
      ],
      "metadata": {
        "id": "4biR_fIdt7qn"
      },
      "execution_count": null,
      "outputs": []
    },
    {
      "cell_type": "code",
      "source": [
        "# Wykonanie zapytania SQL\n",
        "result = spark.sql(\"SELECT `Rok urodzenia`, AVG(`Stawka godzinowa`) AS srednia_stawka FROM pracownicy GROUP BY `Rok urodzenia` ORDER BY `Rok urodzenia` DESC\")"
      ],
      "metadata": {
        "id": "rF_sxWqXugTf"
      },
      "execution_count": null,
      "outputs": []
    },
    {
      "cell_type": "code",
      "source": [
        "result.show()"
      ],
      "metadata": {
        "colab": {
          "base_uri": "https://localhost:8080/"
        },
        "id": "RBGX7OnAu2sl",
        "outputId": "0828b981-acf0-4a11-bb0e-d4313855e86d"
      },
      "execution_count": null,
      "outputs": [
        {
          "output_type": "stream",
          "name": "stdout",
          "text": [
            "+-------------+--------------+\n",
            "|Rok urodzenia|srednia_stawka|\n",
            "+-------------+--------------+\n",
            "|         2020|          12.6|\n",
            "|         1999|          23.0|\n",
            "|         1965|          57.0|\n",
            "|         1955|          67.0|\n",
            "|         1944|          78.0|\n",
            "+-------------+--------------+\n",
            "\n"
          ]
        }
      ]
    },
    {
      "cell_type": "code",
      "source": [
        "# Konwersja wynikowego DataFrame do Pandas DataFrame\n",
        "pandas_df = result.toPandas()\n",
        "\n",
        "# Zapis do pliku Excel\n",
        "pandas_df.to_excel(\"srednia_stawka_godzinowa.xlsx\", index=False)"
      ],
      "metadata": {
        "id": "uBeZdsldwiKw"
      },
      "execution_count": null,
      "outputs": []
    },
    {
      "cell_type": "markdown",
      "source": [
        "#Zajęcia 25.04.2022"
      ],
      "metadata": {
        "id": "zL1n3RJYsqEK"
      }
    },
    {
      "cell_type": "markdown",
      "source": [
        "##UDF"
      ],
      "metadata": {
        "id": "D3Qn9Z-TyVLp"
      }
    },
    {
      "cell_type": "code",
      "source": [
        "from pyspark.sql.types import *\n",
        "import pyspark.sql.functions as f"
      ],
      "metadata": {
        "id": "RqC2X2_cl22e"
      },
      "execution_count": 5,
      "outputs": []
    },
    {
      "cell_type": "code",
      "source": [
        "df = spark.createDataFrame([(\"2022-04-25\", \"John Doe\", 21)], (\"date\", \"name\", \"age\"))\n",
        "df.show()"
      ],
      "metadata": {
        "id": "bxOCvsT2yVpp",
        "colab": {
          "base_uri": "https://localhost:8080/"
        },
        "outputId": "dc70b197-c516-4da1-fda3-8c4e5c1b0fca"
      },
      "execution_count": 6,
      "outputs": [
        {
          "output_type": "stream",
          "name": "stdout",
          "text": [
            "+----------+--------+---+\n",
            "|      date|    name|age|\n",
            "+----------+--------+---+\n",
            "|2022-04-25|John Doe| 21|\n",
            "+----------+--------+---+\n",
            "\n"
          ]
        }
      ]
    },
    {
      "cell_type": "code",
      "source": [
        "#Jak wyciąć rok z daty?"
      ],
      "metadata": {
        "id": "xGXHoVYxyV1m"
      },
      "execution_count": 7,
      "outputs": []
    },
    {
      "cell_type": "code",
      "source": [
        "from pyspark.sql.functions import udf"
      ],
      "metadata": {
        "id": "yWeYDBGAyWBH"
      },
      "execution_count": 8,
      "outputs": []
    },
    {
      "cell_type": "code",
      "source": [
        "def f_do_wycinania_roku(x):\n",
        "  return x[:4]"
      ],
      "metadata": {
        "id": "lZIn4lLczR_8"
      },
      "execution_count": 9,
      "outputs": []
    },
    {
      "cell_type": "code",
      "source": [
        "udf_do_wycinania_roku = udf(f_do_wycinania_roku, StringType())"
      ],
      "metadata": {
        "id": "ufZekc2azSII"
      },
      "execution_count": 10,
      "outputs": []
    },
    {
      "cell_type": "code",
      "source": [
        "(df\n",
        " .withColumn('date', udf_do_wycinania_roku(f.col('date')))\n",
        " ).show()"
      ],
      "metadata": {
        "id": "3d4PJczOzWBl",
        "colab": {
          "base_uri": "https://localhost:8080/"
        },
        "outputId": "ed95267b-7209-476d-e464-2606d061074c"
      },
      "execution_count": 11,
      "outputs": [
        {
          "output_type": "stream",
          "name": "stdout",
          "text": [
            "+----+--------+---+\n",
            "|date|    name|age|\n",
            "+----+--------+---+\n",
            "|2022|John Doe| 21|\n",
            "+----+--------+---+\n",
            "\n"
          ]
        }
      ]
    },
    {
      "cell_type": "code",
      "source": [
        "#Jeżeli chcemy UDF wykorzystywać później w SQL to trzeba go zarejestrować (3.3 Registering PySpark UDF & use it on SQL -> https://sparkbyexamples.com/pyspark/pyspark-udf-user-defined-function/)"
      ],
      "metadata": {
        "id": "rSIlfm0i0EP4"
      },
      "execution_count": 12,
      "outputs": []
    },
    {
      "cell_type": "code",
      "source": [
        "#\"\"\" Using UDF on SQL \"\"\"\n",
        "spark.udf.register(\"udf_do_wycinania_roku\", udf_do_wycinania_roku)\n",
        "df.createOrReplaceTempView(\"df\")\n",
        "spark.sql(\"select udf_do_wycinania_roku(date), name, age from df\").show()"
      ],
      "metadata": {
        "id": "ElWU5WjI0PrP",
        "colab": {
          "base_uri": "https://localhost:8080/"
        },
        "outputId": "488d6947-1eba-463b-bc5d-212e32fa3e59"
      },
      "execution_count": 13,
      "outputs": [
        {
          "output_type": "stream",
          "name": "stdout",
          "text": [
            "+---------------------------+--------+---+\n",
            "|udf_do_wycinania_roku(date)|    name|age|\n",
            "+---------------------------+--------+---+\n",
            "|                       2022|John Doe| 21|\n",
            "+---------------------------+--------+---+\n",
            "\n"
          ]
        }
      ]
    },
    {
      "cell_type": "markdown",
      "source": [
        "###Pagecounts dataset"
      ],
      "metadata": {
        "id": "sldAIB0XzhFh"
      }
    },
    {
      "cell_type": "code",
      "source": [
        "from pyspark.sql.types import *\n",
        "import pyspark.sql.functions as f"
      ],
      "metadata": {
        "id": "REQB_3agsyr_"
      },
      "execution_count": 14,
      "outputs": []
    },
    {
      "cell_type": "code",
      "source": [
        "!unzip pagecounts.zip"
      ],
      "metadata": {
        "id": "xZSgNowrs16y",
        "colab": {
          "base_uri": "https://localhost:8080/"
        },
        "outputId": "75ef31c7-4d7d-45b7-8288-7328321c23c6"
      },
      "execution_count": 15,
      "outputs": [
        {
          "output_type": "stream",
          "name": "stdout",
          "text": [
            "unzip:  cannot find or open pagecounts.zip, pagecounts.zip.zip or pagecounts.zip.ZIP.\n"
          ]
        }
      ]
    },
    {
      "cell_type": "code",
      "source": [
        "!head pagecounts/part-00001"
      ],
      "metadata": {
        "id": "EFTlSE1Ss8KN",
        "colab": {
          "base_uri": "https://localhost:8080/"
        },
        "outputId": "ca7fcd1e-7e4e-45e6-eb7e-7777ecf77754"
      },
      "execution_count": 16,
      "outputs": [
        {
          "output_type": "stream",
          "name": "stdout",
          "text": [
            "head: cannot open 'pagecounts/part-00001' for reading: No such file or directory\n"
          ]
        }
      ]
    },
    {
      "cell_type": "code",
      "source": [
        "!head pagecounts/part-00053"
      ],
      "metadata": {
        "id": "JmIjoTThs-wa",
        "colab": {
          "base_uri": "https://localhost:8080/"
        },
        "outputId": "030cd928-c4fe-4087-cff0-a5c69b6e2c3c"
      },
      "execution_count": 17,
      "outputs": [
        {
          "output_type": "stream",
          "name": "stdout",
          "text": [
            "head: cannot open 'pagecounts/part-00053' for reading: No such file or directory\n"
          ]
        }
      ]
    },
    {
      "cell_type": "code",
      "source": [
        "pagecounts = sc.textFile('pagecounts')"
      ],
      "metadata": {
        "id": "Q4EFA54xs_TW"
      },
      "execution_count": 18,
      "outputs": []
    },
    {
      "cell_type": "code",
      "source": [
        "pagecounts.count()"
      ],
      "metadata": {
        "id": "pYpR_1gQtAjr",
        "colab": {
          "base_uri": "https://localhost:8080/",
          "height": 963
        },
        "outputId": "a8525216-b20e-411a-e8ec-e98619d332ce"
      },
      "execution_count": 19,
      "outputs": [
        {
          "output_type": "error",
          "ename": "Py4JJavaError",
          "evalue": "An error occurred while calling z:org.apache.spark.api.python.PythonRDD.collectAndServe.\n: org.apache.hadoop.mapred.InvalidInputException: Input path does not exist: file:/content/pagecounts\n\tat org.apache.hadoop.mapred.FileInputFormat.singleThreadedListStatus(FileInputFormat.java:304)\n\tat org.apache.hadoop.mapred.FileInputFormat.listStatus(FileInputFormat.java:244)\n\tat org.apache.hadoop.mapred.FileInputFormat.getSplits(FileInputFormat.java:332)\n\tat org.apache.spark.rdd.HadoopRDD.getPartitions(HadoopRDD.scala:208)\n\tat org.apache.spark.rdd.RDD.$anonfun$partitions$2(RDD.scala:294)\n\tat scala.Option.getOrElse(Option.scala:189)\n\tat org.apache.spark.rdd.RDD.partitions(RDD.scala:290)\n\tat org.apache.spark.rdd.MapPartitionsRDD.getPartitions(MapPartitionsRDD.scala:49)\n\tat org.apache.spark.rdd.RDD.$anonfun$partitions$2(RDD.scala:294)\n\tat scala.Option.getOrElse(Option.scala:189)\n\tat org.apache.spark.rdd.RDD.partitions(RDD.scala:290)\n\tat org.apache.spark.api.python.PythonRDD.getPartitions(PythonRDD.scala:57)\n\tat org.apache.spark.rdd.RDD.$anonfun$partitions$2(RDD.scala:294)\n\tat scala.Option.getOrElse(Option.scala:189)\n\tat org.apache.spark.rdd.RDD.partitions(RDD.scala:290)\n\tat org.apache.spark.SparkContext.runJob(SparkContext.scala:2463)\n\tat org.apache.spark.rdd.RDD.$anonfun$collect$1(RDD.scala:1049)\n\tat org.apache.spark.rdd.RDDOperationScope$.withScope(RDDOperationScope.scala:151)\n\tat org.apache.spark.rdd.RDDOperationScope$.withScope(RDDOperationScope.scala:112)\n\tat org.apache.spark.rdd.RDD.withScope(RDD.scala:410)\n\tat org.apache.spark.rdd.RDD.collect(RDD.scala:1048)\n\tat org.apache.spark.api.python.PythonRDD$.collectAndServe(PythonRDD.scala:195)\n\tat org.apache.spark.api.python.PythonRDD.collectAndServe(PythonRDD.scala)\n\tat java.base/jdk.internal.reflect.NativeMethodAccessorImpl.invoke0(Native Method)\n\tat java.base/jdk.internal.reflect.NativeMethodAccessorImpl.invoke(NativeMethodAccessorImpl.java:62)\n\tat java.base/jdk.internal.reflect.DelegatingMethodAccessorImpl.invoke(DelegatingMethodAccessorImpl.java:43)\n\tat java.base/java.lang.reflect.Method.invoke(Method.java:566)\n\tat py4j.reflection.MethodInvoker.invoke(MethodInvoker.java:244)\n\tat py4j.reflection.ReflectionEngine.invoke(ReflectionEngine.java:374)\n\tat py4j.Gateway.invoke(Gateway.java:282)\n\tat py4j.commands.AbstractCommand.invokeMethod(AbstractCommand.java:132)\n\tat py4j.commands.CallCommand.execute(CallCommand.java:79)\n\tat py4j.ClientServerConnection.waitForCommands(ClientServerConnection.java:182)\n\tat py4j.ClientServerConnection.run(ClientServerConnection.java:106)\n\tat java.base/java.lang.Thread.run(Thread.java:829)\nCaused by: java.io.IOException: Input path does not exist: file:/content/pagecounts\n\tat org.apache.hadoop.mapred.FileInputFormat.singleThreadedListStatus(FileInputFormat.java:278)\n\t... 34 more\n",
          "traceback": [
            "\u001b[0;31m---------------------------------------------------------------------------\u001b[0m",
            "\u001b[0;31mPy4JJavaError\u001b[0m                             Traceback (most recent call last)",
            "\u001b[0;32m<ipython-input-19-f15d40ef6895>\u001b[0m in \u001b[0;36m<cell line: 1>\u001b[0;34m()\u001b[0m\n\u001b[0;32m----> 1\u001b[0;31m \u001b[0mpagecounts\u001b[0m\u001b[0;34m.\u001b[0m\u001b[0mcount\u001b[0m\u001b[0;34m(\u001b[0m\u001b[0;34m)\u001b[0m\u001b[0;34m\u001b[0m\u001b[0;34m\u001b[0m\u001b[0m\n\u001b[0m",
            "\u001b[0;32m/usr/local/lib/python3.10/dist-packages/pyspark/rdd.py\u001b[0m in \u001b[0;36mcount\u001b[0;34m(self)\u001b[0m\n\u001b[1;32m   2314\u001b[0m         \u001b[0;36m3\u001b[0m\u001b[0;34m\u001b[0m\u001b[0;34m\u001b[0m\u001b[0m\n\u001b[1;32m   2315\u001b[0m         \"\"\"\n\u001b[0;32m-> 2316\u001b[0;31m         \u001b[0;32mreturn\u001b[0m \u001b[0mself\u001b[0m\u001b[0;34m.\u001b[0m\u001b[0mmapPartitions\u001b[0m\u001b[0;34m(\u001b[0m\u001b[0;32mlambda\u001b[0m \u001b[0mi\u001b[0m\u001b[0;34m:\u001b[0m \u001b[0;34m[\u001b[0m\u001b[0msum\u001b[0m\u001b[0;34m(\u001b[0m\u001b[0;36m1\u001b[0m \u001b[0;32mfor\u001b[0m \u001b[0m_\u001b[0m \u001b[0;32min\u001b[0m \u001b[0mi\u001b[0m\u001b[0;34m)\u001b[0m\u001b[0;34m]\u001b[0m\u001b[0;34m)\u001b[0m\u001b[0;34m.\u001b[0m\u001b[0msum\u001b[0m\u001b[0;34m(\u001b[0m\u001b[0;34m)\u001b[0m\u001b[0;34m\u001b[0m\u001b[0;34m\u001b[0m\u001b[0m\n\u001b[0m\u001b[1;32m   2317\u001b[0m \u001b[0;34m\u001b[0m\u001b[0m\n\u001b[1;32m   2318\u001b[0m     \u001b[0;32mdef\u001b[0m \u001b[0mstats\u001b[0m\u001b[0;34m(\u001b[0m\u001b[0mself\u001b[0m\u001b[0;34m:\u001b[0m \u001b[0;34m\"RDD[NumberOrArray]\"\u001b[0m\u001b[0;34m)\u001b[0m \u001b[0;34m->\u001b[0m \u001b[0mStatCounter\u001b[0m\u001b[0;34m:\u001b[0m\u001b[0;34m\u001b[0m\u001b[0;34m\u001b[0m\u001b[0m\n",
            "\u001b[0;32m/usr/local/lib/python3.10/dist-packages/pyspark/rdd.py\u001b[0m in \u001b[0;36msum\u001b[0;34m(self)\u001b[0m\n\u001b[1;32m   2289\u001b[0m         \u001b[0;36m6.0\u001b[0m\u001b[0;34m\u001b[0m\u001b[0;34m\u001b[0m\u001b[0m\n\u001b[1;32m   2290\u001b[0m         \"\"\"\n\u001b[0;32m-> 2291\u001b[0;31m         return self.mapPartitions(lambda x: [sum(x)]).fold(  # type: ignore[return-value]\n\u001b[0m\u001b[1;32m   2292\u001b[0m             \u001b[0;36m0\u001b[0m\u001b[0;34m,\u001b[0m \u001b[0moperator\u001b[0m\u001b[0;34m.\u001b[0m\u001b[0madd\u001b[0m\u001b[0;34m\u001b[0m\u001b[0;34m\u001b[0m\u001b[0m\n\u001b[1;32m   2293\u001b[0m         )\n",
            "\u001b[0;32m/usr/local/lib/python3.10/dist-packages/pyspark/rdd.py\u001b[0m in \u001b[0;36mfold\u001b[0;34m(self, zeroValue, op)\u001b[0m\n\u001b[1;32m   2042\u001b[0m         \u001b[0;31m# zeroValue provided to each partition is unique from the one provided\u001b[0m\u001b[0;34m\u001b[0m\u001b[0;34m\u001b[0m\u001b[0m\n\u001b[1;32m   2043\u001b[0m         \u001b[0;31m# to the final reduce call\u001b[0m\u001b[0;34m\u001b[0m\u001b[0;34m\u001b[0m\u001b[0m\n\u001b[0;32m-> 2044\u001b[0;31m         \u001b[0mvals\u001b[0m \u001b[0;34m=\u001b[0m \u001b[0mself\u001b[0m\u001b[0;34m.\u001b[0m\u001b[0mmapPartitions\u001b[0m\u001b[0;34m(\u001b[0m\u001b[0mfunc\u001b[0m\u001b[0;34m)\u001b[0m\u001b[0;34m.\u001b[0m\u001b[0mcollect\u001b[0m\u001b[0;34m(\u001b[0m\u001b[0;34m)\u001b[0m\u001b[0;34m\u001b[0m\u001b[0;34m\u001b[0m\u001b[0m\n\u001b[0m\u001b[1;32m   2045\u001b[0m         \u001b[0;32mreturn\u001b[0m \u001b[0mreduce\u001b[0m\u001b[0;34m(\u001b[0m\u001b[0mop\u001b[0m\u001b[0;34m,\u001b[0m \u001b[0mvals\u001b[0m\u001b[0;34m,\u001b[0m \u001b[0mzeroValue\u001b[0m\u001b[0;34m)\u001b[0m\u001b[0;34m\u001b[0m\u001b[0;34m\u001b[0m\u001b[0m\n\u001b[1;32m   2046\u001b[0m \u001b[0;34m\u001b[0m\u001b[0m\n",
            "\u001b[0;32m/usr/local/lib/python3.10/dist-packages/pyspark/rdd.py\u001b[0m in \u001b[0;36mcollect\u001b[0;34m(self)\u001b[0m\n\u001b[1;32m   1831\u001b[0m         \u001b[0;32mwith\u001b[0m \u001b[0mSCCallSiteSync\u001b[0m\u001b[0;34m(\u001b[0m\u001b[0mself\u001b[0m\u001b[0;34m.\u001b[0m\u001b[0mcontext\u001b[0m\u001b[0;34m)\u001b[0m\u001b[0;34m:\u001b[0m\u001b[0;34m\u001b[0m\u001b[0;34m\u001b[0m\u001b[0m\n\u001b[1;32m   1832\u001b[0m             \u001b[0;32massert\u001b[0m \u001b[0mself\u001b[0m\u001b[0;34m.\u001b[0m\u001b[0mctx\u001b[0m\u001b[0;34m.\u001b[0m\u001b[0m_jvm\u001b[0m \u001b[0;32mis\u001b[0m \u001b[0;32mnot\u001b[0m \u001b[0;32mNone\u001b[0m\u001b[0;34m\u001b[0m\u001b[0;34m\u001b[0m\u001b[0m\n\u001b[0;32m-> 1833\u001b[0;31m             \u001b[0msock_info\u001b[0m \u001b[0;34m=\u001b[0m \u001b[0mself\u001b[0m\u001b[0;34m.\u001b[0m\u001b[0mctx\u001b[0m\u001b[0;34m.\u001b[0m\u001b[0m_jvm\u001b[0m\u001b[0;34m.\u001b[0m\u001b[0mPythonRDD\u001b[0m\u001b[0;34m.\u001b[0m\u001b[0mcollectAndServe\u001b[0m\u001b[0;34m(\u001b[0m\u001b[0mself\u001b[0m\u001b[0;34m.\u001b[0m\u001b[0m_jrdd\u001b[0m\u001b[0;34m.\u001b[0m\u001b[0mrdd\u001b[0m\u001b[0;34m(\u001b[0m\u001b[0;34m)\u001b[0m\u001b[0;34m)\u001b[0m\u001b[0;34m\u001b[0m\u001b[0;34m\u001b[0m\u001b[0m\n\u001b[0m\u001b[1;32m   1834\u001b[0m         \u001b[0;32mreturn\u001b[0m \u001b[0mlist\u001b[0m\u001b[0;34m(\u001b[0m\u001b[0m_load_from_socket\u001b[0m\u001b[0;34m(\u001b[0m\u001b[0msock_info\u001b[0m\u001b[0;34m,\u001b[0m \u001b[0mself\u001b[0m\u001b[0;34m.\u001b[0m\u001b[0m_jrdd_deserializer\u001b[0m\u001b[0;34m)\u001b[0m\u001b[0;34m)\u001b[0m\u001b[0;34m\u001b[0m\u001b[0;34m\u001b[0m\u001b[0m\n\u001b[1;32m   1835\u001b[0m \u001b[0;34m\u001b[0m\u001b[0m\n",
            "\u001b[0;32m/usr/local/lib/python3.10/dist-packages/py4j/java_gateway.py\u001b[0m in \u001b[0;36m__call__\u001b[0;34m(self, *args)\u001b[0m\n\u001b[1;32m   1320\u001b[0m \u001b[0;34m\u001b[0m\u001b[0m\n\u001b[1;32m   1321\u001b[0m         \u001b[0manswer\u001b[0m \u001b[0;34m=\u001b[0m \u001b[0mself\u001b[0m\u001b[0;34m.\u001b[0m\u001b[0mgateway_client\u001b[0m\u001b[0;34m.\u001b[0m\u001b[0msend_command\u001b[0m\u001b[0;34m(\u001b[0m\u001b[0mcommand\u001b[0m\u001b[0;34m)\u001b[0m\u001b[0;34m\u001b[0m\u001b[0;34m\u001b[0m\u001b[0m\n\u001b[0;32m-> 1322\u001b[0;31m         return_value = get_return_value(\n\u001b[0m\u001b[1;32m   1323\u001b[0m             answer, self.gateway_client, self.target_id, self.name)\n\u001b[1;32m   1324\u001b[0m \u001b[0;34m\u001b[0m\u001b[0m\n",
            "\u001b[0;32m/usr/local/lib/python3.10/dist-packages/pyspark/errors/exceptions/captured.py\u001b[0m in \u001b[0;36mdeco\u001b[0;34m(*a, **kw)\u001b[0m\n\u001b[1;32m    177\u001b[0m     \u001b[0;32mdef\u001b[0m \u001b[0mdeco\u001b[0m\u001b[0;34m(\u001b[0m\u001b[0;34m*\u001b[0m\u001b[0ma\u001b[0m\u001b[0;34m:\u001b[0m \u001b[0mAny\u001b[0m\u001b[0;34m,\u001b[0m \u001b[0;34m**\u001b[0m\u001b[0mkw\u001b[0m\u001b[0;34m:\u001b[0m \u001b[0mAny\u001b[0m\u001b[0;34m)\u001b[0m \u001b[0;34m->\u001b[0m \u001b[0mAny\u001b[0m\u001b[0;34m:\u001b[0m\u001b[0;34m\u001b[0m\u001b[0;34m\u001b[0m\u001b[0m\n\u001b[1;32m    178\u001b[0m         \u001b[0;32mtry\u001b[0m\u001b[0;34m:\u001b[0m\u001b[0;34m\u001b[0m\u001b[0;34m\u001b[0m\u001b[0m\n\u001b[0;32m--> 179\u001b[0;31m             \u001b[0;32mreturn\u001b[0m \u001b[0mf\u001b[0m\u001b[0;34m(\u001b[0m\u001b[0;34m*\u001b[0m\u001b[0ma\u001b[0m\u001b[0;34m,\u001b[0m \u001b[0;34m**\u001b[0m\u001b[0mkw\u001b[0m\u001b[0;34m)\u001b[0m\u001b[0;34m\u001b[0m\u001b[0;34m\u001b[0m\u001b[0m\n\u001b[0m\u001b[1;32m    180\u001b[0m         \u001b[0;32mexcept\u001b[0m \u001b[0mPy4JJavaError\u001b[0m \u001b[0;32mas\u001b[0m \u001b[0me\u001b[0m\u001b[0;34m:\u001b[0m\u001b[0;34m\u001b[0m\u001b[0;34m\u001b[0m\u001b[0m\n\u001b[1;32m    181\u001b[0m             \u001b[0mconverted\u001b[0m \u001b[0;34m=\u001b[0m \u001b[0mconvert_exception\u001b[0m\u001b[0;34m(\u001b[0m\u001b[0me\u001b[0m\u001b[0;34m.\u001b[0m\u001b[0mjava_exception\u001b[0m\u001b[0;34m)\u001b[0m\u001b[0;34m\u001b[0m\u001b[0;34m\u001b[0m\u001b[0m\n",
            "\u001b[0;32m/usr/local/lib/python3.10/dist-packages/py4j/protocol.py\u001b[0m in \u001b[0;36mget_return_value\u001b[0;34m(answer, gateway_client, target_id, name)\u001b[0m\n\u001b[1;32m    324\u001b[0m             \u001b[0mvalue\u001b[0m \u001b[0;34m=\u001b[0m \u001b[0mOUTPUT_CONVERTER\u001b[0m\u001b[0;34m[\u001b[0m\u001b[0mtype\u001b[0m\u001b[0;34m]\u001b[0m\u001b[0;34m(\u001b[0m\u001b[0manswer\u001b[0m\u001b[0;34m[\u001b[0m\u001b[0;36m2\u001b[0m\u001b[0;34m:\u001b[0m\u001b[0;34m]\u001b[0m\u001b[0;34m,\u001b[0m \u001b[0mgateway_client\u001b[0m\u001b[0;34m)\u001b[0m\u001b[0;34m\u001b[0m\u001b[0;34m\u001b[0m\u001b[0m\n\u001b[1;32m    325\u001b[0m             \u001b[0;32mif\u001b[0m \u001b[0manswer\u001b[0m\u001b[0;34m[\u001b[0m\u001b[0;36m1\u001b[0m\u001b[0;34m]\u001b[0m \u001b[0;34m==\u001b[0m \u001b[0mREFERENCE_TYPE\u001b[0m\u001b[0;34m:\u001b[0m\u001b[0;34m\u001b[0m\u001b[0;34m\u001b[0m\u001b[0m\n\u001b[0;32m--> 326\u001b[0;31m                 raise Py4JJavaError(\n\u001b[0m\u001b[1;32m    327\u001b[0m                     \u001b[0;34m\"An error occurred while calling {0}{1}{2}.\\n\"\u001b[0m\u001b[0;34m.\u001b[0m\u001b[0;34m\u001b[0m\u001b[0;34m\u001b[0m\u001b[0m\n\u001b[1;32m    328\u001b[0m                     format(target_id, \".\", name), value)\n",
            "\u001b[0;31mPy4JJavaError\u001b[0m: An error occurred while calling z:org.apache.spark.api.python.PythonRDD.collectAndServe.\n: org.apache.hadoop.mapred.InvalidInputException: Input path does not exist: file:/content/pagecounts\n\tat org.apache.hadoop.mapred.FileInputFormat.singleThreadedListStatus(FileInputFormat.java:304)\n\tat org.apache.hadoop.mapred.FileInputFormat.listStatus(FileInputFormat.java:244)\n\tat org.apache.hadoop.mapred.FileInputFormat.getSplits(FileInputFormat.java:332)\n\tat org.apache.spark.rdd.HadoopRDD.getPartitions(HadoopRDD.scala:208)\n\tat org.apache.spark.rdd.RDD.$anonfun$partitions$2(RDD.scala:294)\n\tat scala.Option.getOrElse(Option.scala:189)\n\tat org.apache.spark.rdd.RDD.partitions(RDD.scala:290)\n\tat org.apache.spark.rdd.MapPartitionsRDD.getPartitions(MapPartitionsRDD.scala:49)\n\tat org.apache.spark.rdd.RDD.$anonfun$partitions$2(RDD.scala:294)\n\tat scala.Option.getOrElse(Option.scala:189)\n\tat org.apache.spark.rdd.RDD.partitions(RDD.scala:290)\n\tat org.apache.spark.api.python.PythonRDD.getPartitions(PythonRDD.scala:57)\n\tat org.apache.spark.rdd.RDD.$anonfun$partitions$2(RDD.scala:294)\n\tat scala.Option.getOrElse(Option.scala:189)\n\tat org.apache.spark.rdd.RDD.partitions(RDD.scala:290)\n\tat org.apache.spark.SparkContext.runJob(SparkContext.scala:2463)\n\tat org.apache.spark.rdd.RDD.$anonfun$collect$1(RDD.scala:1049)\n\tat org.apache.spark.rdd.RDDOperationScope$.withScope(RDDOperationScope.scala:151)\n\tat org.apache.spark.rdd.RDDOperationScope$.withScope(RDDOperationScope.scala:112)\n\tat org.apache.spark.rdd.RDD.withScope(RDD.scala:410)\n\tat org.apache.spark.rdd.RDD.collect(RDD.scala:1048)\n\tat org.apache.spark.api.python.PythonRDD$.collectAndServe(PythonRDD.scala:195)\n\tat org.apache.spark.api.python.PythonRDD.collectAndServe(PythonRDD.scala)\n\tat java.base/jdk.internal.reflect.NativeMethodAccessorImpl.invoke0(Native Method)\n\tat java.base/jdk.internal.reflect.NativeMethodAccessorImpl.invoke(NativeMethodAccessorImpl.java:62)\n\tat java.base/jdk.internal.reflect.DelegatingMethodAccessorImpl.invoke(DelegatingMethodAccessorImpl.java:43)\n\tat java.base/java.lang.reflect.Method.invoke(Method.java:566)\n\tat py4j.reflection.MethodInvoker.invoke(MethodInvoker.java:244)\n\tat py4j.reflection.ReflectionEngine.invoke(ReflectionEngine.java:374)\n\tat py4j.Gateway.invoke(Gateway.java:282)\n\tat py4j.commands.AbstractCommand.invokeMethod(AbstractCommand.java:132)\n\tat py4j.commands.CallCommand.execute(CallCommand.java:79)\n\tat py4j.ClientServerConnection.waitForCommands(ClientServerConnection.java:182)\n\tat py4j.ClientServerConnection.run(ClientServerConnection.java:106)\n\tat java.base/java.lang.Thread.run(Thread.java:829)\nCaused by: java.io.IOException: Input path does not exist: file:/content/pagecounts\n\tat org.apache.hadoop.mapred.FileInputFormat.singleThreadedListStatus(FileInputFormat.java:278)\n\t... 34 more\n"
          ]
        }
      ]
    },
    {
      "cell_type": "code",
      "source": [
        "pagecounts.take(10)"
      ],
      "metadata": {
        "id": "zyVaJmGntCxY"
      },
      "execution_count": null,
      "outputs": []
    },
    {
      "cell_type": "markdown",
      "source": [
        "##Zadanie 5\n",
        "Jakiego dnia ile było wejść a angielską wikipedię? Rozwiąż na dwa sposoby (wykorzystując czyste RDD oraz Dataframes)"
      ],
      "metadata": {
        "id": "Zz5o4gPotFOr"
      }
    },
    {
      "cell_type": "code",
      "source": [
        "#kod 1 (RDD)"
      ],
      "metadata": {
        "id": "55FegrLgtHFA"
      },
      "execution_count": null,
      "outputs": []
    },
    {
      "cell_type": "code",
      "source": [
        "(pagecounts\n",
        " .map(lambda x: x.split(' '))\n",
        " .filter(lambda x: x[1] == 'en')\n",
        " .map(lambda x: [x[0] [:8], int(x[3])])\n",
        " .reduceByKey(lambda x,y: x+y)\n",
        ").take(10)\n"
      ],
      "metadata": {
        "id": "_iMtGA4uodcZ"
      },
      "execution_count": null,
      "outputs": []
    },
    {
      "cell_type": "code",
      "source": [
        "#kod 2 (Dataframes)"
      ],
      "metadata": {
        "id": "Yh_E4hRsuEHg"
      },
      "execution_count": null,
      "outputs": []
    },
    {
      "cell_type": "code",
      "source": [
        "fields = [StructField('timestamp', StringType()),\n",
        "          StructField('language', StringType()),\n",
        "          StructField('page', StringType()),\n",
        "          StructField('view_count', IntegerType()),\n",
        "          StructField('data', StringType())]\n",
        "\n",
        "schema = StructType(fields)"
      ],
      "metadata": {
        "id": "RRUdyvYVvzDK"
      },
      "execution_count": null,
      "outputs": []
    },
    {
      "cell_type": "code",
      "source": [
        "pagecount_df = spark.read.csv(path ='pagecounts', sep = ' ', schema=schema)"
      ],
      "metadata": {
        "id": "WuN9I46RzXyb"
      },
      "execution_count": null,
      "outputs": []
    },
    {
      "cell_type": "code",
      "source": [
        "from pyspark.sql.functions import udf"
      ],
      "metadata": {
        "id": "zGrzaYflxeOi"
      },
      "execution_count": null,
      "outputs": []
    },
    {
      "cell_type": "code",
      "source": [
        "def f_do_ucinania_znakow(x):\n",
        "  return x[:8]"
      ],
      "metadata": {
        "id": "TBDVxSFexh_A"
      },
      "execution_count": null,
      "outputs": []
    },
    {
      "cell_type": "code",
      "source": [
        "udf_do_ucinania_znakow = udf(f_do_ucinania_znakow, StringType())"
      ],
      "metadata": {
        "id": "KvYsaHrExu5U"
      },
      "execution_count": null,
      "outputs": []
    },
    {
      "cell_type": "code",
      "source": [
        "(pagecount_df\n",
        " .filter(f.col('language')=='en')\n",
        " .select(f.col('timestamp'), f.col('view_count'))\n",
        " .withColumn('timestamp', udf_do_ucinania_znakow(f.col('timestamp')))\n",
        " .groupBy('timestamp')\n",
        " .sum('view_count')\n",
        " ).show()"
      ],
      "metadata": {
        "id": "BjYmqHnxqDH5"
      },
      "execution_count": null,
      "outputs": []
    },
    {
      "cell_type": "markdown",
      "source": [
        "##Zadanie 6\n",
        "1. Wczytaj wiki_sample.parquet (moodle)\n",
        "2. Odpowiedz na pytanie którzy użytkownicy edytowali najwięcej stron na wikipedii (top 5)?\n",
        "3. Wykonaj zadanie na dwa sposoby (Dataframe SQL oraz Dataframe programmatic API)"
      ],
      "metadata": {
        "id": "DJzetiAzG_ck"
      }
    },
    {
      "cell_type": "code",
      "source": [
        "#kod\n",
        "!unzip /content/wiki_sample.parquet.zip"
      ],
      "metadata": {
        "id": "EUdmeaECGpAE",
        "collapsed": true
      },
      "execution_count": null,
      "outputs": []
    },
    {
      "cell_type": "code",
      "source": [
        "wikiData = spark.read.parquet('wiki_sample.parquet')"
      ],
      "metadata": {
        "id": "nLYmuTIMxmf1"
      },
      "execution_count": null,
      "outputs": []
    },
    {
      "cell_type": "code",
      "source": [
        "wikiData"
      ],
      "metadata": {
        "id": "oRpzdPCLx4bR"
      },
      "execution_count": null,
      "outputs": []
    },
    {
      "cell_type": "code",
      "source": [
        "wikiData.show(5)"
      ],
      "metadata": {
        "id": "pDwFVOkPzR9I"
      },
      "execution_count": null,
      "outputs": []
    },
    {
      "cell_type": "code",
      "source": [
        "# Dataframe SQL\n",
        "top_editors_sql = spark.sql(\"\"\"\n",
        "    SELECT username, COUNT(DISTINCT title) AS edited_pages_count\n",
        "    FROM wiki_data\n",
        "    WHERE username IS NOT NULL AND username != ''\n",
        "    GROUP BY username\n",
        "    ORDER BY edited_pages_count DESC\n",
        "    LIMIT 5\n",
        "\"\"\")\n",
        "\n",
        "# Wyniki\n",
        "top_editors_sql.show()"
      ],
      "metadata": {
        "id": "GCGcxsSDyjR0"
      },
      "execution_count": null,
      "outputs": []
    },
    {
      "cell_type": "code",
      "source": [
        "spark.sql(\"\"\"SELECT username, count(*) AS cnt\n",
        "              FROM wikiData\n",
        "              WHERE username <> ''\n",
        "              GROUP BY 1 ORDER BY cnt DESC\"\"\").show(5)\n",
        "\n",
        "# sposób z zajęć"
      ],
      "metadata": {
        "id": "NEpJQVLVvT4M"
      },
      "execution_count": null,
      "outputs": []
    },
    {
      "cell_type": "code",
      "source": [
        "# Dataframe programmatic API\n",
        "from pyspark.sql.functions import col, countDistinct\n",
        "\n",
        "top_editors_df = wikiData.filter((col(\"username\").isNotNull()) & (col(\"username\") != '')) \\\n",
        "    .groupBy(\"username\") \\\n",
        "    .agg(countDistinct(\"title\").alias(\"edited_pages_count\")) \\\n",
        "    .orderBy(col(\"edited_pages_count\").desc()) \\\n",
        "    .limit(5)\n",
        "\n",
        "# Wyniki\n",
        "top_editors_df.show()"
      ],
      "metadata": {
        "id": "5WTjOorBzCFb"
      },
      "execution_count": null,
      "outputs": []
    },
    {
      "cell_type": "code",
      "source": [
        "import pyspark.sql.functions as f\n",
        "\n",
        "(wikiData\n",
        " .filter(\"username <> ''\")\n",
        " .groupBy('username')\n",
        " .count()\n",
        " .sort(f.col('count').desc())\n",
        " ).show(5)\n",
        "\n",
        " # sposób z zajęć"
      ],
      "metadata": {
        "id": "htN3xWL7vLoq"
      },
      "execution_count": null,
      "outputs": []
    },
    {
      "cell_type": "markdown",
      "source": [
        "#Zajęcia 04.05.2022"
      ],
      "metadata": {
        "id": "qrJMjdpjpprS"
      }
    },
    {
      "cell_type": "markdown",
      "source": [
        "##Funkcje agregujące"
      ],
      "metadata": {
        "id": "IJLLZVEzJHb1"
      }
    },
    {
      "cell_type": "code",
      "source": [
        "df = spark.read.csv('sales_info.csv', inferSchema=True, header=True)\n",
        "\n",
        "# inferSchema - domyśla się struktury pliku (warto weryfikować, czy tworzy się poprawnie)"
      ],
      "metadata": {
        "id": "35V8DHbhJHxn"
      },
      "execution_count": null,
      "outputs": []
    },
    {
      "cell_type": "code",
      "source": [
        "df.show()"
      ],
      "metadata": {
        "id": "lqSjAzvzJKf2",
        "colab": {
          "base_uri": "https://localhost:8080/"
        },
        "outputId": "3a414b57-840f-4ace-fb1b-465814a08b08"
      },
      "execution_count": null,
      "outputs": [
        {
          "output_type": "stream",
          "name": "stdout",
          "text": [
            "+-------+-------+-----+\n",
            "|Company| Person|Sales|\n",
            "+-------+-------+-----+\n",
            "|   GOOG|    Sam|200.0|\n",
            "|   GOOG|Charlie| 20.0|\n",
            "|   GOOG|  Frank|340.0|\n",
            "|   MSFT|   Tina|600.0|\n",
            "|   MSFT|    Amy|124.0|\n",
            "|   MSFT|Vanessa| 43.0|\n",
            "|     FB|   Carl|870.0|\n",
            "|     FB|  Sarah|350.0|\n",
            "|   APPL|   John|250.0|\n",
            "|   APPL|  Linda|130.0|\n",
            "|   APPL|   Mike|750.0|\n",
            "|   APPL|  Chris|350.0|\n",
            "+-------+-------+-----+\n",
            "\n"
          ]
        }
      ]
    },
    {
      "cell_type": "code",
      "source": [
        "df.printSchema()\n",
        "\n",
        "# poprawne domyślenie się struktury"
      ],
      "metadata": {
        "id": "lX_pdFQeJL2j",
        "colab": {
          "base_uri": "https://localhost:8080/"
        },
        "outputId": "ea2c8037-c0d9-46ff-d01f-e98c16c221ce"
      },
      "execution_count": null,
      "outputs": [
        {
          "output_type": "stream",
          "name": "stdout",
          "text": [
            "root\n",
            " |-- Company: string (nullable = true)\n",
            " |-- Person: string (nullable = true)\n",
            " |-- Sales: double (nullable = true)\n",
            "\n"
          ]
        }
      ]
    },
    {
      "cell_type": "code",
      "source": [
        "df.orderBy(['Company', 'Sales']).show()\n",
        "\n",
        "# Sortowanie po company a w drugiej kolejności po sales"
      ],
      "metadata": {
        "id": "7szICcjyJNRQ",
        "colab": {
          "base_uri": "https://localhost:8080/"
        },
        "outputId": "a36367d3-b49d-4ec1-a101-1fd8ab6f25b6"
      },
      "execution_count": null,
      "outputs": [
        {
          "output_type": "stream",
          "name": "stdout",
          "text": [
            "+-------+-------+-----+\n",
            "|Company| Person|Sales|\n",
            "+-------+-------+-----+\n",
            "|   APPL|  Linda|130.0|\n",
            "|   APPL|   John|250.0|\n",
            "|   APPL|  Chris|350.0|\n",
            "|   APPL|   Mike|750.0|\n",
            "|     FB|  Sarah|350.0|\n",
            "|     FB|   Carl|870.0|\n",
            "|   GOOG|Charlie| 20.0|\n",
            "|   GOOG|    Sam|200.0|\n",
            "|   GOOG|  Frank|340.0|\n",
            "|   MSFT|Vanessa| 43.0|\n",
            "|   MSFT|    Amy|124.0|\n",
            "|   MSFT|   Tina|600.0|\n",
            "+-------+-------+-----+\n",
            "\n"
          ]
        }
      ]
    },
    {
      "cell_type": "code",
      "source": [
        "from pyspark.sql.types import *\n",
        "import pyspark.sql.functions as f"
      ],
      "metadata": {
        "id": "schjrj1J2ruY"
      },
      "execution_count": null,
      "outputs": []
    },
    {
      "cell_type": "code",
      "source": [
        "df.orderBy([f.col('Company'), f.col('Sales').desc()]).show()"
      ],
      "metadata": {
        "id": "jzylGdqHJQNv",
        "colab": {
          "base_uri": "https://localhost:8080/"
        },
        "outputId": "690862aa-cc4e-448c-c669-c8a15dd5b000"
      },
      "execution_count": null,
      "outputs": [
        {
          "output_type": "stream",
          "name": "stdout",
          "text": [
            "+-------+-------+-----+\n",
            "|Company| Person|Sales|\n",
            "+-------+-------+-----+\n",
            "|   APPL|   Mike|750.0|\n",
            "|   APPL|  Chris|350.0|\n",
            "|   APPL|   John|250.0|\n",
            "|   APPL|  Linda|130.0|\n",
            "|     FB|   Carl|870.0|\n",
            "|     FB|  Sarah|350.0|\n",
            "|   GOOG|  Frank|340.0|\n",
            "|   GOOG|    Sam|200.0|\n",
            "|   GOOG|Charlie| 20.0|\n",
            "|   MSFT|   Tina|600.0|\n",
            "|   MSFT|    Amy|124.0|\n",
            "|   MSFT|Vanessa| 43.0|\n",
            "+-------+-------+-----+\n",
            "\n"
          ]
        }
      ]
    },
    {
      "cell_type": "code",
      "source": [
        "df.groupBy('Company').max().show()"
      ],
      "metadata": {
        "id": "CvGk93ziJRkB",
        "colab": {
          "base_uri": "https://localhost:8080/"
        },
        "outputId": "eea1500b-ab46-405f-aad6-250c199cc79a"
      },
      "execution_count": null,
      "outputs": [
        {
          "output_type": "stream",
          "name": "stdout",
          "text": [
            "+-------+----------+\n",
            "|Company|max(Sales)|\n",
            "+-------+----------+\n",
            "|   APPL|     750.0|\n",
            "|   GOOG|     340.0|\n",
            "|     FB|     870.0|\n",
            "|   MSFT|     600.0|\n",
            "+-------+----------+\n",
            "\n"
          ]
        }
      ]
    },
    {
      "cell_type": "code",
      "source": [
        "df.groupBy('Company').min().show()"
      ],
      "metadata": {
        "id": "ladHHJ8hJS-D",
        "colab": {
          "base_uri": "https://localhost:8080/"
        },
        "outputId": "fd47f93b-3171-49f4-c7d7-fc62a49eb81c"
      },
      "execution_count": null,
      "outputs": [
        {
          "output_type": "stream",
          "name": "stdout",
          "text": [
            "+-------+----------+\n",
            "|Company|min(Sales)|\n",
            "+-------+----------+\n",
            "|   APPL|     130.0|\n",
            "|   GOOG|      20.0|\n",
            "|     FB|     350.0|\n",
            "|   MSFT|      43.0|\n",
            "+-------+----------+\n",
            "\n"
          ]
        }
      ]
    },
    {
      "cell_type": "code",
      "source": [
        "df.groupBy('Company').sum().show()"
      ],
      "metadata": {
        "id": "7oh0h7J1JUXW",
        "colab": {
          "base_uri": "https://localhost:8080/"
        },
        "outputId": "ae72759b-d3b3-44fa-ecf7-657c9ba189fa"
      },
      "execution_count": null,
      "outputs": [
        {
          "output_type": "stream",
          "name": "stdout",
          "text": [
            "+-------+----------+\n",
            "|Company|sum(Sales)|\n",
            "+-------+----------+\n",
            "|   APPL|    1480.0|\n",
            "|   GOOG|     560.0|\n",
            "|     FB|    1220.0|\n",
            "|   MSFT|     767.0|\n",
            "+-------+----------+\n",
            "\n"
          ]
        }
      ]
    },
    {
      "cell_type": "code",
      "source": [
        "#(df\n",
        " #.groupBy('Company')\n",
        " #.agg(f.min('Sales').alias('MIN'),\n",
        "   #   f.max('Sales').alias('MAX'),\n",
        "  #    f.avg('Sales'),\n",
        " #     f.stddev('Sales'))\n",
        "#).withColumn('stddev_samp(Sales)', f.round(f.col('stddev_samp(Sales)'), 2)).show()"
      ],
      "metadata": {
        "id": "UrhJgLXaJV6g",
        "collapsed": true
      },
      "execution_count": null,
      "outputs": []
    },
    {
      "cell_type": "code",
      "source": [
        "result = (df.groupBy(\"Company\")\n",
        "            .agg(f.min(\"Sales\").alias(\"MIN\"),\n",
        "                 f.max(\"Sales\").alias(\"MAX\"),\n",
        "                 f.avg(\"Sales\").alias(\"avg(Sales)\"),\n",
        "                 f.stddev(\"Sales\").alias(\"stddev(Sales)\"))\n",
        "            .withColumn(\"stddev_samp(Sales)\", f.round(\"stddev(Sales)\", 2)))\n",
        "\n",
        "result.show()"
      ],
      "metadata": {
        "colab": {
          "base_uri": "https://localhost:8080/"
        },
        "id": "ooMTvsjL-k3W",
        "outputId": "ed22e056-74fe-462b-890b-06d0564cca0b"
      },
      "execution_count": null,
      "outputs": [
        {
          "output_type": "stream",
          "name": "stdout",
          "text": [
            "+-------+-----+-----+------------------+------------------+------------------+\n",
            "|Company|  MIN|  MAX|        avg(Sales)|     stddev(Sales)|stddev_samp(Sales)|\n",
            "+-------+-----+-----+------------------+------------------+------------------+\n",
            "|   APPL|130.0|750.0|             370.0|268.82460204874604|            268.82|\n",
            "|   GOOG| 20.0|340.0|186.66666666666666|160.41612554021285|            160.42|\n",
            "|     FB|350.0|870.0|             610.0| 367.6955262170047|             367.7|\n",
            "|   MSFT| 43.0|600.0|255.66666666666666|300.93908575213914|            300.94|\n",
            "+-------+-----+-----+------------------+------------------+------------------+\n",
            "\n"
          ]
        }
      ]
    },
    {
      "cell_type": "markdown",
      "source": [
        "##Funkcje okienkowe"
      ],
      "metadata": {
        "id": "az-qzQI6JbR7"
      }
    },
    {
      "cell_type": "markdown",
      "source": [
        "Sources: https://sparkbyexamples.com/pyspark/pyspark-window-functions/ , https://databricks.com/blog/2015/07/15/introducing-window-functions-in-spark-sql.html\n",
        "\n",
        "Window functions explained: https://www.youtube.com/watch?v=wH6RaEWuiDQ (polecam!)"
      ],
      "metadata": {
        "id": "JUyys4_MJd0m"
      }
    },
    {
      "cell_type": "code",
      "source": [
        "# Zagadnienie ważne na kolokwium\n",
        "import sys\n",
        "from pyspark.sql.window import Window"
      ],
      "metadata": {
        "id": "qgmpSFtSJbr7"
      },
      "execution_count": null,
      "outputs": []
    },
    {
      "cell_type": "code",
      "source": [
        "simpleData = ((\"James\", \"Sales\", 3000), \\\n",
        "    (\"Michael\", \"Sales\", 4600),  \\\n",
        "    (\"Robert\", \"Sales\", 4100),   \\\n",
        "    (\"Maria\", \"Finance\", 3000),  \\\n",
        "    (\"James\", \"Sales\", 3000),    \\\n",
        "    (\"Scott\", \"Finance\", 3300),  \\\n",
        "    (\"Jen\", \"Finance\", 3900),    \\\n",
        "    (\"Jeff\", \"Marketing\", 3000), \\\n",
        "    (\"Kumar\", \"Marketing\", 2000),\\\n",
        "    (\"Saif\", \"Sales\", 4100) \\\n",
        "  )"
      ],
      "metadata": {
        "id": "pH7HNH_oJgxl"
      },
      "execution_count": null,
      "outputs": []
    },
    {
      "cell_type": "code",
      "source": [
        "columns= [\"employee_name\", \"department\", \"salary\"]\n",
        "df = spark.createDataFrame(data = simpleData, schema = columns)\n",
        "df.printSchema()\n",
        "df.show(truncate=False)\n",
        "df.createOrReplaceTempView(\"df\")"
      ],
      "metadata": {
        "id": "tQOysxoXJh10",
        "colab": {
          "base_uri": "https://localhost:8080/"
        },
        "outputId": "638896da-870b-4f1b-83bb-cb063cde3edf"
      },
      "execution_count": null,
      "outputs": [
        {
          "output_type": "stream",
          "name": "stdout",
          "text": [
            "root\n",
            " |-- employee_name: string (nullable = true)\n",
            " |-- department: string (nullable = true)\n",
            " |-- salary: long (nullable = true)\n",
            "\n",
            "+-------------+----------+------+\n",
            "|employee_name|department|salary|\n",
            "+-------------+----------+------+\n",
            "|James        |Sales     |3000  |\n",
            "|Michael      |Sales     |4600  |\n",
            "|Robert       |Sales     |4100  |\n",
            "|Maria        |Finance   |3000  |\n",
            "|James        |Sales     |3000  |\n",
            "|Scott        |Finance   |3300  |\n",
            "|Jen          |Finance   |3900  |\n",
            "|Jeff         |Marketing |3000  |\n",
            "|Kumar        |Marketing |2000  |\n",
            "|Saif         |Sales     |4100  |\n",
            "+-------------+----------+------+\n",
            "\n"
          ]
        }
      ]
    },
    {
      "cell_type": "markdown",
      "source": [
        "###row_number()"
      ],
      "metadata": {
        "id": "Wv6Mjl2qJkce"
      }
    },
    {
      "cell_type": "code",
      "source": [
        "from pyspark.sql.functions import row_number"
      ],
      "metadata": {
        "id": "tNpsti1aJky8"
      },
      "execution_count": null,
      "outputs": []
    },
    {
      "cell_type": "code",
      "source": [
        "windowSpec = (Window\n",
        "              .partitionBy(f.col('department'))\n",
        "              .orderBy(f.col('salary').desc())\n",
        "              )\n",
        "\n",
        "# tworzenie 'okienek' (podzbiorów) po departamencie"
      ],
      "metadata": {
        "id": "L4hp5mZCJmvN"
      },
      "execution_count": null,
      "outputs": []
    },
    {
      "cell_type": "code",
      "source": [
        "df.withColumn('row_number', row_number().over(windowSpec)).show()\n",
        "\n",
        "# W tym wypadku funkcja row_number() zlicza liczbę pracowników (przypisuje numer wiersza) w ramach działu\n",
        "# i sortuje wiersze malejąco względem wypłaty"
      ],
      "metadata": {
        "id": "6Lrk68E7JnhY",
        "colab": {
          "base_uri": "https://localhost:8080/"
        },
        "outputId": "12ad9718-b159-4b23-f604-a623bbce818b"
      },
      "execution_count": null,
      "outputs": [
        {
          "output_type": "stream",
          "name": "stdout",
          "text": [
            "+-------------+----------+------+----------+\n",
            "|employee_name|department|salary|row_number|\n",
            "+-------------+----------+------+----------+\n",
            "|          Jen|   Finance|  3900|         1|\n",
            "|        Scott|   Finance|  3300|         2|\n",
            "|        Maria|   Finance|  3000|         3|\n",
            "|         Jeff| Marketing|  3000|         1|\n",
            "|        Kumar| Marketing|  2000|         2|\n",
            "|      Michael|     Sales|  4600|         1|\n",
            "|       Robert|     Sales|  4100|         2|\n",
            "|         Saif|     Sales|  4100|         3|\n",
            "|        James|     Sales|  3000|         4|\n",
            "|        James|     Sales|  3000|         5|\n",
            "+-------------+----------+------+----------+\n",
            "\n"
          ]
        }
      ]
    },
    {
      "cell_type": "code",
      "source": [
        "sqlDF = spark.sql(\"\"\"SELECT employee_name, department, salary,\n",
        "                     row_number() OVER(PARTITION BY department ORDER BY salary DESC) AS row_number\n",
        "                     FROM df\n",
        "\"\"\")\n",
        "\n",
        "sqlDF.show()"
      ],
      "metadata": {
        "id": "luZkI2a9JpUD",
        "colab": {
          "base_uri": "https://localhost:8080/"
        },
        "outputId": "4d27c476-cb5a-49a3-d3f4-07079a29386f"
      },
      "execution_count": null,
      "outputs": [
        {
          "output_type": "stream",
          "name": "stdout",
          "text": [
            "+-------------+----------+------+----------+\n",
            "|employee_name|department|salary|row_number|\n",
            "+-------------+----------+------+----------+\n",
            "|          Jen|   Finance|  3900|         1|\n",
            "|        Scott|   Finance|  3300|         2|\n",
            "|        Maria|   Finance|  3000|         3|\n",
            "|         Jeff| Marketing|  3000|         1|\n",
            "|        Kumar| Marketing|  2000|         2|\n",
            "|      Michael|     Sales|  4600|         1|\n",
            "|       Robert|     Sales|  4100|         2|\n",
            "|         Saif|     Sales|  4100|         3|\n",
            "|        James|     Sales|  3000|         4|\n",
            "|        James|     Sales|  3000|         5|\n",
            "+-------------+----------+------+----------+\n",
            "\n"
          ]
        }
      ]
    },
    {
      "cell_type": "markdown",
      "source": [
        "###rank()"
      ],
      "metadata": {
        "id": "e6VB6DahJqr6"
      }
    },
    {
      "cell_type": "code",
      "source": [
        "from pyspark.sql.functions import rank"
      ],
      "metadata": {
        "id": "d8NFemxbJrXj"
      },
      "execution_count": null,
      "outputs": []
    },
    {
      "cell_type": "code",
      "source": [
        "df.withColumn(\"rank\", rank().over(windowSpec)).show()\n",
        "\n",
        "# funkcja podobna do row_number() - zamiast zliczać nadaje pozycję w rankingu\n",
        "# w przypadku remisu powstaje luka w rankingu (patrz dział sales)"
      ],
      "metadata": {
        "id": "7HBOsYwzJtBB",
        "colab": {
          "base_uri": "https://localhost:8080/"
        },
        "outputId": "fdef2570-a0e2-412c-c8af-b8ed73082aac"
      },
      "execution_count": null,
      "outputs": [
        {
          "output_type": "stream",
          "name": "stdout",
          "text": [
            "+-------------+----------+------+----+\n",
            "|employee_name|department|salary|rank|\n",
            "+-------------+----------+------+----+\n",
            "|          Jen|   Finance|  3900|   1|\n",
            "|        Scott|   Finance|  3300|   2|\n",
            "|        Maria|   Finance|  3000|   3|\n",
            "|         Jeff| Marketing|  3000|   1|\n",
            "|        Kumar| Marketing|  2000|   2|\n",
            "|      Michael|     Sales|  4600|   1|\n",
            "|       Robert|     Sales|  4100|   2|\n",
            "|         Saif|     Sales|  4100|   2|\n",
            "|        James|     Sales|  3000|   4|\n",
            "|        James|     Sales|  3000|   4|\n",
            "+-------------+----------+------+----+\n",
            "\n"
          ]
        }
      ]
    },
    {
      "cell_type": "code",
      "source": [
        "sqlDF = spark.sql(\"\"\"SELECT employee_name, department, salary,\n",
        "                     rank() OVER(PARTITION BY department ORDER BY salary DESC) AS rank\n",
        "                     FROM df\n",
        "\"\"\")\n",
        "\n",
        "sqlDF.show()"
      ],
      "metadata": {
        "id": "3aqgkyuKJvFd",
        "colab": {
          "base_uri": "https://localhost:8080/"
        },
        "outputId": "1d03beb1-b242-4e5a-ceda-1be2c8b4e3aa"
      },
      "execution_count": null,
      "outputs": [
        {
          "output_type": "stream",
          "name": "stdout",
          "text": [
            "+-------------+----------+------+----+\n",
            "|employee_name|department|salary|rank|\n",
            "+-------------+----------+------+----+\n",
            "|          Jen|   Finance|  3900|   1|\n",
            "|        Scott|   Finance|  3300|   2|\n",
            "|        Maria|   Finance|  3000|   3|\n",
            "|         Jeff| Marketing|  3000|   1|\n",
            "|        Kumar| Marketing|  2000|   2|\n",
            "|      Michael|     Sales|  4600|   1|\n",
            "|       Robert|     Sales|  4100|   2|\n",
            "|         Saif|     Sales|  4100|   2|\n",
            "|        James|     Sales|  3000|   4|\n",
            "|        James|     Sales|  3000|   4|\n",
            "+-------------+----------+------+----+\n",
            "\n"
          ]
        }
      ]
    },
    {
      "cell_type": "markdown",
      "source": [
        "###dense_rank()"
      ],
      "metadata": {
        "id": "s-hRPO2BJwo2"
      }
    },
    {
      "cell_type": "code",
      "source": [
        "from pyspark.sql.functions import dense_rank\n",
        "df.withColumn(\"dense_rank\", dense_rank().over(windowSpec)).show()\n",
        "\n",
        "# funkcja analogiczna do rank()\n",
        "# głowna różnica to brak luki w rankingu w przypadku remisu (patrz dział sales)"
      ],
      "metadata": {
        "id": "yjEPydH6Jw4j",
        "colab": {
          "base_uri": "https://localhost:8080/"
        },
        "outputId": "807b21a3-a2c1-44d8-8d29-84a20b1fd08a"
      },
      "execution_count": null,
      "outputs": [
        {
          "output_type": "stream",
          "name": "stdout",
          "text": [
            "+-------------+----------+------+----------+\n",
            "|employee_name|department|salary|dense_rank|\n",
            "+-------------+----------+------+----------+\n",
            "|          Jen|   Finance|  3900|         1|\n",
            "|        Scott|   Finance|  3300|         2|\n",
            "|        Maria|   Finance|  3000|         3|\n",
            "|         Jeff| Marketing|  3000|         1|\n",
            "|        Kumar| Marketing|  2000|         2|\n",
            "|      Michael|     Sales|  4600|         1|\n",
            "|       Robert|     Sales|  4100|         2|\n",
            "|         Saif|     Sales|  4100|         2|\n",
            "|        James|     Sales|  3000|         3|\n",
            "|        James|     Sales|  3000|         3|\n",
            "+-------------+----------+------+----------+\n",
            "\n"
          ]
        }
      ]
    },
    {
      "cell_type": "code",
      "source": [
        "sqlDF = spark.sql(\"\"\"SELECT employee_name, department, salary,\n",
        "                     dense_rank() OVER(PARTITION BY department ORDER BY salary DESC) AS dense_rank\n",
        "                     FROM df\n",
        "\"\"\")\n",
        "\n",
        "sqlDF.show()"
      ],
      "metadata": {
        "id": "_X9gjhTAJ1Zo",
        "colab": {
          "base_uri": "https://localhost:8080/"
        },
        "outputId": "27a1b095-bf13-449a-dffb-0e99c6f66036"
      },
      "execution_count": null,
      "outputs": [
        {
          "output_type": "stream",
          "name": "stdout",
          "text": [
            "+-------------+----------+------+----------+\n",
            "|employee_name|department|salary|dense_rank|\n",
            "+-------------+----------+------+----------+\n",
            "|          Jen|   Finance|  3900|         1|\n",
            "|        Scott|   Finance|  3300|         2|\n",
            "|        Maria|   Finance|  3000|         3|\n",
            "|         Jeff| Marketing|  3000|         1|\n",
            "|        Kumar| Marketing|  2000|         2|\n",
            "|      Michael|     Sales|  4600|         1|\n",
            "|       Robert|     Sales|  4100|         2|\n",
            "|         Saif|     Sales|  4100|         2|\n",
            "|        James|     Sales|  3000|         3|\n",
            "|        James|     Sales|  3000|         3|\n",
            "+-------------+----------+------+----------+\n",
            "\n"
          ]
        }
      ]
    },
    {
      "cell_type": "markdown",
      "source": [
        "###min(), max()"
      ],
      "metadata": {
        "id": "Z6Ex5WP6Jyqh"
      }
    },
    {
      "cell_type": "code",
      "source": [
        "df.withColumn(\"min_departament\", f.min('salary').over(windowSpec.rangeBetween(-sys.maxsize, sys.maxsize))).show()\n",
        "\n",
        "# rangeBetween(-sys.maxsize, sys.maxsize) - funkcja najpierw przeanalizuje wszystkie rekordy w ramach departamentu\n",
        "# a dopiero potem obliczy wyniki\n",
        "\n",
        "# df.withColumn(\"max_departament\", f.max('salary').over(windowSpec.rangeBetween(-sys.maxsize, sys.maxsize))).show()"
      ],
      "metadata": {
        "id": "eBq_Cr5kJ4F5",
        "colab": {
          "base_uri": "https://localhost:8080/"
        },
        "outputId": "96743ad2-87d6-444c-affb-ea6c0bb5a0e6"
      },
      "execution_count": null,
      "outputs": [
        {
          "output_type": "stream",
          "name": "stdout",
          "text": [
            "+-------------+----------+------+---------------+\n",
            "|employee_name|department|salary|min_departament|\n",
            "+-------------+----------+------+---------------+\n",
            "|          Jen|   Finance|  3900|           3000|\n",
            "|        Scott|   Finance|  3300|           3000|\n",
            "|        Maria|   Finance|  3000|           3000|\n",
            "|         Jeff| Marketing|  3000|           2000|\n",
            "|        Kumar| Marketing|  2000|           2000|\n",
            "|      Michael|     Sales|  4600|           3000|\n",
            "|       Robert|     Sales|  4100|           3000|\n",
            "|         Saif|     Sales|  4100|           3000|\n",
            "|        James|     Sales|  3000|           3000|\n",
            "|        James|     Sales|  3000|           3000|\n",
            "+-------------+----------+------+---------------+\n",
            "\n"
          ]
        }
      ]
    },
    {
      "cell_type": "code",
      "source": [
        "sqlDF = spark.sql(\"\"\" SELECT employee_name, department, salary,\n",
        "                      min(salary) OVER(PARTITION BY department ORDER BY salary DESC RANGE BETWEEN UNBOUNDED PRECEDING AND UNBOUNDED FOLLOWING) as min_salary\n",
        "                      FROM df\n",
        "\"\"\")\n",
        "sqlDF.show()"
      ],
      "metadata": {
        "id": "il6AEEDvJ50j",
        "colab": {
          "base_uri": "https://localhost:8080/"
        },
        "outputId": "1ee0d0e6-83a9-4ea3-df28-d43c2fcc1579"
      },
      "execution_count": null,
      "outputs": [
        {
          "output_type": "stream",
          "name": "stdout",
          "text": [
            "+-------------+----------+------+----------+\n",
            "|employee_name|department|salary|min_salary|\n",
            "+-------------+----------+------+----------+\n",
            "|          Jen|   Finance|  3900|      3000|\n",
            "|        Scott|   Finance|  3300|      3000|\n",
            "|        Maria|   Finance|  3000|      3000|\n",
            "|         Jeff| Marketing|  3000|      2000|\n",
            "|        Kumar| Marketing|  2000|      2000|\n",
            "|      Michael|     Sales|  4600|      3000|\n",
            "|       Robert|     Sales|  4100|      3000|\n",
            "|         Saif|     Sales|  4100|      3000|\n",
            "|        James|     Sales|  3000|      3000|\n",
            "|        James|     Sales|  3000|      3000|\n",
            "+-------------+----------+------+----------+\n",
            "\n"
          ]
        }
      ]
    },
    {
      "cell_type": "markdown",
      "source": [
        "###LAG()"
      ],
      "metadata": {
        "id": "xVfltmVYKKfn"
      }
    },
    {
      "cell_type": "code",
      "source": [
        "import pyspark.sql.functions as f"
      ],
      "metadata": {
        "id": "Ja9o8ndoKK8M"
      },
      "execution_count": null,
      "outputs": []
    },
    {
      "cell_type": "code",
      "source": [
        "windowSpec = (Window\n",
        "              .partitionBy(f.col('department'))\n",
        "              .orderBy(f.col('salary').desc())\n",
        "              )"
      ],
      "metadata": {
        "id": "XCMyRZphKL3-"
      },
      "execution_count": null,
      "outputs": []
    },
    {
      "cell_type": "code",
      "source": [
        "from pyspark.sql.functions import lag"
      ],
      "metadata": {
        "id": "Rjz7tM3lKMwg"
      },
      "execution_count": null,
      "outputs": []
    },
    {
      "cell_type": "code",
      "source": [
        "df.withColumn(\"lag_salary\", lag(\"salary\", 1).over(windowSpec)).show()\n",
        "\n",
        "# funkcja lag() pokazuje wartość z poprzednich wierszy w obrębie danej partycji (w tym przypadku dział)\n",
        "# w tym przypadku przesunięcie wynosi 1 - lag(\"salary\", 1)"
      ],
      "metadata": {
        "id": "7GvwkwdxKN_R",
        "colab": {
          "base_uri": "https://localhost:8080/"
        },
        "outputId": "e1a6f19b-5188-4e3e-b7cc-625609a68cdb"
      },
      "execution_count": null,
      "outputs": [
        {
          "output_type": "stream",
          "name": "stdout",
          "text": [
            "+-------------+----------+------+----------+\n",
            "|employee_name|department|salary|lag_salary|\n",
            "+-------------+----------+------+----------+\n",
            "|          Jen|   Finance|  3900|      NULL|\n",
            "|        Scott|   Finance|  3300|      3900|\n",
            "|        Maria|   Finance|  3000|      3300|\n",
            "|         Jeff| Marketing|  3000|      NULL|\n",
            "|        Kumar| Marketing|  2000|      3000|\n",
            "|      Michael|     Sales|  4600|      NULL|\n",
            "|       Robert|     Sales|  4100|      4600|\n",
            "|         Saif|     Sales|  4100|      4100|\n",
            "|        James|     Sales|  3000|      4100|\n",
            "|        James|     Sales|  3000|      3000|\n",
            "+-------------+----------+------+----------+\n",
            "\n"
          ]
        }
      ]
    },
    {
      "cell_type": "code",
      "source": [
        "sqlDF = spark.sql(\"\"\"SELECT employee_name, department, salary,\n",
        "                     LAG(salary) OVER(PARTITION BY department ORDER BY salary DESC) as lag_salary\n",
        "                     FROM df\n",
        "\n",
        "\"\"\")"
      ],
      "metadata": {
        "id": "baSoyo9MKPzD"
      },
      "execution_count": null,
      "outputs": []
    },
    {
      "cell_type": "code",
      "source": [
        "sqlDF.show(10)"
      ],
      "metadata": {
        "id": "PfRCOC60KQ5Y",
        "colab": {
          "base_uri": "https://localhost:8080/"
        },
        "outputId": "bca85d27-ae24-4a7e-a6b1-ef513e12a5af"
      },
      "execution_count": null,
      "outputs": [
        {
          "output_type": "stream",
          "name": "stdout",
          "text": [
            "+-------------+----------+------+----------+\n",
            "|employee_name|department|salary|lag_salary|\n",
            "+-------------+----------+------+----------+\n",
            "|          Jen|   Finance|  3900|      NULL|\n",
            "|        Scott|   Finance|  3300|      3900|\n",
            "|        Maria|   Finance|  3000|      3300|\n",
            "|         Jeff| Marketing|  3000|      NULL|\n",
            "|        Kumar| Marketing|  2000|      3000|\n",
            "|      Michael|     Sales|  4600|      NULL|\n",
            "|       Robert|     Sales|  4100|      4600|\n",
            "|         Saif|     Sales|  4100|      4100|\n",
            "|        James|     Sales|  3000|      4100|\n",
            "|        James|     Sales|  3000|      3000|\n",
            "+-------------+----------+------+----------+\n",
            "\n"
          ]
        }
      ]
    },
    {
      "cell_type": "markdown",
      "source": [
        "###LEAD()"
      ],
      "metadata": {
        "id": "wSSPsM9mKSUk"
      }
    },
    {
      "cell_type": "code",
      "source": [
        "from pyspark.sql.functions import lead"
      ],
      "metadata": {
        "id": "VnZlPZ1tKSnU"
      },
      "execution_count": null,
      "outputs": []
    },
    {
      "cell_type": "code",
      "source": [
        "df.withColumn(\"lead_salary\", lead(\"salary\", 2).over(windowSpec)).show()\n",
        "\n",
        "# f. lead() pokazuje wartości z następnych wierszy w obrębie partycji\n",
        "# w tym przypadku przesunięcie wynosi 2 - lead(\"salary\", 2)"
      ],
      "metadata": {
        "id": "5s-kdjzuKVio",
        "colab": {
          "base_uri": "https://localhost:8080/"
        },
        "outputId": "0c576911-bed1-4488-a907-e0bff8ad6811"
      },
      "execution_count": null,
      "outputs": [
        {
          "output_type": "stream",
          "name": "stdout",
          "text": [
            "+-------------+----------+------+-----------+\n",
            "|employee_name|department|salary|lead_salary|\n",
            "+-------------+----------+------+-----------+\n",
            "|          Jen|   Finance|  3900|       3000|\n",
            "|        Scott|   Finance|  3300|       NULL|\n",
            "|        Maria|   Finance|  3000|       NULL|\n",
            "|         Jeff| Marketing|  3000|       NULL|\n",
            "|        Kumar| Marketing|  2000|       NULL|\n",
            "|      Michael|     Sales|  4600|       4100|\n",
            "|       Robert|     Sales|  4100|       3000|\n",
            "|         Saif|     Sales|  4100|       3000|\n",
            "|        James|     Sales|  3000|       NULL|\n",
            "|        James|     Sales|  3000|       NULL|\n",
            "+-------------+----------+------+-----------+\n",
            "\n"
          ]
        }
      ]
    },
    {
      "cell_type": "code",
      "source": [
        "#SQL: https://www.youtube.com/watch?v=tNdJKrwQKIU"
      ],
      "metadata": {
        "id": "Jv0TL0FnKYHQ"
      },
      "execution_count": null,
      "outputs": []
    },
    {
      "cell_type": "markdown",
      "source": [
        "##Zadanie 7\n",
        "1. wczytaj plik bonuses.csv\n",
        "2. stwórz tabelę o kolumnach employee_id, year, max_quarter_bonus, min_quarter_bonus, total_bonus, total_bonus_previous_year, total_bonus_2_years_ago"
      ],
      "metadata": {
        "id": "LKuJI71j4TUi"
      }
    },
    {
      "cell_type": "code",
      "source": [
        "# Analogiczne zadanie może pojawić się na kolokwium\n",
        "#kod\n",
        "bonuses = spark.read.csv('bonuses.csv', header=True, sep=\";\", inferSchema=True)"
      ],
      "metadata": {
        "id": "TQoJ_IAw4L9K"
      },
      "execution_count": null,
      "outputs": []
    },
    {
      "cell_type": "code",
      "source": [
        "bonuses.head(5)"
      ],
      "metadata": {
        "colab": {
          "base_uri": "https://localhost:8080/"
        },
        "id": "FLMkMX9m2J0P",
        "outputId": "d3fea8ea-a8d7-4c38-a1d5-5283175bfc14"
      },
      "execution_count": null,
      "outputs": [
        {
          "output_type": "execute_result",
          "data": {
            "text/plain": [
              "[Row(employee_id=1, year=2017, quarter=1, bonus=100),\n",
              " Row(employee_id=1, year=2017, quarter=2, bonus=250),\n",
              " Row(employee_id=1, year=2017, quarter=3, bonus=60),\n",
              " Row(employee_id=1, year=2017, quarter=4, bonus=20),\n",
              " Row(employee_id=1, year=2018, quarter=1, bonus=80)]"
            ]
          },
          "metadata": {},
          "execution_count": 36
        }
      ]
    },
    {
      "cell_type": "code",
      "source": [
        "from pyspark.sql.types import *\n",
        "import pyspark.sql.functions as f"
      ],
      "metadata": {
        "id": "iB9zYd6Z6sd7"
      },
      "execution_count": null,
      "outputs": []
    },
    {
      "cell_type": "code",
      "source": [
        "bonuses.printSchema()\n",
        "bonuses.show(truncate=False)\n",
        "bonuses.createOrReplaceTempView(\"bonuses\")"
      ],
      "metadata": {
        "colab": {
          "base_uri": "https://localhost:8080/"
        },
        "id": "Myx_sfpn64Yw",
        "outputId": "bd9e14a1-39ca-452b-834c-ae6b01ccdd79"
      },
      "execution_count": null,
      "outputs": [
        {
          "output_type": "stream",
          "name": "stdout",
          "text": [
            "root\n",
            " |-- employee_id: integer (nullable = true)\n",
            " |-- year: integer (nullable = true)\n",
            " |-- quarter: integer (nullable = true)\n",
            " |-- bonus: integer (nullable = true)\n",
            "\n",
            "+-----------+----+-------+-----+\n",
            "|employee_id|year|quarter|bonus|\n",
            "+-----------+----+-------+-----+\n",
            "|1          |2017|1      |100  |\n",
            "|1          |2017|2      |250  |\n",
            "|1          |2017|3      |60   |\n",
            "|1          |2017|4      |20   |\n",
            "|1          |2018|1      |80   |\n",
            "|1          |2018|2      |80   |\n",
            "|1          |2018|3      |0    |\n",
            "|1          |2018|4      |0    |\n",
            "|1          |2019|1      |0    |\n",
            "|1          |2019|2      |100  |\n",
            "|1          |2019|3      |0    |\n",
            "|1          |2019|4      |150  |\n",
            "|2          |2017|1      |100  |\n",
            "|2          |2017|2      |250  |\n",
            "|2          |2017|3      |60   |\n",
            "|2          |2017|4      |20   |\n",
            "|2          |2018|1      |500  |\n",
            "|2          |2018|2      |80   |\n",
            "|2          |2018|3      |20   |\n",
            "|2          |2018|4      |0    |\n",
            "+-----------+----+-------+-----+\n",
            "only showing top 20 rows\n",
            "\n"
          ]
        }
      ]
    },
    {
      "cell_type": "code",
      "source": [
        "#programmatic\n",
        "from pyspark.sql.functions import lag\n",
        "from pyspark.sql.window import window"
      ],
      "metadata": {
        "id": "u65BeZoH-dpc"
      },
      "execution_count": null,
      "outputs": []
    },
    {
      "cell_type": "code",
      "source": [
        "bonuses_aggregated = (bonuses\n",
        "                      .groupBy(['employee_id', 'year'])\n",
        "                      .agg(f.min('bonus').alias('MIN'),\n",
        "                           f.max('bonus').alias('MAX'),\n",
        "                            f.sum('bonus').alias('bonus_total'))\n",
        "                      )\n",
        "bonuses_aggregated.show()"
      ],
      "metadata": {
        "colab": {
          "base_uri": "https://localhost:8080/"
        },
        "id": "YYAt1L9X-uvv",
        "outputId": "d7e11642-7b06-420d-f160-31eabd715690"
      },
      "execution_count": null,
      "outputs": [
        {
          "output_type": "stream",
          "name": "stdout",
          "text": [
            "+-----------+----+---+---+-----------+\n",
            "|employee_id|year|MIN|MAX|bonus_total|\n",
            "+-----------+----+---+---+-----------+\n",
            "|          1|2017| 20|250|        430|\n",
            "|          3|2017| 20|250|        430|\n",
            "|          3|2018|  0|500|        600|\n",
            "|          3|2019|  0|400|        520|\n",
            "|          1|2019|  0|150|        250|\n",
            "|          1|2018|  0| 80|        160|\n",
            "|          2|2017| 20|250|        430|\n",
            "|          2|2018|  0|500|        600|\n",
            "|          2|2019|  0|150|        250|\n",
            "+-----------+----+---+---+-----------+\n",
            "\n"
          ]
        }
      ]
    },
    {
      "cell_type": "code",
      "source": [
        "windowSpec = (Window\n",
        "              .partitionBy(f.col('employee_id')))"
      ],
      "metadata": {
        "id": "-lcFZ-Z6_too"
      },
      "execution_count": null,
      "outputs": []
    },
    {
      "cell_type": "markdown",
      "source": [
        "#Zajęcia 09.05.2022"
      ],
      "metadata": {
        "id": "kOZ-g7XjxAjt"
      }
    },
    {
      "cell_type": "markdown",
      "source": [
        "##Machine Learning"
      ],
      "metadata": {
        "id": "l7ac7a17xF40"
      }
    },
    {
      "cell_type": "markdown",
      "source": [
        "##Colaborative Filtering\n",
        "Dla chętnych: https://www.youtube.com/watch?v=ZspR5PZemcs"
      ],
      "metadata": {
        "id": "P_tkBF4dxt0w"
      }
    },
    {
      "cell_type": "code",
      "source": [
        "!unzip ml-100k.zip"
      ],
      "metadata": {
        "id": "gwsYut7pxuNO",
        "colab": {
          "base_uri": "https://localhost:8080/"
        },
        "outputId": "ae1d452b-d66b-454e-82e2-2cd9e157a5d7"
      },
      "execution_count": null,
      "outputs": [
        {
          "output_type": "stream",
          "name": "stdout",
          "text": [
            "Archive:  ml-100k.zip\n",
            "   creating: ml-100k/\n",
            "  inflating: ml-100k/allbut.pl       \n",
            "  inflating: ml-100k/mku.sh          \n",
            "  inflating: ml-100k/README          \n",
            "  inflating: ml-100k/u.data          \n",
            "  inflating: ml-100k/u.genre         \n",
            "  inflating: ml-100k/u.info          \n",
            "  inflating: ml-100k/u.item          \n",
            "  inflating: ml-100k/u.occupation    \n",
            "  inflating: ml-100k/u.user          \n",
            "  inflating: ml-100k/u1.base         \n",
            "  inflating: ml-100k/u1.test         \n",
            "  inflating: ml-100k/u2.base         \n",
            "  inflating: ml-100k/u2.test         \n",
            "  inflating: ml-100k/u3.base         \n",
            "  inflating: ml-100k/u3.test         \n",
            "  inflating: ml-100k/u4.base         \n",
            "  inflating: ml-100k/u4.test         \n",
            "  inflating: ml-100k/u5.base         \n",
            "  inflating: ml-100k/u5.test         \n",
            "  inflating: ml-100k/ua.base         \n",
            "  inflating: ml-100k/ua.test         \n",
            "  inflating: ml-100k/ub.base         \n",
            "  inflating: ml-100k/ub.test         \n"
          ]
        }
      ]
    },
    {
      "cell_type": "code",
      "source": [
        "#u.data     -- The full u data set, 100000 ratings by 943 users on 1682 items.\n",
        "#              Each user has rated at least 20 movies.  Users and items are\n",
        "#              numbered consecutively from 1.  The data is randomly\n",
        "#              ordered. This is a tab separated list of\n",
        "#\t         user id | item id | rating | timestamp.\n",
        "#              The time stamps are unix seconds since 1/1/1970 UTC"
      ],
      "metadata": {
        "id": "bTR4l5-tx1Yr"
      },
      "execution_count": null,
      "outputs": []
    },
    {
      "cell_type": "code",
      "source": [
        "!head -5 ml-100k/u.data"
      ],
      "metadata": {
        "id": "9EiBuH6kx21I",
        "colab": {
          "base_uri": "https://localhost:8080/"
        },
        "outputId": "8e00e4f5-ee4f-4f1a-a456-63c5ba82750a"
      },
      "execution_count": null,
      "outputs": [
        {
          "output_type": "stream",
          "name": "stdout",
          "text": [
            "196\t242\t3\t881250949\n",
            "186\t302\t3\t891717742\n",
            "22\t377\t1\t878887116\n",
            "244\t51\t2\t880606923\n",
            "166\t346\t1\t886397596\n"
          ]
        }
      ]
    },
    {
      "cell_type": "code",
      "source": [
        "ratings_data = spark.read.csv(\"ml-100k/u.data\", sep=\"\t\", header=False, inferSchema=True)"
      ],
      "metadata": {
        "id": "rDmwXrUix4tR"
      },
      "execution_count": null,
      "outputs": []
    },
    {
      "cell_type": "code",
      "source": [
        "from pyspark.sql.types import *"
      ],
      "metadata": {
        "id": "OGb1STJVx522"
      },
      "execution_count": null,
      "outputs": []
    },
    {
      "cell_type": "code",
      "source": [
        "fields = [StructField('user_id', IntegerType()),\n",
        "          StructField('item_id', IntegerType()),\n",
        "          StructField('rating', IntegerType()),\n",
        "          StructField('timestamp', IntegerType())\n",
        "          ]"
      ],
      "metadata": {
        "id": "PI0BymC_x7XA"
      },
      "execution_count": null,
      "outputs": []
    },
    {
      "cell_type": "code",
      "source": [
        "schema = StructType(fields)"
      ],
      "metadata": {
        "id": "8wGgM6I7x8ak"
      },
      "execution_count": null,
      "outputs": []
    },
    {
      "cell_type": "code",
      "source": [
        "ratings_data = spark.read.csv(\"ml-100k/u.data\", sep=\"\t\", header=False, schema=schema)"
      ],
      "metadata": {
        "id": "V2vkChLNx843"
      },
      "execution_count": null,
      "outputs": []
    },
    {
      "cell_type": "code",
      "source": [
        "ratings_data.show(10)"
      ],
      "metadata": {
        "id": "xdhuUCjvx963",
        "colab": {
          "base_uri": "https://localhost:8080/"
        },
        "outputId": "800bac53-10b7-44c4-f45d-a41c7d26501c"
      },
      "execution_count": null,
      "outputs": [
        {
          "output_type": "stream",
          "name": "stdout",
          "text": [
            "+-------+-------+------+---------+\n",
            "|user_id|item_id|rating|timestamp|\n",
            "+-------+-------+------+---------+\n",
            "|    196|    242|     3|881250949|\n",
            "|    186|    302|     3|891717742|\n",
            "|     22|    377|     1|878887116|\n",
            "|    244|     51|     2|880606923|\n",
            "|    166|    346|     1|886397596|\n",
            "|    298|    474|     4|884182806|\n",
            "|    115|    265|     2|881171488|\n",
            "|    253|    465|     5|891628467|\n",
            "|    305|    451|     3|886324817|\n",
            "|      6|     86|     3|883603013|\n",
            "+-------+-------+------+---------+\n",
            "only showing top 10 rows\n",
            "\n"
          ]
        }
      ]
    },
    {
      "cell_type": "code",
      "source": [
        "(train, test) = ratings_data.randomSplit([0.8, 0.2])"
      ],
      "metadata": {
        "id": "22AN7UBcx-6j"
      },
      "execution_count": null,
      "outputs": []
    },
    {
      "cell_type": "code",
      "source": [
        "from pyspark.ml.evaluation import RegressionEvaluator\n",
        "from pyspark.ml.recommendation import ALS\n",
        "from pyspark.sql import Row"
      ],
      "metadata": {
        "id": "31DXIt0ryABz"
      },
      "execution_count": null,
      "outputs": []
    },
    {
      "cell_type": "code",
      "source": [
        "#https://spark.apache.org/docs/latest/api/python/reference/api/pyspark.ml.recommendation.ALS.html#pyspark.ml.recommendation.ALS\n",
        "als = ALS(maxIter=5, rank=20, regParam=0.01, userCol=\"user_id\", itemCol=\"item_id\", ratingCol=\"rating\", coldStartStrategy=\"drop\")"
      ],
      "metadata": {
        "id": "9dW4yRI0yD-o"
      },
      "execution_count": null,
      "outputs": []
    },
    {
      "cell_type": "code",
      "source": [
        "model = als.fit(train)"
      ],
      "metadata": {
        "id": "SYek0RMHyFaE"
      },
      "execution_count": null,
      "outputs": []
    },
    {
      "cell_type": "code",
      "source": [
        "predictions = model.transform(test)"
      ],
      "metadata": {
        "id": "4YLW_Mj8yGYD"
      },
      "execution_count": null,
      "outputs": []
    },
    {
      "cell_type": "code",
      "source": [
        "predictions.show(10)"
      ],
      "metadata": {
        "id": "l3XBWAZhyHf8",
        "colab": {
          "base_uri": "https://localhost:8080/"
        },
        "outputId": "ac587cf1-70e8-4cb7-e413-baa8dc2d77a9"
      },
      "execution_count": null,
      "outputs": [
        {
          "output_type": "stream",
          "name": "stdout",
          "text": [
            "+-------+-------+------+---------+----------+\n",
            "|user_id|item_id|rating|timestamp|prediction|\n",
            "+-------+-------+------+---------+----------+\n",
            "|    148|     69|     5|877019101|  2.314816|\n",
            "|    148|    127|     1|877399351| 3.4333818|\n",
            "|    148|    140|     1|877019882| 4.0852523|\n",
            "|    148|    177|     2|877020715| 4.0150204|\n",
            "|    148|    228|     4|877016514|  4.156775|\n",
            "|    148|    432|     5|877019698| 4.4235234|\n",
            "|    148|    473|     5|877399322|  3.225927|\n",
            "|    148|    501|     4|877020297| 1.5426415|\n",
            "|    148|    529|     5|877398901|  4.050088|\n",
            "|    463|      1|     1|890453075| 3.1536057|\n",
            "+-------+-------+------+---------+----------+\n",
            "only showing top 10 rows\n",
            "\n"
          ]
        }
      ]
    },
    {
      "cell_type": "code",
      "source": [
        "evaluator = RegressionEvaluator(metricName=\"rmse\", labelCol=\"rating\", predictionCol=\"prediction\")"
      ],
      "metadata": {
        "id": "kIVSbtk4yJqN"
      },
      "execution_count": null,
      "outputs": []
    },
    {
      "cell_type": "code",
      "source": [
        "rmse = evaluator.evaluate(predictions)"
      ],
      "metadata": {
        "id": "HMDTUvVbyK4h"
      },
      "execution_count": null,
      "outputs": []
    },
    {
      "cell_type": "code",
      "source": [
        "print(f\"Root-mean-square error = {rmse}\")"
      ],
      "metadata": {
        "id": "_5NKGhQyyMBT",
        "colab": {
          "base_uri": "https://localhost:8080/"
        },
        "outputId": "11b82d57-c6cf-4d7a-d6ed-7ae97abacbaa"
      },
      "execution_count": null,
      "outputs": [
        {
          "output_type": "stream",
          "name": "stdout",
          "text": [
            "Root-mean-square error = 1.1457016638026323\n"
          ]
        }
      ]
    },
    {
      "cell_type": "code",
      "source": [
        "#top 10 movies for each user\n",
        "userRecs = model.recommendForAllUsers(10)"
      ],
      "metadata": {
        "id": "i54vac2OyNb_"
      },
      "execution_count": null,
      "outputs": []
    },
    {
      "cell_type": "code",
      "source": [
        "userRecs.show(10, False)"
      ],
      "metadata": {
        "id": "WgY525pRyOrV",
        "colab": {
          "base_uri": "https://localhost:8080/"
        },
        "outputId": "d210e372-32e6-47ea-ec28-6340adcfa95b"
      },
      "execution_count": null,
      "outputs": [
        {
          "output_type": "stream",
          "name": "stdout",
          "text": [
            "+-------+-------------------------------------------------------------------------------------------------------------------------------------------------------------------------------------+\n",
            "|user_id|recommendations                                                                                                                                                                      |\n",
            "+-------+-------------------------------------------------------------------------------------------------------------------------------------------------------------------------------------+\n",
            "|1      |[{1286, 6.69975}, {640, 5.971345}, {1203, 5.9709997}, {945, 5.826293}, {1204, 5.8038974}, {150, 5.780257}, {277, 5.738801}, {12, 5.668956}, {1010, 5.595125}, {481, 5.5184073}]      |\n",
            "|3      |[{253, 9.313805}, {664, 8.289871}, {793, 8.114802}, {466, 8.085911}, {207, 7.9529037}, {1159, 7.7789526}, {20, 7.4758863}, {1192, 7.4420547}, {844, 7.251891}, {836, 7.2188544}]     |\n",
            "|5      |[{160, 6.492758}, {919, 6.3577414}, {152, 6.0699434}, {209, 5.587427}, {972, 5.55836}, {512, 5.4553046}, {1203, 5.443561}, {1286, 5.188338}, {171, 5.135972}, {640, 5.0834184}]      |\n",
            "|6      |[{1203, 5.3928475}, {474, 5.006138}, {525, 4.93517}, {659, 4.930085}, {428, 4.8767705}, {603, 4.7939053}, {664, 4.782658}, {638, 4.777145}, {641, 4.756738}, {489, 4.7494516}]       |\n",
            "|9      |[{320, 8.632649}, {904, 7.2162123}, {962, 6.929397}, {346, 6.680165}, {308, 6.536385}, {1643, 6.3905363}, {750, 6.317921}, {589, 6.278713}, {1005, 6.235033}, {853, 6.1457777}]      |\n",
            "|12     |[{6, 7.6860805}, {909, 7.5032425}, {886, 7.4442997}, {900, 7.4258943}, {1286, 7.139166}, {224, 6.992527}, {745, 6.6121755}, {116, 6.4906955}, {553, 6.4809957}, {865, 6.4391675}]    |\n",
            "|13     |[{337, 6.3514066}, {945, 5.7174106}, {607, 5.7143145}, {48, 5.687582}, {693, 5.678233}, {528, 5.544102}, {166, 5.387296}, {814, 5.3711195}, {1286, 5.3554015}, {194, 5.312101}]      |\n",
            "|15     |[{886, 7.720432}, {1195, 7.265866}, {962, 6.7454906}, {345, 6.680677}, {909, 6.5008755}, {1136, 6.344225}, {305, 6.2306533}, {1092, 6.0123158}, {212, 6.001129}, {1121, 5.948276}]   |\n",
            "|16     |[{219, 6.651584}, {1042, 6.6113715}, {650, 6.581748}, {467, 6.3686056}, {101, 6.358099}, {1240, 6.274347}, {1404, 6.2327685}, {1006, 6.2140484}, {624, 6.1170244}, {1473, 6.043824}] |\n",
            "|17     |[{1286, 8.082807}, {959, 7.4204144}, {1093, 7.111421}, {1019, 7.057928}, {958, 6.9757414}, {1109, 6.8789825}, {1037, 6.8699446}, {585, 6.7905793}, {593, 6.7358193}, {916, 6.470821}]|\n",
            "+-------+-------------------------------------------------------------------------------------------------------------------------------------------------------------------------------------+\n",
            "only showing top 10 rows\n",
            "\n"
          ]
        }
      ]
    },
    {
      "cell_type": "code",
      "source": [
        "#top 10 user for each movie\n",
        "movieRecs = model.recommendForAllItems(10)"
      ],
      "metadata": {
        "id": "RGrHTVVVyP0i"
      },
      "execution_count": null,
      "outputs": []
    },
    {
      "cell_type": "code",
      "source": [
        "movieRecs.show(10, False)"
      ],
      "metadata": {
        "id": "9sM43cAZyQ5J",
        "colab": {
          "base_uri": "https://localhost:8080/"
        },
        "outputId": "bc257f66-d2ee-405a-e037-be0e52128a27"
      },
      "execution_count": null,
      "outputs": [
        {
          "output_type": "stream",
          "name": "stdout",
          "text": [
            "+-------+-------------------------------------------------------------------------------------------------------------------------------------------------------------------------------+\n",
            "|item_id|recommendations                                                                                                                                                                |\n",
            "+-------+-------------------------------------------------------------------------------------------------------------------------------------------------------------------------------+\n",
            "|1      |[{702, 6.4845176}, {511, 6.1056247}, {662, 5.7815666}, {811, 5.6960654}, {513, 5.400644}, {857, 5.400278}, {939, 5.333063}, {818, 5.310624}, {507, 5.303151}, {287, 5.2721314}]|\n",
            "|3      |[{133, 8.389483}, {403, 8.316859}, {78, 7.900161}, {261, 7.760406}, {71, 7.7447357}, {55, 7.3471675}, {148, 7.2551346}, {337, 7.1849837}, {473, 7.184016}, {904, 7.179681}]    |\n",
            "|5      |[{511, 7.387368}, {55, 6.850873}, {857, 6.535614}, {475, 6.330643}, {326, 6.2385926}, {620, 6.2140765}, {168, 6.000986}, {513, 5.914057}, {438, 5.8628726}, {674, 5.85525}]    |\n",
            "|6      |[{739, 9.142903}, {736, 9.0727415}, {4, 8.642575}, {165, 8.620789}, {678, 8.599406}, {562, 8.5124855}, {352, 8.210253}, {217, 8.159219}, {187, 7.7718525}, {259, 7.7409863}]   |\n",
            "|9      |[{730, 6.7287393}, {4, 6.1749554}, {713, 6.1426935}, {511, 5.9657373}, {86, 5.9486184}, {71, 5.894709}, {819, 5.8408165}, {274, 5.8320246}, {742, 5.789407}, {309, 5.7454767}] |\n",
            "|12     |[{662, 7.6036463}, {702, 7.237361}, {811, 6.7521276}, {511, 6.5797257}, {857, 6.389048}, {485, 6.2676454}, {282, 6.251419}, {309, 6.247661}, {461, 6.186078}, {745, 6.183193}] |\n",
            "|13     |[{211, 8.044503}, {349, 7.509016}, {80, 6.428558}, {730, 6.2207685}, {316, 6.2091107}, {917, 6.1820197}, {794, 6.1710644}, {309, 6.0855656}, {408, 6.071369}, {418, 5.9995637}]|\n",
            "|15     |[{473, 6.9004564}, {127, 6.692255}, {180, 6.260567}, {242, 6.2349124}, {78, 5.988214}, {511, 5.8521743}, {771, 5.6778483}, {230, 5.5895076}, {602, 5.5063443}, {258, 5.496926}]|\n",
            "|16     |[{78, 8.9074335}, {491, 8.596336}, {148, 8.448105}, {597, 8.070494}, {187, 7.4653716}, {799, 7.270554}, {37, 7.2651453}, {309, 7.1400986}, {219, 7.1391225}, {598, 7.0656505}] |\n",
            "|17     |[{78, 7.208251}, {473, 6.932622}, {494, 6.565505}, {512, 6.3526115}, {811, 6.3298793}, {602, 6.134237}, {127, 6.128931}, {597, 6.078797}, {241, 6.0566187}, {150, 5.9684753}]  |\n",
            "+-------+-------------------------------------------------------------------------------------------------------------------------------------------------------------------------------+\n",
            "only showing top 10 rows\n",
            "\n"
          ]
        }
      ]
    },
    {
      "cell_type": "markdown",
      "source": [
        "##Classification\n",
        "###Decision Trees"
      ],
      "metadata": {
        "id": "kTofA2eX3_b2"
      }
    },
    {
      "cell_type": "code",
      "source": [
        "#!unzip train.csv.zip"
      ],
      "metadata": {
        "id": "Y-J-Oh_i4C0j"
      },
      "execution_count": null,
      "outputs": []
    },
    {
      "cell_type": "code",
      "source": [
        "data = spark.read.csv(\"train.csv\", header=True, inferSchema=True, sep=\",\")"
      ],
      "metadata": {
        "id": "BbMlgg9X4Efn"
      },
      "execution_count": null,
      "outputs": []
    },
    {
      "cell_type": "code",
      "source": [
        "data.show(10)"
      ],
      "metadata": {
        "id": "DJUoJiqW4FrR",
        "colab": {
          "base_uri": "https://localhost:8080/"
        },
        "outputId": "c079e8cf-6fb4-493e-d88a-7b8446857716"
      },
      "execution_count": null,
      "outputs": [
        {
          "output_type": "stream",
          "name": "stdout",
          "text": [
            "+---+---------+------+-----+--------------------------------+------------------------------+-------------------------------+-------------+--------------+-------------+----------------------------------+----------------+----------------+----------------+----------------+----------+----------+----------+----------+----------+----------+----------+----------+----------+-----------+-----------+-----------+-----------+-----------+-----------+-----------+-----------+-----------+-----------+-----------+-----------+-----------+-----------+-----------+-----------+-----------+-----------+-----------+-----------+-----------+-----------+-----------+-----------+-----------+-----------+-----------+-----------+-----------+-----------+-----------+----------+\n",
            "| Id|Elevation|Aspect|Slope|Horizontal_Distance_To_Hydrology|Vertical_Distance_To_Hydrology|Horizontal_Distance_To_Roadways|Hillshade_9am|Hillshade_Noon|Hillshade_3pm|Horizontal_Distance_To_Fire_Points|Wilderness_Area1|Wilderness_Area2|Wilderness_Area3|Wilderness_Area4|Soil_Type1|Soil_Type2|Soil_Type3|Soil_Type4|Soil_Type5|Soil_Type6|Soil_Type7|Soil_Type8|Soil_Type9|Soil_Type10|Soil_Type11|Soil_Type12|Soil_Type13|Soil_Type14|Soil_Type15|Soil_Type16|Soil_Type17|Soil_Type18|Soil_Type19|Soil_Type20|Soil_Type21|Soil_Type22|Soil_Type23|Soil_Type24|Soil_Type25|Soil_Type26|Soil_Type27|Soil_Type28|Soil_Type29|Soil_Type30|Soil_Type31|Soil_Type32|Soil_Type33|Soil_Type34|Soil_Type35|Soil_Type36|Soil_Type37|Soil_Type38|Soil_Type39|Soil_Type40|Cover_Type|\n",
            "+---+---------+------+-----+--------------------------------+------------------------------+-------------------------------+-------------+--------------+-------------+----------------------------------+----------------+----------------+----------------+----------------+----------+----------+----------+----------+----------+----------+----------+----------+----------+-----------+-----------+-----------+-----------+-----------+-----------+-----------+-----------+-----------+-----------+-----------+-----------+-----------+-----------+-----------+-----------+-----------+-----------+-----------+-----------+-----------+-----------+-----------+-----------+-----------+-----------+-----------+-----------+-----------+-----------+-----------+----------+\n",
            "|  1|     2596|    51|    3|                             258|                             0|                            510|          221|           232|          148|                              6279|               1|               0|               0|               0|         0|         0|         0|         0|         0|         0|         0|         0|         0|          0|          0|          0|          0|          0|          0|          0|          0|          0|          0|          0|          0|          0|          0|          0|          0|          0|          0|          0|          1|          0|          0|          0|          0|          0|          0|          0|          0|          0|          0|          0|         5|\n",
            "|  2|     2590|    56|    2|                             212|                            -6|                            390|          220|           235|          151|                              6225|               1|               0|               0|               0|         0|         0|         0|         0|         0|         0|         0|         0|         0|          0|          0|          0|          0|          0|          0|          0|          0|          0|          0|          0|          0|          0|          0|          0|          0|          0|          0|          0|          1|          0|          0|          0|          0|          0|          0|          0|          0|          0|          0|          0|         5|\n",
            "|  3|     2804|   139|    9|                             268|                            65|                           3180|          234|           238|          135|                              6121|               1|               0|               0|               0|         0|         0|         0|         0|         0|         0|         0|         0|         0|          0|          0|          1|          0|          0|          0|          0|          0|          0|          0|          0|          0|          0|          0|          0|          0|          0|          0|          0|          0|          0|          0|          0|          0|          0|          0|          0|          0|          0|          0|          0|         2|\n",
            "|  4|     2785|   155|   18|                             242|                           118|                           3090|          238|           238|          122|                              6211|               1|               0|               0|               0|         0|         0|         0|         0|         0|         0|         0|         0|         0|          0|          0|          0|          0|          0|          0|          0|          0|          0|          0|          0|          0|          0|          0|          0|          0|          0|          0|          0|          0|          1|          0|          0|          0|          0|          0|          0|          0|          0|          0|          0|         2|\n",
            "|  5|     2595|    45|    2|                             153|                            -1|                            391|          220|           234|          150|                              6172|               1|               0|               0|               0|         0|         0|         0|         0|         0|         0|         0|         0|         0|          0|          0|          0|          0|          0|          0|          0|          0|          0|          0|          0|          0|          0|          0|          0|          0|          0|          0|          0|          1|          0|          0|          0|          0|          0|          0|          0|          0|          0|          0|          0|         5|\n",
            "|  6|     2579|   132|    6|                             300|                           -15|                             67|          230|           237|          140|                              6031|               1|               0|               0|               0|         0|         0|         0|         0|         0|         0|         0|         0|         0|          0|          0|          0|          0|          0|          0|          0|          0|          0|          0|          0|          0|          0|          0|          0|          0|          0|          0|          0|          1|          0|          0|          0|          0|          0|          0|          0|          0|          0|          0|          0|         2|\n",
            "|  7|     2606|    45|    7|                             270|                             5|                            633|          222|           225|          138|                              6256|               1|               0|               0|               0|         0|         0|         0|         0|         0|         0|         0|         0|         0|          0|          0|          0|          0|          0|          0|          0|          0|          0|          0|          0|          0|          0|          0|          0|          0|          0|          0|          0|          1|          0|          0|          0|          0|          0|          0|          0|          0|          0|          0|          0|         5|\n",
            "|  8|     2605|    49|    4|                             234|                             7|                            573|          222|           230|          144|                              6228|               1|               0|               0|               0|         0|         0|         0|         0|         0|         0|         0|         0|         0|          0|          0|          0|          0|          0|          0|          0|          0|          0|          0|          0|          0|          0|          0|          0|          0|          0|          0|          0|          1|          0|          0|          0|          0|          0|          0|          0|          0|          0|          0|          0|         5|\n",
            "|  9|     2617|    45|    9|                             240|                            56|                            666|          223|           221|          133|                              6244|               1|               0|               0|               0|         0|         0|         0|         0|         0|         0|         0|         0|         0|          0|          0|          0|          0|          0|          0|          0|          0|          0|          0|          0|          0|          0|          0|          0|          0|          0|          0|          0|          1|          0|          0|          0|          0|          0|          0|          0|          0|          0|          0|          0|         5|\n",
            "| 10|     2612|    59|   10|                             247|                            11|                            636|          228|           219|          124|                              6230|               1|               0|               0|               0|         0|         0|         0|         0|         0|         0|         0|         0|         0|          0|          0|          0|          0|          0|          0|          0|          0|          0|          0|          0|          0|          0|          0|          0|          0|          0|          0|          0|          1|          0|          0|          0|          0|          0|          0|          0|          0|          0|          0|          0|         5|\n",
            "+---+---------+------+-----+--------------------------------+------------------------------+-------------------------------+-------------+--------------+-------------+----------------------------------+----------------+----------------+----------------+----------------+----------+----------+----------+----------+----------+----------+----------+----------+----------+-----------+-----------+-----------+-----------+-----------+-----------+-----------+-----------+-----------+-----------+-----------+-----------+-----------+-----------+-----------+-----------+-----------+-----------+-----------+-----------+-----------+-----------+-----------+-----------+-----------+-----------+-----------+-----------+-----------+-----------+-----------+----------+\n",
            "only showing top 10 rows\n",
            "\n"
          ]
        }
      ]
    },
    {
      "cell_type": "code",
      "source": [
        "(train, test) = data.randomSplit([0.8, 0.2])"
      ],
      "metadata": {
        "id": "I7jxe1mMC23a"
      },
      "execution_count": null,
      "outputs": []
    },
    {
      "cell_type": "markdown",
      "source": [
        "|y|x1|x2|x3\n",
        "|-|-|-|-|\n",
        "|5|1|2|3|\n",
        "|3|5|6|7|\n",
        "\n",
        "|y|X_i|\n",
        "|-|---|\n",
        "|5|[1,2,3]|\n",
        "|3|[5,6,7]|"
      ],
      "metadata": {
        "id": "eoyHaEjk45--"
      }
    },
    {
      "cell_type": "code",
      "source": [
        "from pyspark.ml.feature import VectorAssembler\n",
        "assembler = VectorAssembler(inputCols=[x for x in data.columns if x not in ['Id', 'Cover_Type']], outputCol='features')"
      ],
      "metadata": {
        "id": "zTCMkUyQ4Gq1"
      },
      "execution_count": null,
      "outputs": []
    },
    {
      "cell_type": "code",
      "source": [
        "df_assemled_preview = assembler.transform(train)"
      ],
      "metadata": {
        "id": "Ti-vYAWp4IEZ"
      },
      "execution_count": null,
      "outputs": []
    },
    {
      "cell_type": "code",
      "source": [
        "df_assemled_preview.show(10)"
      ],
      "metadata": {
        "id": "QykXzwgi4Jcj",
        "colab": {
          "base_uri": "https://localhost:8080/"
        },
        "outputId": "a022ae05-0fa5-4db5-cde7-00464a04eb66"
      },
      "execution_count": null,
      "outputs": [
        {
          "output_type": "stream",
          "name": "stdout",
          "text": [
            "+---+---------+------+-----+--------------------------------+------------------------------+-------------------------------+-------------+--------------+-------------+----------------------------------+----------------+----------------+----------------+----------------+----------+----------+----------+----------+----------+----------+----------+----------+----------+-----------+-----------+-----------+-----------+-----------+-----------+-----------+-----------+-----------+-----------+-----------+-----------+-----------+-----------+-----------+-----------+-----------+-----------+-----------+-----------+-----------+-----------+-----------+-----------+-----------+-----------+-----------+-----------+-----------+-----------+-----------+----------+--------------------+\n",
            "| Id|Elevation|Aspect|Slope|Horizontal_Distance_To_Hydrology|Vertical_Distance_To_Hydrology|Horizontal_Distance_To_Roadways|Hillshade_9am|Hillshade_Noon|Hillshade_3pm|Horizontal_Distance_To_Fire_Points|Wilderness_Area1|Wilderness_Area2|Wilderness_Area3|Wilderness_Area4|Soil_Type1|Soil_Type2|Soil_Type3|Soil_Type4|Soil_Type5|Soil_Type6|Soil_Type7|Soil_Type8|Soil_Type9|Soil_Type10|Soil_Type11|Soil_Type12|Soil_Type13|Soil_Type14|Soil_Type15|Soil_Type16|Soil_Type17|Soil_Type18|Soil_Type19|Soil_Type20|Soil_Type21|Soil_Type22|Soil_Type23|Soil_Type24|Soil_Type25|Soil_Type26|Soil_Type27|Soil_Type28|Soil_Type29|Soil_Type30|Soil_Type31|Soil_Type32|Soil_Type33|Soil_Type34|Soil_Type35|Soil_Type36|Soil_Type37|Soil_Type38|Soil_Type39|Soil_Type40|Cover_Type|            features|\n",
            "+---+---------+------+-----+--------------------------------+------------------------------+-------------------------------+-------------+--------------+-------------+----------------------------------+----------------+----------------+----------------+----------------+----------+----------+----------+----------+----------+----------+----------+----------+----------+-----------+-----------+-----------+-----------+-----------+-----------+-----------+-----------+-----------+-----------+-----------+-----------+-----------+-----------+-----------+-----------+-----------+-----------+-----------+-----------+-----------+-----------+-----------+-----------+-----------+-----------+-----------+-----------+-----------+-----------+-----------+----------+--------------------+\n",
            "|  1|     2596|    51|    3|                             258|                             0|                            510|          221|           232|          148|                              6279|               1|               0|               0|               0|         0|         0|         0|         0|         0|         0|         0|         0|         0|          0|          0|          0|          0|          0|          0|          0|          0|          0|          0|          0|          0|          0|          0|          0|          0|          0|          0|          0|          1|          0|          0|          0|          0|          0|          0|          0|          0|          0|          0|          0|         5|(54,[0,1,2,3,5,6,...|\n",
            "|  2|     2590|    56|    2|                             212|                            -6|                            390|          220|           235|          151|                              6225|               1|               0|               0|               0|         0|         0|         0|         0|         0|         0|         0|         0|         0|          0|          0|          0|          0|          0|          0|          0|          0|          0|          0|          0|          0|          0|          0|          0|          0|          0|          0|          0|          1|          0|          0|          0|          0|          0|          0|          0|          0|          0|          0|          0|         5|(54,[0,1,2,3,4,5,...|\n",
            "|  3|     2804|   139|    9|                             268|                            65|                           3180|          234|           238|          135|                              6121|               1|               0|               0|               0|         0|         0|         0|         0|         0|         0|         0|         0|         0|          0|          0|          1|          0|          0|          0|          0|          0|          0|          0|          0|          0|          0|          0|          0|          0|          0|          0|          0|          0|          0|          0|          0|          0|          0|          0|          0|          0|          0|          0|          0|         2|(54,[0,1,2,3,4,5,...|\n",
            "|  4|     2785|   155|   18|                             242|                           118|                           3090|          238|           238|          122|                              6211|               1|               0|               0|               0|         0|         0|         0|         0|         0|         0|         0|         0|         0|          0|          0|          0|          0|          0|          0|          0|          0|          0|          0|          0|          0|          0|          0|          0|          0|          0|          0|          0|          0|          1|          0|          0|          0|          0|          0|          0|          0|          0|          0|          0|         2|(54,[0,1,2,3,4,5,...|\n",
            "|  5|     2595|    45|    2|                             153|                            -1|                            391|          220|           234|          150|                              6172|               1|               0|               0|               0|         0|         0|         0|         0|         0|         0|         0|         0|         0|          0|          0|          0|          0|          0|          0|          0|          0|          0|          0|          0|          0|          0|          0|          0|          0|          0|          0|          0|          1|          0|          0|          0|          0|          0|          0|          0|          0|          0|          0|          0|         5|(54,[0,1,2,3,4,5,...|\n",
            "|  6|     2579|   132|    6|                             300|                           -15|                             67|          230|           237|          140|                              6031|               1|               0|               0|               0|         0|         0|         0|         0|         0|         0|         0|         0|         0|          0|          0|          0|          0|          0|          0|          0|          0|          0|          0|          0|          0|          0|          0|          0|          0|          0|          0|          0|          1|          0|          0|          0|          0|          0|          0|          0|          0|          0|          0|          0|         2|(54,[0,1,2,3,4,5,...|\n",
            "|  7|     2606|    45|    7|                             270|                             5|                            633|          222|           225|          138|                              6256|               1|               0|               0|               0|         0|         0|         0|         0|         0|         0|         0|         0|         0|          0|          0|          0|          0|          0|          0|          0|          0|          0|          0|          0|          0|          0|          0|          0|          0|          0|          0|          0|          1|          0|          0|          0|          0|          0|          0|          0|          0|          0|          0|          0|         5|(54,[0,1,2,3,4,5,...|\n",
            "|  8|     2605|    49|    4|                             234|                             7|                            573|          222|           230|          144|                              6228|               1|               0|               0|               0|         0|         0|         0|         0|         0|         0|         0|         0|         0|          0|          0|          0|          0|          0|          0|          0|          0|          0|          0|          0|          0|          0|          0|          0|          0|          0|          0|          0|          1|          0|          0|          0|          0|          0|          0|          0|          0|          0|          0|          0|         5|(54,[0,1,2,3,4,5,...|\n",
            "|  9|     2617|    45|    9|                             240|                            56|                            666|          223|           221|          133|                              6244|               1|               0|               0|               0|         0|         0|         0|         0|         0|         0|         0|         0|         0|          0|          0|          0|          0|          0|          0|          0|          0|          0|          0|          0|          0|          0|          0|          0|          0|          0|          0|          0|          1|          0|          0|          0|          0|          0|          0|          0|          0|          0|          0|          0|         5|(54,[0,1,2,3,4,5,...|\n",
            "| 12|     2886|   151|   11|                             371|                            26|                           5253|          234|           240|          136|                              4051|               1|               0|               0|               0|         0|         0|         0|         0|         0|         0|         0|         0|         0|          0|          0|          0|          0|          0|          0|          0|          0|          0|          0|          0|          0|          0|          0|          0|          0|          0|          0|          0|          0|          1|          0|          0|          0|          0|          0|          0|          0|          0|          0|          0|         2|(54,[0,1,2,3,4,5,...|\n",
            "+---+---------+------+-----+--------------------------------+------------------------------+-------------------------------+-------------+--------------+-------------+----------------------------------+----------------+----------------+----------------+----------------+----------+----------+----------+----------+----------+----------+----------+----------+----------+-----------+-----------+-----------+-----------+-----------+-----------+-----------+-----------+-----------+-----------+-----------+-----------+-----------+-----------+-----------+-----------+-----------+-----------+-----------+-----------+-----------+-----------+-----------+-----------+-----------+-----------+-----------+-----------+-----------+-----------+-----------+----------+--------------------+\n",
            "only showing top 10 rows\n",
            "\n"
          ]
        }
      ]
    },
    {
      "cell_type": "code",
      "source": [
        "df_assemled_preview.rdd.take(1)"
      ],
      "metadata": {
        "id": "kBR1WIH54KlZ",
        "colab": {
          "base_uri": "https://localhost:8080/"
        },
        "outputId": "6fae6379-5417-4000-8800-4bc3698fc878"
      },
      "execution_count": null,
      "outputs": [
        {
          "output_type": "execute_result",
          "data": {
            "text/plain": [
              "[Row(Id=1, Elevation=2596, Aspect=51, Slope=3, Horizontal_Distance_To_Hydrology=258, Vertical_Distance_To_Hydrology=0, Horizontal_Distance_To_Roadways=510, Hillshade_9am=221, Hillshade_Noon=232, Hillshade_3pm=148, Horizontal_Distance_To_Fire_Points=6279, Wilderness_Area1=1, Wilderness_Area2=0, Wilderness_Area3=0, Wilderness_Area4=0, Soil_Type1=0, Soil_Type2=0, Soil_Type3=0, Soil_Type4=0, Soil_Type5=0, Soil_Type6=0, Soil_Type7=0, Soil_Type8=0, Soil_Type9=0, Soil_Type10=0, Soil_Type11=0, Soil_Type12=0, Soil_Type13=0, Soil_Type14=0, Soil_Type15=0, Soil_Type16=0, Soil_Type17=0, Soil_Type18=0, Soil_Type19=0, Soil_Type20=0, Soil_Type21=0, Soil_Type22=0, Soil_Type23=0, Soil_Type24=0, Soil_Type25=0, Soil_Type26=0, Soil_Type27=0, Soil_Type28=0, Soil_Type29=1, Soil_Type30=0, Soil_Type31=0, Soil_Type32=0, Soil_Type33=0, Soil_Type34=0, Soil_Type35=0, Soil_Type36=0, Soil_Type37=0, Soil_Type38=0, Soil_Type39=0, Soil_Type40=0, Cover_Type=5, features=SparseVector(54, {0: 2596.0, 1: 51.0, 2: 3.0, 3: 258.0, 5: 510.0, 6: 221.0, 7: 232.0, 8: 148.0, 9: 6279.0, 10: 1.0, 42: 1.0}))]"
            ]
          },
          "metadata": {},
          "execution_count": 34
        }
      ]
    },
    {
      "cell_type": "code",
      "source": [
        "from pyspark.ml.feature import StringIndexer\n",
        "labelIndexer = StringIndexer(inputCol='Cover_Type', outputCol='label').fit(data)"
      ],
      "metadata": {
        "id": "wD9Jrewx4OKz"
      },
      "execution_count": null,
      "outputs": []
    },
    {
      "cell_type": "code",
      "source": [
        "df_indexed_prview = labelIndexer.transform(train)\n",
        "df_indexed_prview.show(10)"
      ],
      "metadata": {
        "id": "SyiBseKjDBeK",
        "colab": {
          "base_uri": "https://localhost:8080/"
        },
        "outputId": "0456e12e-6ffc-43d6-e222-7424469a40fd"
      },
      "execution_count": null,
      "outputs": [
        {
          "output_type": "stream",
          "name": "stdout",
          "text": [
            "+---+---------+------+-----+--------------------------------+------------------------------+-------------------------------+-------------+--------------+-------------+----------------------------------+----------------+----------------+----------------+----------------+----------+----------+----------+----------+----------+----------+----------+----------+----------+-----------+-----------+-----------+-----------+-----------+-----------+-----------+-----------+-----------+-----------+-----------+-----------+-----------+-----------+-----------+-----------+-----------+-----------+-----------+-----------+-----------+-----------+-----------+-----------+-----------+-----------+-----------+-----------+-----------+-----------+-----------+----------+-----+\n",
            "| Id|Elevation|Aspect|Slope|Horizontal_Distance_To_Hydrology|Vertical_Distance_To_Hydrology|Horizontal_Distance_To_Roadways|Hillshade_9am|Hillshade_Noon|Hillshade_3pm|Horizontal_Distance_To_Fire_Points|Wilderness_Area1|Wilderness_Area2|Wilderness_Area3|Wilderness_Area4|Soil_Type1|Soil_Type2|Soil_Type3|Soil_Type4|Soil_Type5|Soil_Type6|Soil_Type7|Soil_Type8|Soil_Type9|Soil_Type10|Soil_Type11|Soil_Type12|Soil_Type13|Soil_Type14|Soil_Type15|Soil_Type16|Soil_Type17|Soil_Type18|Soil_Type19|Soil_Type20|Soil_Type21|Soil_Type22|Soil_Type23|Soil_Type24|Soil_Type25|Soil_Type26|Soil_Type27|Soil_Type28|Soil_Type29|Soil_Type30|Soil_Type31|Soil_Type32|Soil_Type33|Soil_Type34|Soil_Type35|Soil_Type36|Soil_Type37|Soil_Type38|Soil_Type39|Soil_Type40|Cover_Type|label|\n",
            "+---+---------+------+-----+--------------------------------+------------------------------+-------------------------------+-------------+--------------+-------------+----------------------------------+----------------+----------------+----------------+----------------+----------+----------+----------+----------+----------+----------+----------+----------+----------+-----------+-----------+-----------+-----------+-----------+-----------+-----------+-----------+-----------+-----------+-----------+-----------+-----------+-----------+-----------+-----------+-----------+-----------+-----------+-----------+-----------+-----------+-----------+-----------+-----------+-----------+-----------+-----------+-----------+-----------+-----------+----------+-----+\n",
            "|  1|     2596|    51|    3|                             258|                             0|                            510|          221|           232|          148|                              6279|               1|               0|               0|               0|         0|         0|         0|         0|         0|         0|         0|         0|         0|          0|          0|          0|          0|          0|          0|          0|          0|          0|          0|          0|          0|          0|          0|          0|          0|          0|          0|          0|          1|          0|          0|          0|          0|          0|          0|          0|          0|          0|          0|          0|         5|  4.0|\n",
            "|  2|     2590|    56|    2|                             212|                            -6|                            390|          220|           235|          151|                              6225|               1|               0|               0|               0|         0|         0|         0|         0|         0|         0|         0|         0|         0|          0|          0|          0|          0|          0|          0|          0|          0|          0|          0|          0|          0|          0|          0|          0|          0|          0|          0|          0|          1|          0|          0|          0|          0|          0|          0|          0|          0|          0|          0|          0|         5|  4.0|\n",
            "|  3|     2804|   139|    9|                             268|                            65|                           3180|          234|           238|          135|                              6121|               1|               0|               0|               0|         0|         0|         0|         0|         0|         0|         0|         0|         0|          0|          0|          1|          0|          0|          0|          0|          0|          0|          0|          0|          0|          0|          0|          0|          0|          0|          0|          0|          0|          0|          0|          0|          0|          0|          0|          0|          0|          0|          0|          0|         2|  1.0|\n",
            "|  4|     2785|   155|   18|                             242|                           118|                           3090|          238|           238|          122|                              6211|               1|               0|               0|               0|         0|         0|         0|         0|         0|         0|         0|         0|         0|          0|          0|          0|          0|          0|          0|          0|          0|          0|          0|          0|          0|          0|          0|          0|          0|          0|          0|          0|          0|          1|          0|          0|          0|          0|          0|          0|          0|          0|          0|          0|         2|  1.0|\n",
            "|  5|     2595|    45|    2|                             153|                            -1|                            391|          220|           234|          150|                              6172|               1|               0|               0|               0|         0|         0|         0|         0|         0|         0|         0|         0|         0|          0|          0|          0|          0|          0|          0|          0|          0|          0|          0|          0|          0|          0|          0|          0|          0|          0|          0|          0|          1|          0|          0|          0|          0|          0|          0|          0|          0|          0|          0|          0|         5|  4.0|\n",
            "|  6|     2579|   132|    6|                             300|                           -15|                             67|          230|           237|          140|                              6031|               1|               0|               0|               0|         0|         0|         0|         0|         0|         0|         0|         0|         0|          0|          0|          0|          0|          0|          0|          0|          0|          0|          0|          0|          0|          0|          0|          0|          0|          0|          0|          0|          1|          0|          0|          0|          0|          0|          0|          0|          0|          0|          0|          0|         2|  1.0|\n",
            "|  7|     2606|    45|    7|                             270|                             5|                            633|          222|           225|          138|                              6256|               1|               0|               0|               0|         0|         0|         0|         0|         0|         0|         0|         0|         0|          0|          0|          0|          0|          0|          0|          0|          0|          0|          0|          0|          0|          0|          0|          0|          0|          0|          0|          0|          1|          0|          0|          0|          0|          0|          0|          0|          0|          0|          0|          0|         5|  4.0|\n",
            "|  8|     2605|    49|    4|                             234|                             7|                            573|          222|           230|          144|                              6228|               1|               0|               0|               0|         0|         0|         0|         0|         0|         0|         0|         0|         0|          0|          0|          0|          0|          0|          0|          0|          0|          0|          0|          0|          0|          0|          0|          0|          0|          0|          0|          0|          1|          0|          0|          0|          0|          0|          0|          0|          0|          0|          0|          0|         5|  4.0|\n",
            "|  9|     2617|    45|    9|                             240|                            56|                            666|          223|           221|          133|                              6244|               1|               0|               0|               0|         0|         0|         0|         0|         0|         0|         0|         0|         0|          0|          0|          0|          0|          0|          0|          0|          0|          0|          0|          0|          0|          0|          0|          0|          0|          0|          0|          0|          1|          0|          0|          0|          0|          0|          0|          0|          0|          0|          0|          0|         5|  4.0|\n",
            "| 12|     2886|   151|   11|                             371|                            26|                           5253|          234|           240|          136|                              4051|               1|               0|               0|               0|         0|         0|         0|         0|         0|         0|         0|         0|         0|          0|          0|          0|          0|          0|          0|          0|          0|          0|          0|          0|          0|          0|          0|          0|          0|          0|          0|          0|          0|          1|          0|          0|          0|          0|          0|          0|          0|          0|          0|          0|         2|  1.0|\n",
            "+---+---------+------+-----+--------------------------------+------------------------------+-------------------------------+-------------+--------------+-------------+----------------------------------+----------------+----------------+----------------+----------------+----------+----------+----------+----------+----------+----------+----------+----------+----------+-----------+-----------+-----------+-----------+-----------+-----------+-----------+-----------+-----------+-----------+-----------+-----------+-----------+-----------+-----------+-----------+-----------+-----------+-----------+-----------+-----------+-----------+-----------+-----------+-----------+-----------+-----------+-----------+-----------+-----------+-----------+----------+-----+\n",
            "only showing top 10 rows\n",
            "\n"
          ]
        }
      ]
    },
    {
      "cell_type": "code",
      "source": [
        "from pyspark.ml.classification import DecisionTreeClassifier"
      ],
      "metadata": {
        "id": "KxLbHPN84PG0"
      },
      "execution_count": null,
      "outputs": []
    },
    {
      "cell_type": "code",
      "source": [
        "dt = DecisionTreeClassifier(impurity='gini',\n",
        "                            maxDepth=5,\n",
        "                            maxBins=32,\n",
        "                            featuresCol='features',\n",
        "                            labelCol='label')"
      ],
      "metadata": {
        "id": "zMF-xqzB4QNo"
      },
      "execution_count": null,
      "outputs": []
    },
    {
      "cell_type": "code",
      "source": [
        "from pyspark.ml import Pipeline"
      ],
      "metadata": {
        "id": "DpCJLNyY4RII"
      },
      "execution_count": null,
      "outputs": []
    },
    {
      "cell_type": "code",
      "source": [
        "pipeline = Pipeline(stages=[assembler, labelIndexer, dt])"
      ],
      "metadata": {
        "id": "V0NRjjyG4SA1"
      },
      "execution_count": null,
      "outputs": []
    },
    {
      "cell_type": "code",
      "source": [
        "model_pipeline = pipeline.fit(train)"
      ],
      "metadata": {
        "id": "s6G_iuyM4TLb"
      },
      "execution_count": null,
      "outputs": []
    },
    {
      "cell_type": "code",
      "source": [
        "model_pipeline.stages"
      ],
      "metadata": {
        "id": "sm3mMoTADGXT",
        "colab": {
          "base_uri": "https://localhost:8080/"
        },
        "outputId": "29a6e32f-cbc8-4827-9c3e-81d508b37030"
      },
      "execution_count": null,
      "outputs": [
        {
          "output_type": "execute_result",
          "data": {
            "text/plain": [
              "[VectorAssembler_573ce4df9ec4,\n",
              " StringIndexerModel: uid=StringIndexer_f7bf08765476, handleInvalid=error,\n",
              " DecisionTreeClassificationModel: uid=DecisionTreeClassifier_b4152f30347b, depth=5, numNodes=51, numClasses=7, numFeatures=54]"
            ]
          },
          "metadata": {},
          "execution_count": 42
        }
      ]
    },
    {
      "cell_type": "code",
      "source": [
        "treeModel = model_pipeline.stages[2]"
      ],
      "metadata": {
        "id": "cGJPoVTv4VEV"
      },
      "execution_count": null,
      "outputs": []
    },
    {
      "cell_type": "code",
      "source": [
        "treeModel"
      ],
      "metadata": {
        "id": "_a3u4FdQ4WFB",
        "colab": {
          "base_uri": "https://localhost:8080/"
        },
        "outputId": "e9edcccd-4950-418e-c21c-f5c7e8d02dee"
      },
      "execution_count": null,
      "outputs": [
        {
          "output_type": "execute_result",
          "data": {
            "text/plain": [
              "DecisionTreeClassificationModel: uid=DecisionTreeClassifier_b4152f30347b, depth=5, numNodes=51, numClasses=7, numFeatures=54"
            ]
          },
          "metadata": {},
          "execution_count": 44
        }
      ]
    },
    {
      "cell_type": "code",
      "source": [
        "print(treeModel.toDebugString)"
      ],
      "metadata": {
        "id": "H2tr6ir_4XD8",
        "colab": {
          "base_uri": "https://localhost:8080/"
        },
        "outputId": "56ee912a-fbaa-4bcd-8f21-94c148c0f998"
      },
      "execution_count": null,
      "outputs": [
        {
          "output_type": "stream",
          "name": "stdout",
          "text": [
            "DecisionTreeClassificationModel: uid=DecisionTreeClassifier_b4152f30347b, depth=5, numNodes=51, numClasses=7, numFeatures=54\n",
            "  If (feature 0 <= 2677.5)\n",
            "   If (feature 0 <= 2376.5)\n",
            "    If (feature 6 <= 192.5)\n",
            "     If (feature 3 <= 15.0)\n",
            "      Predict: 3.0\n",
            "     Else (feature 3 > 15.0)\n",
            "      If (feature 30 <= 0.5)\n",
            "       Predict: 2.0\n",
            "      Else (feature 30 > 0.5)\n",
            "       Predict: 3.0\n",
            "    Else (feature 6 > 192.5)\n",
            "     If (feature 3 <= 15.0)\n",
            "      If (feature 12 <= 0.5)\n",
            "       Predict: 3.0\n",
            "      Else (feature 12 > 0.5)\n",
            "       Predict: 5.0\n",
            "     Else (feature 3 > 15.0)\n",
            "      Predict: 3.0\n",
            "   Else (feature 0 > 2376.5)\n",
            "    If (feature 10 <= 0.5)\n",
            "     If (feature 17 <= 0.5)\n",
            "      Predict: 5.0\n",
            "     Else (feature 17 > 0.5)\n",
            "      If (feature 3 <= 15.0)\n",
            "       Predict: 5.0\n",
            "      Else (feature 3 > 15.0)\n",
            "       Predict: 2.0\n",
            "    Else (feature 10 > 0.5)\n",
            "     If (feature 31 <= 0.5)\n",
            "      If (feature 8 <= 79.5)\n",
            "       Predict: 4.0\n",
            "      Else (feature 8 > 79.5)\n",
            "       Predict: 1.0\n",
            "     Else (feature 31 > 0.5)\n",
            "      If (feature 5 <= 970.5)\n",
            "       Predict: 4.0\n",
            "      Else (feature 5 > 970.5)\n",
            "       Predict: 1.0\n",
            "  Else (feature 0 > 2677.5)\n",
            "   If (feature 0 <= 3214.5)\n",
            "    If (feature 0 <= 2937.5)\n",
            "     If (feature 9 <= 2454.5)\n",
            "      Predict: 4.0\n",
            "     Else (feature 9 > 2454.5)\n",
            "      If (feature 2 <= 24.5)\n",
            "       Predict: 1.0\n",
            "      Else (feature 2 > 24.5)\n",
            "       Predict: 4.0\n",
            "    Else (feature 0 > 2937.5)\n",
            "     If (feature 0 <= 3044.5)\n",
            "      If (feature 3 <= 122.0)\n",
            "       Predict: 0.0\n",
            "      Else (feature 3 > 122.0)\n",
            "       Predict: 1.0\n",
            "     Else (feature 0 > 3044.5)\n",
            "      If (feature 7 <= 239.5)\n",
            "       Predict: 0.0\n",
            "      Else (feature 7 > 239.5)\n",
            "       Predict: 1.0\n",
            "   Else (feature 0 > 3214.5)\n",
            "    If (feature 0 <= 3298.5)\n",
            "     If (feature 52 <= 0.5)\n",
            "      If (feature 51 <= 0.5)\n",
            "       Predict: 0.0\n",
            "      Else (feature 51 > 0.5)\n",
            "       Predict: 6.0\n",
            "     Else (feature 52 > 0.5)\n",
            "      Predict: 6.0\n",
            "    Else (feature 0 > 3298.5)\n",
            "     If (feature 45 <= 0.5)\n",
            "      Predict: 6.0\n",
            "     Else (feature 45 > 0.5)\n",
            "      If (feature 2 <= 7.5)\n",
            "       Predict: 6.0\n",
            "      Else (feature 2 > 7.5)\n",
            "       Predict: 0.0\n",
            "\n"
          ]
        }
      ]
    },
    {
      "cell_type": "code",
      "source": [
        "predictions = model_pipeline.transform(test)"
      ],
      "metadata": {
        "id": "s6stkr574YK4"
      },
      "execution_count": null,
      "outputs": []
    },
    {
      "cell_type": "code",
      "source": [
        "predictions.show(10, False)"
      ],
      "metadata": {
        "id": "obtsqQRf4Z4x",
        "colab": {
          "base_uri": "https://localhost:8080/"
        },
        "outputId": "d5df3174-c4ff-4d2b-9eb4-c9fa98287f84"
      },
      "execution_count": null,
      "outputs": [
        {
          "output_type": "stream",
          "name": "stdout",
          "text": [
            "+---+---------+------+-----+--------------------------------+------------------------------+-------------------------------+-------------+--------------+-------------+----------------------------------+----------------+----------------+----------------+----------------+----------+----------+----------+----------+----------+----------+----------+----------+----------+-----------+-----------+-----------+-----------+-----------+-----------+-----------+-----------+-----------+-----------+-----------+-----------+-----------+-----------+-----------+-----------+-----------+-----------+-----------+-----------+-----------+-----------+-----------+-----------+-----------+-----------+-----------+-----------+-----------+-----------+-----------+----------+------------------------------------------------------------------------------------------------------+-----+----------------------------------+--------------------------------------------------------------------------------+----------+\n",
            "|Id |Elevation|Aspect|Slope|Horizontal_Distance_To_Hydrology|Vertical_Distance_To_Hydrology|Horizontal_Distance_To_Roadways|Hillshade_9am|Hillshade_Noon|Hillshade_3pm|Horizontal_Distance_To_Fire_Points|Wilderness_Area1|Wilderness_Area2|Wilderness_Area3|Wilderness_Area4|Soil_Type1|Soil_Type2|Soil_Type3|Soil_Type4|Soil_Type5|Soil_Type6|Soil_Type7|Soil_Type8|Soil_Type9|Soil_Type10|Soil_Type11|Soil_Type12|Soil_Type13|Soil_Type14|Soil_Type15|Soil_Type16|Soil_Type17|Soil_Type18|Soil_Type19|Soil_Type20|Soil_Type21|Soil_Type22|Soil_Type23|Soil_Type24|Soil_Type25|Soil_Type26|Soil_Type27|Soil_Type28|Soil_Type29|Soil_Type30|Soil_Type31|Soil_Type32|Soil_Type33|Soil_Type34|Soil_Type35|Soil_Type36|Soil_Type37|Soil_Type38|Soil_Type39|Soil_Type40|Cover_Type|features                                                                                              |label|rawPrediction                     |probability                                                                     |prediction|\n",
            "+---+---------+------+-----+--------------------------------+------------------------------+-------------------------------+-------------+--------------+-------------+----------------------------------+----------------+----------------+----------------+----------------+----------+----------+----------+----------+----------+----------+----------+----------+----------+-----------+-----------+-----------+-----------+-----------+-----------+-----------+-----------+-----------+-----------+-----------+-----------+-----------+-----------+-----------+-----------+-----------+-----------+-----------+-----------+-----------+-----------+-----------+-----------+-----------+-----------+-----------+-----------+-----------+-----------+-----------+----------+------------------------------------------------------------------------------------------------------+-----+----------------------------------+--------------------------------------------------------------------------------+----------+\n",
            "|10 |2612     |59    |10   |247                             |11                            |636                            |228          |219           |124          |6230                              |1               |0               |0               |0               |0         |0         |0         |0         |0         |0         |0         |0         |0         |0          |0          |0          |0          |0          |0          |0          |0          |0          |0          |0          |0          |0          |0          |0          |0          |0          |0          |0          |1          |0          |0          |0          |0          |0          |0          |0          |0          |0          |0          |0          |5         |(54,[0,1,2,3,4,5,6,7,8,9,10,42],[2612.0,59.0,10.0,247.0,11.0,636.0,228.0,219.0,124.0,6230.0,1.0,1.0]) |4.0  |[2.0,90.0,0.0,0.0,17.0,0.0,0.0]   |[0.01834862385321101,0.8256880733944955,0.0,0.0,0.1559633027522936,0.0,0.0]     |1.0       |\n",
            "|11 |2612     |201   |4    |180                             |51                            |735                            |218          |243           |161          |6222                              |1               |0               |0               |0               |0         |0         |0         |0         |0         |0         |0         |0         |0         |0          |0          |0          |0          |0          |0          |0          |0          |1          |0          |0          |0          |0          |0          |0          |0          |0          |0          |0          |0          |0          |0          |0          |0          |0          |0          |0          |0          |0          |0          |0          |5         |(54,[0,1,2,3,4,5,6,7,8,9,10,31],[2612.0,201.0,4.0,180.0,51.0,735.0,218.0,243.0,161.0,6222.0,1.0,1.0]) |4.0  |[0.0,5.0,0.0,0.0,33.0,0.0,0.0]    |[0.0,0.13157894736842105,0.0,0.0,0.868421052631579,0.0,0.0]                     |4.0       |\n",
            "|16 |2495     |51    |7    |42                              |2                             |752                            |224          |225           |137          |5576                              |1               |0               |0               |0               |0         |0         |0         |0         |0         |0         |0         |0         |0         |0          |0          |0          |0          |0          |0          |1          |0          |0          |0          |0          |0          |0          |0          |0          |0          |0          |0          |0          |0          |0          |0          |0          |0          |0          |0          |0          |0          |0          |0          |0          |5         |(54,[0,1,2,3,4,5,6,7,8,9,10,29],[2495.0,51.0,7.0,42.0,2.0,752.0,224.0,225.0,137.0,5576.0,1.0,1.0])    |4.0  |[2.0,90.0,0.0,0.0,17.0,0.0,0.0]   |[0.01834862385321101,0.8256880733944955,0.0,0.0,0.1559633027522936,0.0,0.0]     |1.0       |\n",
            "|17 |2610     |259   |1    |120                             |-1                            |607                            |216          |239           |161          |6096                              |1               |0               |0               |0               |0         |0         |0         |0         |0         |0         |0         |0         |0         |0          |0          |0          |0          |0          |0          |0          |0          |0          |0          |0          |0          |0          |0          |0          |0          |0          |0          |0          |1          |0          |0          |0          |0          |0          |0          |0          |0          |0          |0          |0          |5         |(54,[0,1,2,3,4,5,6,7,8,9,10,42],[2610.0,259.0,1.0,120.0,-1.0,607.0,216.0,239.0,161.0,6096.0,1.0,1.0]) |4.0  |[2.0,90.0,0.0,0.0,17.0,0.0,0.0]   |[0.01834862385321101,0.8256880733944955,0.0,0.0,0.1559633027522936,0.0,0.0]     |1.0       |\n",
            "|20 |2503     |38    |5    |85                              |10                            |741                            |220          |228           |144          |5555                              |1               |0               |0               |0               |0         |0         |0         |0         |0         |0         |0         |0         |0         |0          |0          |0          |0          |0          |0          |0          |0          |1          |0          |0          |0          |0          |0          |0          |0          |0          |0          |0          |0          |0          |0          |0          |0          |0          |0          |0          |0          |0          |0          |0          |5         |(54,[0,1,2,3,4,5,6,7,8,9,10,31],[2503.0,38.0,5.0,85.0,10.0,741.0,220.0,228.0,144.0,5555.0,1.0,1.0])   |4.0  |[0.0,5.0,0.0,0.0,33.0,0.0,0.0]    |[0.0,0.13157894736842105,0.0,0.0,0.868421052631579,0.0,0.0]                     |4.0       |\n",
            "|25 |2507     |22    |9    |120                             |14                            |732                            |215          |221           |143          |5534                              |1               |0               |0               |0               |0         |0         |0         |0         |0         |0         |0         |0         |0         |0          |0          |0          |0          |0          |0          |0          |0          |1          |0          |0          |0          |0          |0          |0          |0          |0          |0          |0          |0          |0          |0          |0          |0          |0          |0          |0          |0          |0          |0          |0          |5         |(54,[0,1,2,3,4,5,6,7,8,9,10,31],[2507.0,22.0,9.0,120.0,14.0,732.0,215.0,221.0,143.0,5534.0,1.0,1.0])  |4.0  |[0.0,5.0,0.0,0.0,33.0,0.0,0.0]    |[0.0,0.13157894736842105,0.0,0.0,0.868421052631579,0.0,0.0]                     |4.0       |\n",
            "|26 |2492     |135   |6    |0                               |0                             |860                            |229          |237           |142          |5494                              |1               |0               |0               |0               |0         |0         |0         |0         |0         |0         |0         |0         |0         |0          |0          |0          |0          |0          |0          |0          |0          |1          |0          |0          |0          |0          |0          |0          |0          |0          |0          |0          |0          |0          |0          |0          |0          |0          |0          |0          |0          |0          |0          |0          |5         |(54,[0,1,2,5,6,7,8,9,10,31],[2492.0,135.0,6.0,860.0,229.0,237.0,142.0,5494.0,1.0,1.0])                |4.0  |[0.0,5.0,0.0,0.0,33.0,0.0,0.0]    |[0.0,0.13157894736842105,0.0,0.0,0.868421052631579,0.0,0.0]                     |4.0       |\n",
            "|27 |2489     |163   |10   |30                              |-4                            |849                            |230          |243           |145          |5486                              |1               |0               |0               |0               |0         |0         |0         |0         |0         |0         |0         |0         |0         |0          |0          |0          |0          |0          |0          |0          |0          |1          |0          |0          |0          |0          |0          |0          |0          |0          |0          |0          |0          |0          |0          |0          |0          |0          |0          |0          |0          |0          |0          |0          |5         |(54,[0,1,2,3,4,5,6,7,8,9,10,31],[2489.0,163.0,10.0,30.0,-4.0,849.0,230.0,243.0,145.0,5486.0,1.0,1.0]) |4.0  |[0.0,5.0,0.0,0.0,33.0,0.0,0.0]    |[0.0,0.13157894736842105,0.0,0.0,0.868421052631579,0.0,0.0]                     |4.0       |\n",
            "|29 |2811     |135   |1    |212                             |30                            |3670                           |220          |238           |154          |5643                              |1               |0               |0               |0               |0         |0         |0         |0         |0         |0         |0         |0         |0         |0          |0          |1          |0          |0          |0          |0          |0          |0          |0          |0          |0          |0          |0          |0          |0          |0          |0          |0          |0          |0          |0          |0          |0          |0          |0          |0          |0          |0          |0          |0          |2         |(54,[0,1,2,3,4,5,6,7,8,9,10,25],[2811.0,135.0,1.0,212.0,30.0,3670.0,220.0,238.0,154.0,5643.0,1.0,1.0])|1.0  |[63.0,233.0,7.0,0.0,34.0,13.0,0.0]|[0.18,0.6657142857142857,0.02,0.0,0.09714285714285714,0.037142857142857144,0.0] |1.0       |\n",
            "|37 |2709     |125   |28   |67                              |23                            |3224                           |253          |207           |61           |6094                              |1               |0               |0               |0               |0         |0         |0         |0         |0         |0         |0         |0         |0         |0          |0          |0          |0          |0          |0          |0          |0          |0          |0          |0          |0          |0          |0          |0          |0          |0          |0          |0          |0          |1          |0          |0          |0          |0          |0          |0          |0          |0          |0          |0          |5         |(54,[0,1,2,3,4,5,6,7,8,9,10,43],[2709.0,125.0,28.0,67.0,23.0,3224.0,253.0,207.0,61.0,6094.0,1.0,1.0]) |4.0  |[2.0,8.0,0.0,0.0,35.0,3.0,0.0]    |[0.041666666666666664,0.16666666666666666,0.0,0.0,0.7291666666666666,0.0625,0.0]|4.0       |\n",
            "+---+---------+------+-----+--------------------------------+------------------------------+-------------------------------+-------------+--------------+-------------+----------------------------------+----------------+----------------+----------------+----------------+----------+----------+----------+----------+----------+----------+----------+----------+----------+-----------+-----------+-----------+-----------+-----------+-----------+-----------+-----------+-----------+-----------+-----------+-----------+-----------+-----------+-----------+-----------+-----------+-----------+-----------+-----------+-----------+-----------+-----------+-----------+-----------+-----------+-----------+-----------+-----------+-----------+-----------+----------+------------------------------------------------------------------------------------------------------+-----+----------------------------------+--------------------------------------------------------------------------------+----------+\n",
            "only showing top 10 rows\n",
            "\n"
          ]
        }
      ]
    },
    {
      "cell_type": "code",
      "source": [
        "from pyspark.ml.evaluation import MulticlassClassificationEvaluator"
      ],
      "metadata": {
        "id": "ME1k9bCp4a8S"
      },
      "execution_count": null,
      "outputs": []
    },
    {
      "cell_type": "code",
      "source": [
        "evaluator = MulticlassClassificationEvaluator(labelCol=\"label\", predictionCol=\"prediction\", metricName='accuracy')"
      ],
      "metadata": {
        "id": "m9nD7vr64b97"
      },
      "execution_count": null,
      "outputs": []
    },
    {
      "cell_type": "code",
      "source": [
        "accuracy = evaluator.evaluate(predictions)"
      ],
      "metadata": {
        "id": "szG6HwXA4c57"
      },
      "execution_count": null,
      "outputs": []
    },
    {
      "cell_type": "code",
      "source": [
        "print(accuracy)"
      ],
      "metadata": {
        "id": "rZ_zHCp54d6o",
        "colab": {
          "base_uri": "https://localhost:8080/"
        },
        "outputId": "7ccee226-35fd-4ce4-82b5-ff67394553d7"
      },
      "execution_count": null,
      "outputs": [
        {
          "output_type": "stream",
          "name": "stdout",
          "text": [
            "0.6736229900786863\n"
          ]
        }
      ]
    },
    {
      "cell_type": "markdown",
      "source": [
        "Zasady zaliczenia kolokwium:\n",
        "* termin: 18 czerwca\n",
        "\n",
        "* 1) Część teoretyczna - 15 pytań jednokrotnego wyboru - 10 minut\n",
        "* 2) Część praktyczna\n",
        "\n",
        "* Zaliczenie od 60%\n",
        "* Zad 1 RDD\n",
        "* Zad 2 DataFrame albo UM\n",
        "* Zad 3"
      ],
      "metadata": {
        "id": "m317S9d165ww"
      }
    },
    {
      "cell_type": "markdown",
      "source": [
        "##Random Forest"
      ],
      "metadata": {
        "id": "VwmEArk566-1"
      }
    },
    {
      "cell_type": "markdown",
      "source": [
        "##Zadanie 8\n",
        "Do tego samego zbioru danych stworz model klasyfikacji oparty na Random Forest (https://spark.apache.org/docs/3.1.1/api/python/reference/api/pyspark.ml.classification.RandomForestClassifier.html). Postaraj się zrobić go w formie \"pipeline\"."
      ],
      "metadata": {
        "id": "BxNrtO7D7RXM"
      }
    },
    {
      "cell_type": "code",
      "source": [
        "#kod"
      ],
      "metadata": {
        "id": "fb-aRPrf69nk"
      },
      "execution_count": null,
      "outputs": []
    },
    {
      "cell_type": "markdown",
      "source": [
        "#Zajęcia 16.05.2022\n",
        "omowic labelConverter + hyperparameter tuning"
      ],
      "metadata": {
        "id": "gzjrIQVwaon0"
      }
    },
    {
      "cell_type": "markdown",
      "source": [
        "##Hyperparameter Tuning"
      ],
      "metadata": {
        "id": "85536XB37pIp"
      }
    },
    {
      "cell_type": "markdown",
      "source": [
        "###Random Forest"
      ],
      "metadata": {
        "id": "uxJY8sbL71FC"
      }
    },
    {
      "cell_type": "code",
      "source": [
        "train.cache()\n",
        "test.cache()"
      ],
      "metadata": {
        "id": "XomQuQVJ7280"
      },
      "execution_count": null,
      "outputs": []
    },
    {
      "cell_type": "code",
      "source": [
        "train.count()\n",
        "test.count()"
      ],
      "metadata": {
        "id": "WRdd7xb475HO"
      },
      "execution_count": null,
      "outputs": []
    },
    {
      "cell_type": "code",
      "source": [
        "from pyspark.ml.tuning import CrossValidator, ParamGridBuilder"
      ],
      "metadata": {
        "id": "OBT3ZL9y76HV"
      },
      "execution_count": null,
      "outputs": []
    },
    {
      "cell_type": "code",
      "source": [
        "paramGrid = (ParamGridBuilder()\n",
        "  .addGrid(rf.numTrees, [10, 20])\n",
        "  .addGrid(rf.maxDepth, [30])\n",
        "  .addGrid(rf.maxBins, [100])\n",
        "  .addGrid(rf.impurity, ['entropy'])\n",
        "  .build()\n",
        ")"
      ],
      "metadata": {
        "id": "7phL0gqI78d-"
      },
      "execution_count": null,
      "outputs": []
    },
    {
      "cell_type": "code",
      "source": [
        "paramGrid"
      ],
      "metadata": {
        "id": "yIbRbC_u7-Gh"
      },
      "execution_count": null,
      "outputs": []
    },
    {
      "cell_type": "code",
      "source": [
        "pipeline = Pipeline(stages=[assembler, labelIndexer, rf, labelConverter])"
      ],
      "metadata": {
        "id": "x3roTWXG7-e6"
      },
      "execution_count": null,
      "outputs": []
    },
    {
      "cell_type": "code",
      "source": [
        "crossval = CrossValidator(estimator=pipeline,\n",
        "                          estimatorParamMaps=paramGrid,\n",
        "                          evaluator=evaluator,\n",
        "                          numFolds=3) # use 10 folds in practice"
      ],
      "metadata": {
        "id": "lcIDmVhW7_iE"
      },
      "execution_count": null,
      "outputs": []
    },
    {
      "cell_type": "code",
      "source": [
        "# Run cross-validation, and choose the best set of parameters.\n",
        "cvModel = crossval.fit(train)"
      ],
      "metadata": {
        "id": "yBdZpaXr8AnY"
      },
      "execution_count": null,
      "outputs": []
    },
    {
      "cell_type": "code",
      "source": [
        "cvModel.bestModel"
      ],
      "metadata": {
        "id": "T-Daq-em8Bug"
      },
      "execution_count": null,
      "outputs": []
    },
    {
      "cell_type": "code",
      "source": [
        "params = [{p.name: v for p, v in m.items()} for m in cvModel.getEstimatorParamMaps()]\n",
        "params"
      ],
      "metadata": {
        "id": "GlJHDUHD8Duh"
      },
      "execution_count": null,
      "outputs": []
    },
    {
      "cell_type": "code",
      "source": [
        "cvModel.avgMetrics"
      ],
      "metadata": {
        "id": "pz28Xpsa8E34"
      },
      "execution_count": null,
      "outputs": []
    },
    {
      "cell_type": "code",
      "source": [
        "best_model = cvModel.bestModel"
      ],
      "metadata": {
        "id": "3W72yPIi8G5O"
      },
      "execution_count": null,
      "outputs": []
    },
    {
      "cell_type": "code",
      "source": [
        "predictions_test = best_model.transform(test)"
      ],
      "metadata": {
        "id": "OOKTQ6Kv8H89"
      },
      "execution_count": null,
      "outputs": []
    },
    {
      "cell_type": "code",
      "source": [
        "accuracy_test = evaluator.evaluate(predictions_test)"
      ],
      "metadata": {
        "id": "hmakSJgn8JCd"
      },
      "execution_count": null,
      "outputs": []
    },
    {
      "cell_type": "code",
      "source": [
        "print(f\"Accuracy test: {accuracy_test}\")"
      ],
      "metadata": {
        "id": "Wa-Y4o8-8KHN"
      },
      "execution_count": null,
      "outputs": []
    },
    {
      "cell_type": "code",
      "source": [
        "predictions_train = best_model.transform(train)\n",
        "accuracy_train = evaluator.evaluate(predictions_train)\n",
        "print(f\"Accuracy train: {accuracy_train}\")"
      ],
      "metadata": {
        "id": "Gbja2AGr8LNj"
      },
      "execution_count": null,
      "outputs": []
    },
    {
      "cell_type": "markdown",
      "source": [
        "##Zadanie 9\n",
        "Zaimplementuj hyperparameter tuning dla drzew decyzyjnych. Parametry:\n",
        "\n",
        "impurity, [\"entropy\"];\n",
        "maxDepth, [10, 30];\n",
        "maxBins, [30, 300, 100];"
      ],
      "metadata": {
        "id": "e4NnOr8o8O9a"
      }
    },
    {
      "cell_type": "code",
      "source": [
        "#kod"
      ],
      "metadata": {
        "id": "hsx4OR9v8dae"
      },
      "execution_count": null,
      "outputs": []
    },
    {
      "cell_type": "markdown",
      "source": [
        "##Clustering\n",
        "Based on: https://towardsdatascience.com/k-means-clustering-using-pyspark-on-big-data-6214beacdc8b\n",
        "K-Means explained: https://www.youtube.com/watch?v=4b5d3muPQmA"
      ],
      "metadata": {
        "id": "_lHVXThxIZUK"
      }
    },
    {
      "cell_type": "code",
      "source": [
        "!unzip archive.zip"
      ],
      "metadata": {
        "id": "aRP32wCCIbj1"
      },
      "execution_count": null,
      "outputs": []
    },
    {
      "cell_type": "code",
      "source": [
        "data_customer=spark.read.csv('CC GENERAL.csv', header=True, inferSchema=True)\n",
        "data_customer.printSchema()"
      ],
      "metadata": {
        "id": "LivEfEfDIdZQ"
      },
      "execution_count": null,
      "outputs": []
    },
    {
      "cell_type": "code",
      "source": [
        "data_customer=data_customer.na.drop()"
      ],
      "metadata": {
        "id": "FNZgxXjkIhBf"
      },
      "execution_count": null,
      "outputs": []
    },
    {
      "cell_type": "code",
      "source": [
        "from pyspark.ml.feature import VectorAssembler\n",
        "data_customer.columns\n",
        "assemble=VectorAssembler(inputCols=[\n",
        " 'BALANCE',\n",
        " 'BALANCE_FREQUENCY',\n",
        " 'PURCHASES',\n",
        " 'ONEOFF_PURCHASES',\n",
        " 'INSTALLMENTS_PURCHASES',\n",
        " 'CASH_ADVANCE',\n",
        " 'PURCHASES_FREQUENCY',\n",
        " 'ONEOFF_PURCHASES_FREQUENCY',\n",
        " 'PURCHASES_INSTALLMENTS_FREQUENCY',\n",
        " 'CASH_ADVANCE_FREQUENCY',\n",
        " 'CASH_ADVANCE_TRX',\n",
        " 'PURCHASES_TRX',\n",
        " 'CREDIT_LIMIT',\n",
        " 'PAYMENTS',\n",
        " 'MINIMUM_PAYMENTS',\n",
        " 'PRC_FULL_PAYMENT',\n",
        " 'TENURE'], outputCol='features')\n",
        "assembled_data=assemble.transform(data_customer)\n",
        "assembled_data.show(2)"
      ],
      "metadata": {
        "id": "qpHgtlclIifQ"
      },
      "execution_count": null,
      "outputs": []
    },
    {
      "cell_type": "code",
      "source": [
        "from pyspark.ml.feature import StandardScaler\n",
        "scale=StandardScaler(inputCol='features',outputCol='standardized')\n",
        "data_scale=scale.fit(assembled_data)\n",
        "data_scale_output=data_scale.transform(assembled_data)\n",
        "data_scale_output.show(2)"
      ],
      "metadata": {
        "id": "Foaqq4vxIjeE"
      },
      "execution_count": null,
      "outputs": []
    },
    {
      "cell_type": "code",
      "source": [
        "from pyspark.ml.clustering import KMeans\n",
        "from pyspark.ml.evaluation import ClusteringEvaluator\n",
        "silhouette_score=[]\n",
        "evaluator = ClusteringEvaluator(predictionCol='prediction', featuresCol='standardized', \\\n",
        "                                metricName='silhouette', distanceMeasure='squaredEuclidean')\n",
        "for i in range(2,10):\n",
        "\n",
        "    KMeans_algo=KMeans(featuresCol='standardized', k=i)\n",
        "\n",
        "    KMeans_fit=KMeans_algo.fit(data_scale_output)\n",
        "\n",
        "    output=KMeans_fit.transform(data_scale_output)\n",
        "\n",
        "\n",
        "\n",
        "    score=evaluator.evaluate(output)\n",
        "\n",
        "    silhouette_score.append(score)\n",
        "\n",
        "    print(\"Silhouette Score:\",score)"
      ],
      "metadata": {
        "id": "bq327Rd7Ikxv"
      },
      "execution_count": null,
      "outputs": []
    },
    {
      "cell_type": "code",
      "source": [
        "#Visualizing the silhouette scores in a plot\n",
        "import matplotlib.pyplot as plt\n",
        "fig, ax = plt.subplots(1,1, figsize =(8,6))\n",
        "ax.plot(range(2,10),silhouette_score)\n",
        "ax.set_xlabel('k')\n",
        "ax.set_ylabel('cost')"
      ],
      "metadata": {
        "id": "MGLGYK9nImYt"
      },
      "execution_count": null,
      "outputs": []
    },
    {
      "cell_type": "code",
      "source": [
        "KMeans_algo=KMeans(featuresCol='standardized', k=3)\n",
        "KMeans_fit=KMeans_algo.fit(data_scale_output)\n",
        "output=KMeans_fit.transform(data_scale_output)\n",
        "output.show(10)"
      ],
      "metadata": {
        "id": "83dHwa2oIo2p"
      },
      "execution_count": null,
      "outputs": []
    },
    {
      "cell_type": "code",
      "source": [
        "from pyspark.ml.feature import PCA\n",
        "import matplotlib.pyplot as plt\n",
        "\n",
        "pca = PCA(k=3, inputCol=\"features\", outputCol=\"pcaFeatures\")\n",
        "model = pca.fit(data_scale_output)\n",
        "\n",
        "result = model.transform(data_scale_output).select(\"pcaFeatures\")\n",
        "pandasDf = result.toPandas()\n",
        "dataX = []\n",
        "dataY = []\n",
        "\n",
        "for vec in pandasDf.values:\n",
        "  dataX.extend([vec[0][0]])\n",
        "  dataY.extend([vec[0][1]])\n",
        "plt.scatter(dataX, dataY)\n",
        "plt.show()"
      ],
      "metadata": {
        "id": "jgwk7ErEIqBO"
      },
      "execution_count": null,
      "outputs": []
    },
    {
      "cell_type": "markdown",
      "source": [
        "#Zajęcia 23.05.2022"
      ],
      "metadata": {
        "id": "_oaytOfo-i2H"
      }
    },
    {
      "cell_type": "markdown",
      "source": [
        "##Data Science How-To: Using Apache Spark for Sports Analytics\n",
        "based on: https://tanzu.vmware.com/content/blog/how-data-science-assists-sports"
      ],
      "metadata": {
        "id": "K1NusFNB-l9r"
      }
    },
    {
      "cell_type": "code",
      "source": [
        "!unzip data.zip"
      ],
      "metadata": {
        "id": "0jfzmN6o_fTm"
      },
      "execution_count": null,
      "outputs": []
    },
    {
      "cell_type": "code",
      "source": [
        "df = spark.read.option('header','true')\\\n",
        "          .option('inferSchema','true')\\\n",
        "          .csv('data/season_totals.csv')"
      ],
      "metadata": {
        "id": "ITDn-MlpA-iN"
      },
      "execution_count": null,
      "outputs": []
    },
    {
      "cell_type": "code",
      "source": [
        "df.limit(5).show()"
      ],
      "metadata": {
        "id": "273GFUgCBAkw"
      },
      "execution_count": null,
      "outputs": []
    },
    {
      "cell_type": "code",
      "source": [
        "import pyspark.sql.functions as f"
      ],
      "metadata": {
        "id": "scY7Kk_iBCCB"
      },
      "execution_count": null,
      "outputs": []
    },
    {
      "cell_type": "code",
      "source": [
        "df.orderBy(f.col('pts').desc()).limit(10).show()"
      ],
      "metadata": {
        "id": "0jkn22NwBDbG"
      },
      "execution_count": null,
      "outputs": []
    },
    {
      "cell_type": "code",
      "source": [
        "#Ile było prób rzutu za 3 punkty na 36 minut"
      ],
      "metadata": {
        "id": "CxU-v7JVBFDJ"
      },
      "execution_count": null,
      "outputs": []
    },
    {
      "cell_type": "code",
      "source": [
        "fga_py = (df\n",
        "          .groupBy('yr')\n",
        "          .agg(f.sum('mp'), #minutes played (wszystkie rozegrane minuty wszystkich graczy)\n",
        "               f.sum('fg3a')) #attempts\n",
        "          .select(f.col('yr'), (36*f.col('sum(fg3a)')/f.col('sum(mp)')).alias('fg3a_p36m'))\n",
        "          .orderBy('yr')\n",
        "               )\n",
        "fga_py.show(10)"
      ],
      "metadata": {
        "id": "3Kr5z-T8BGZa"
      },
      "execution_count": null,
      "outputs": []
    },
    {
      "cell_type": "code",
      "source": [
        "from matplotlib import pyplot as plt\n",
        "import seaborn as sns\n",
        "\n",
        "sns.set_style(\"white\")\n",
        "sns.set_color_codes()\n",
        "\n",
        "plt.figure(figsize=(20,10))\n",
        "plt.style.use('fivethirtyeight')\n",
        "\n",
        "_df = fga_py.toPandas()\n",
        "plt.plot(_df.yr,_df.fg3a_p36m, color = '#00a79c')\n",
        "plt.xlabel('Year')\n",
        "plt.title('Player average 3-point attempts (per 36 minutes)')\n",
        "plt.annotate('3 pointer introduced', xy=(1980, .5), xytext=(1981, 1.1), fontsize = 12,\n",
        "            arrowprops=dict(facecolor='grey', shrink=0.05, linewidth = 2))\n",
        "plt.annotate('NBA moved in 3-point line', xy=(1996, 2.4), xytext=(1991.5, 2.7), fontsize = 12,\n",
        "            arrowprops=dict(facecolor='grey', shrink=0.05, linewidth = 2))\n",
        "plt.annotate('NBA moved back\\n3-point line', xy=(1998, 2.), xytext=(1998.5, 2.4), fontsize = 12, arrowprops=dict(facecolor='grey', shrink=0.05, linewidth = 2))\n",
        "plt.show()"
      ],
      "metadata": {
        "id": "saTfWfgPBHiD"
      },
      "execution_count": null,
      "outputs": []
    },
    {
      "cell_type": "markdown",
      "source": [
        "###Zadanie 10\n",
        "Regresja liniowa w Sparku - ile będzie rzutów na koniec 2022? Użyj Regresji Logistycznej"
      ],
      "metadata": {
        "id": "_mgNGXqmBRx4"
      }
    },
    {
      "cell_type": "code",
      "source": [
        "#kod"
      ],
      "metadata": {
        "id": "0OrT8BuRBJLx"
      },
      "execution_count": null,
      "outputs": []
    },
    {
      "cell_type": "markdown",
      "source": [
        "###Heatmap 3-point shoots"
      ],
      "metadata": {
        "id": "TZaDgZ4FCTj0"
      }
    },
    {
      "cell_type": "code",
      "source": [
        "#statystyki skąd rzuty\n",
        "df = spark.read.csv(path='data/shot_charts_top_10/1000_plus_shot_charts_2011_2016.csv', header=True, inferSchema=True)"
      ],
      "metadata": {
        "id": "Wjc_VrCJCY-N"
      },
      "execution_count": null,
      "outputs": []
    },
    {
      "cell_type": "code",
      "source": [
        "df.cache()\n",
        "df.count()"
      ],
      "metadata": {
        "id": "BcvJjGE7Cf6I"
      },
      "execution_count": null,
      "outputs": []
    },
    {
      "cell_type": "code",
      "source": [
        "df.show()"
      ],
      "metadata": {
        "id": "omzaSYxnChNV"
      },
      "execution_count": null,
      "outputs": []
    },
    {
      "cell_type": "code",
      "source": [
        "from nba_utils import draw_3pt_piechart,plot_shot_chart\n",
        "import numpy as np\n",
        "player = 'Stephen Curry'\n",
        "yr = '2016'\n",
        "df_steph = df.filter(f'''name == \"{player}\"\n",
        "                        and yr == {yr}\n",
        "                        and y < 400''')\n",
        "#https://www.programiz.com/python-programming/list-comprehension\n",
        "\n",
        "x = np.array([v[0] for v in df_steph.select('x').collect()])\n",
        "y = np.array([v[0] for v in df_steph.select('y').collect()])\n",
        "p=plot_shot_chart(x, y, gridsize = 30,\n",
        "                      kind='hex')\n",
        "# p.savefig('results/steph_curry_2016_shotchart.png')\n",
        "plt.show()"
      ],
      "metadata": {
        "id": "90y-VPNXCicV"
      },
      "execution_count": null,
      "outputs": []
    },
    {
      "cell_type": "code",
      "source": [
        "import warnings\n",
        "warnings.simplefilter(\"ignore\")"
      ],
      "metadata": {
        "id": "6xIgFLkDCj9m"
      },
      "execution_count": null,
      "outputs": []
    },
    {
      "cell_type": "code",
      "source": [
        "df.show(5)"
      ],
      "metadata": {
        "id": "xCVClxrWIXEj"
      },
      "execution_count": null,
      "outputs": []
    },
    {
      "cell_type": "code",
      "source": [
        "def is_corner_3(xy):\n",
        "    '''Want to identify corner 3 point attempts'''\n",
        "    x,y = xy\n",
        "    return int((abs(x) >= 220) and (y < 92.5))\n",
        "\n",
        "def is_normal_3(xycorner3):\n",
        "    '''Want to identify normal (not corner 3) point attempts'''\n",
        "    x,y,corner3 = xycorner3\n",
        "    radius = 475/2.\n",
        "    y_3pt = np.sqrt(np.square(radius) - np.square(x))\n",
        "    return int(y > max(92.5,y_3pt) and not corner3)"
      ],
      "metadata": {
        "id": "IMMmgn28IYVp"
      },
      "execution_count": null,
      "outputs": []
    },
    {
      "cell_type": "code",
      "source": [
        "from pyspark.sql.functions import array,udf\n",
        "from pyspark.sql.types import IntegerType\n",
        "\n",
        "corner_3_udf = udf(is_corner_3, IntegerType())\n",
        "normal_3_udf = udf(is_normal_3, IntegerType())\n",
        "\n",
        "df2 = df.withColumn('corner_3', corner_3_udf(array([df.x,df.y])))\n",
        "df3 = df2.withColumn('normal_3', normal_3_udf(array([df2.x,df2.y,df2.corner_3])))\n",
        "df4 = df3.withColumn('is_a_3', df3.corner_3 + df3.normal_3)\n",
        "\n",
        "df = df4\n",
        "df.cache()"
      ],
      "metadata": {
        "id": "Ud9NSgiEIadX"
      },
      "execution_count": null,
      "outputs": []
    },
    {
      "cell_type": "code",
      "source": [
        "from pyspark.sql.functions import mean\n",
        "from nba_utils import draw_3pt_piechart,plot_shot_chart\n",
        "\n",
        "# make shot charts for all years\n",
        "midrange_thresh = 8\n",
        "in_half_court = 'y <= 400 and abs(x) <= 250'\n",
        "addl_filter = f'shot_distance > {midrange_thresh}'\n",
        "for yr in range(2011,2016+1):\n",
        "    df_yr = df.filter(f'''{in_half_court}\n",
        "                         and yr == {yr}\n",
        "                         and {addl_filter}''')\n",
        "    x = np.array([v[0] for v in df_yr.select('x').collect()])\n",
        "    y = np.array([v[0] for v in df_yr.select('y').collect()])\n",
        "    p = plot_shot_chart(x,y, gridsize = 30, kind = 'hex', label = yr)\n",
        "    p.fig.suptitle('Evolution of the 3 point shot', x = .19, y = 0.86, size = 20, fontweight= 'bold')\n",
        "\n",
        "    per_3 = df_yr.select(mean(df_yr.is_a_3)).take(1)[0][0]\n",
        "    per_midrange = 1 - per_3\n",
        "    draw_3pt_piechart(per_3, per_midrange)\n",
        "    plt.show()\n",
        "#     p.savefig('results/all_years/{}.png'.format(yr))\n",
        "#     plt.close()"
      ],
      "metadata": {
        "id": "rnXjacT8ClcD"
      },
      "execution_count": null,
      "outputs": []
    },
    {
      "cell_type": "markdown",
      "source": [
        "###Shots efficiency"
      ],
      "metadata": {
        "id": "6cRQoCCZCwLf"
      }
    },
    {
      "cell_type": "code",
      "source": [
        "from pyspark.sql.functions import count, when\n",
        "\n",
        "shot_acc = df.groupBy('shot_distance','corner_3','normal_3','is_a_3')\\\n",
        "             .agg(count('*').alias('num_attempts'),mean(df.shot_made_flag).alias('shot_accuracy'))\\\n",
        "             .withColumn('points_per_shot',when(f.col('is_a_3') == 1, f.col('shot_accuracy')*3)\n",
        "                                           .otherwise(f.col('shot_accuracy')*2)\n",
        "                        )\\\n",
        "             .filter('num_attempts > 5')\\\n",
        "             .orderBy('shot_distance')\\\n",
        "             .toPandas()"
      ],
      "metadata": {
        "id": "62Wyn_COCyaH"
      },
      "execution_count": null,
      "outputs": []
    },
    {
      "cell_type": "code",
      "source": [
        "df.show(3)"
      ],
      "metadata": {
        "id": "dA6kQ-3YC-zY"
      },
      "execution_count": null,
      "outputs": []
    },
    {
      "cell_type": "code",
      "source": [
        "shot_acc"
      ],
      "metadata": {
        "id": "nyjaD1DzDASo"
      },
      "execution_count": null,
      "outputs": []
    },
    {
      "cell_type": "code",
      "source": [
        "plt.style.use('fivethirtyeight')\n",
        "plt.figure(figsize = (10,6))\n",
        "\n",
        "def plot_acc_vs_dist(df,kwargs = {}):\n",
        "    plt.plot(df.shot_distance, df.points_per_shot, **kwargs)\n",
        "\n",
        "plot_acc_vs_dist(shot_acc.query('is_a_3 == False'), {'color' : '#008fd5'})\n",
        "plot_acc_vs_dist(shot_acc.query('is_a_3 == True'), {'color' : '#008fd5'})\n",
        "plt.title('Shot value vs. shot distance, 2011-2016 seasons\\n Players with 1000+ attempts in a season')\n",
        "plt.xlim(0,30)\n",
        "plt.xlabel('Shot Distance (ft)')\n",
        "plt.ylabel('Points per shot')\n",
        "plt.annotate('high efficiency 2s', xy=(2., 1.15), xytext=(4.5, 1.28),\n",
        "            arrowprops=dict(facecolor='grey', shrink=0.05))\n",
        "plt.annotate('high efficiency 3s', xy=(22, 1.15), xytext=(14.5, 1.15),\n",
        "            arrowprops=dict(facecolor='grey', shrink=0.05))\n",
        "plt.text(22, 1.25, 'corner 3s', fontsize = 12)\n",
        "#plt.savefig('results/pps.png')"
      ],
      "metadata": {
        "id": "0NKJj3sVDBvX"
      },
      "execution_count": null,
      "outputs": []
    },
    {
      "cell_type": "markdown",
      "source": [
        "# Przykladowy kolos"
      ],
      "metadata": {
        "id": "JsM2RVVldipo"
      }
    },
    {
      "cell_type": "markdown",
      "source": [
        "**Plik**: all_weekly_excess_deaths.csv\n",
        "\n",
        "Wyświetl top 5 krajów pod względem liczby łącznych zgonów (total_deaths) w roku 2020. Do każdej krotki dodaj na końcu napis \"TOTAL DEATHS IN 2020\"\n",
        "UWAGA! W raporcie niektóre kraje są podzielone na regiony (np. USA). W takich przypadkach musisz je zgrupować do poziomu kraju.\n",
        "\n",
        "**Przykładowy wynik (niekoniecznie poprawny)**:\n",
        "\n",
        "[('United States', 6964329, 'TOTAL DEATHS IN 2020'),\n",
        "\n",
        " ('Britain', 2006607, 'TOTAL DEATHS IN 2020'),\n",
        "\n",
        " ('Italy', 1468112, 'TOTAL DEATHS IN 2020'),\n",
        "\n",
        " ('France', 1309358, 'TOTAL DEATHS IN 2020'),\n",
        "\n",
        " ('Mexico', 1065198, 'TOTAL DEATHS IN 2020')]"
      ],
      "metadata": {
        "id": "p7tnkrs3ceI-"
      }
    },
    {
      "cell_type": "markdown",
      "source": [
        "## zadanie 1 RDD\n"
      ],
      "metadata": {
        "id": "7_CtrqIIh0OO"
      }
    },
    {
      "cell_type": "code",
      "source": [
        "!head -5 all_weekly_excess_deaths.csv"
      ],
      "metadata": {
        "colab": {
          "base_uri": "https://localhost:8080/"
        },
        "id": "7utmsHNqcrrs",
        "outputId": "61c93a60-70be-40bd-a5c2-913641d791c9"
      },
      "execution_count": 20,
      "outputs": [
        {
          "output_type": "stream",
          "name": "stdout",
          "text": [
            "country;region;region_code;start_date;end_date;days;year;week;population;total_deaths;covid_deaths;expected_deaths;excess_deaths;non_covid_deaths;covid_deaths_per_100k;excess_deaths_per_100k;excess_deaths_pct_change\r\n",
            "Australia;Australia;0;01.01.2020;07.01.2020;7;2020;1;25734100;2497 deaths;0;2463.11165730355;33.8883426964494;2497;0;0.131686527589655;0.0137583461131225\r\n",
            "Australia;Australia;0;08.01.2020;14.01.2020;7;2020;2;25734100;2510 deaths;0;2458.27832397007;51.721676029927;2510;0;0.200984981133698;0.0210397966436924\r\n",
            "Australia;Australia;0;15.01.2020;21.01.2020;7;2020;3;25734100;2501 deaths;0;2436.44499063674;64.5550093632601;2501;0;0.250853961721063;0.0264955743352897\r\n",
            "Australia;Australia;0;22.01.2020;28.01.2020;7;2020;4;25734100;2597 deaths;0;2436.61165730341;160.388342696594;2597;0;0.623252193379967;0.065824335287838\r\n"
          ]
        }
      ]
    },
    {
      "cell_type": "code",
      "source": [
        "deaths_names = sc.textFile('all_weekly_excess_deaths.csv')"
      ],
      "metadata": {
        "id": "oD1CBuAndIfM"
      },
      "execution_count": 34,
      "outputs": []
    },
    {
      "cell_type": "code",
      "source": [
        "baby_names_no_header = deaths_names.filter(lambda x: x!='country;region;region_code;start_date;end_date;days;year;week;population;total_deaths;covid_deaths;expected_deaths;excess_deaths;non_covid_deaths;covid_deaths_per_100k;excess_deaths_per_100k;excess_deaths_pct_change')"
      ],
      "metadata": {
        "id": "2Mt_38NHfDK7"
      },
      "execution_count": 35,
      "outputs": []
    },
    {
      "cell_type": "code",
      "source": [
        "deaths_rows = baby_names_no_header.map(lambda x: x.split(';'))"
      ],
      "metadata": {
        "id": "VJMf98JBd06p"
      },
      "execution_count": 36,
      "outputs": []
    },
    {
      "cell_type": "code",
      "source": [
        "deaths_rows.take(3)"
      ],
      "metadata": {
        "colab": {
          "base_uri": "https://localhost:8080/"
        },
        "id": "uPwmJaTOd6_w",
        "outputId": "7c6854e2-1350-428c-8892-bb73b2f25085"
      },
      "execution_count": 37,
      "outputs": [
        {
          "output_type": "execute_result",
          "data": {
            "text/plain": [
              "[['Australia',\n",
              "  'Australia',\n",
              "  '0',\n",
              "  '01.01.2020',\n",
              "  '07.01.2020',\n",
              "  '7',\n",
              "  '2020',\n",
              "  '1',\n",
              "  '25734100',\n",
              "  '2497 deaths',\n",
              "  '0',\n",
              "  '2463.11165730355',\n",
              "  '33.8883426964494',\n",
              "  '2497',\n",
              "  '0',\n",
              "  '0.131686527589655',\n",
              "  '0.0137583461131225'],\n",
              " ['Australia',\n",
              "  'Australia',\n",
              "  '0',\n",
              "  '08.01.2020',\n",
              "  '14.01.2020',\n",
              "  '7',\n",
              "  '2020',\n",
              "  '2',\n",
              "  '25734100',\n",
              "  '2510 deaths',\n",
              "  '0',\n",
              "  '2458.27832397007',\n",
              "  '51.721676029927',\n",
              "  '2510',\n",
              "  '0',\n",
              "  '0.200984981133698',\n",
              "  '0.0210397966436924'],\n",
              " ['Australia',\n",
              "  'Australia',\n",
              "  '0',\n",
              "  '15.01.2020',\n",
              "  '21.01.2020',\n",
              "  '7',\n",
              "  '2020',\n",
              "  '3',\n",
              "  '25734100',\n",
              "  '2501 deaths',\n",
              "  '0',\n",
              "  '2436.44499063674',\n",
              "  '64.5550093632601',\n",
              "  '2501',\n",
              "  '0',\n",
              "  '0.250853961721063',\n",
              "  '0.0264955743352897']]"
            ]
          },
          "metadata": {},
          "execution_count": 37
        }
      ]
    },
    {
      "cell_type": "code",
      "source": [
        "deaths_rows_2= deaths_rows.filter(lambda x: x[6]=='2020')"
      ],
      "metadata": {
        "id": "Eqs97snNfbSZ"
      },
      "execution_count": 38,
      "outputs": []
    },
    {
      "cell_type": "code",
      "source": [
        "deaths_rows_3= deaths_rows_2.map(lambda x: (x[0],x[9].replace(' deaths','')))"
      ],
      "metadata": {
        "id": "Jkw-YlJjgNNY"
      },
      "execution_count": 42,
      "outputs": []
    },
    {
      "cell_type": "code",
      "source": [
        "deaths_rows_3.take(2)"
      ],
      "metadata": {
        "colab": {
          "base_uri": "https://localhost:8080/"
        },
        "id": "aZ1QkUg6g3wy",
        "outputId": "f39839d4-0eab-4aab-93c9-4a62c71a1d6e"
      },
      "execution_count": 43,
      "outputs": [
        {
          "output_type": "execute_result",
          "data": {
            "text/plain": [
              "[('Australia', '2497'), ('Australia', '2510')]"
            ]
          },
          "metadata": {},
          "execution_count": 43
        }
      ]
    },
    {
      "cell_type": "code",
      "source": [
        "deaths_rows_4= (deaths_rows_3\n",
        " .map(lambda x: (x[0],int(x[1])))\n",
        " .reduceByKey(lambda x,y: x+y)\n",
        " .map(lambda x: (x[0],x[1],'TOTAL DEATHS IN 2020'))\n",
        ").top(5,key=lambda x:x[1])"
      ],
      "metadata": {
        "id": "KBD1yzBCfwti"
      },
      "execution_count": 44,
      "outputs": []
    },
    {
      "cell_type": "code",
      "source": [
        "deaths_rows_4"
      ],
      "metadata": {
        "colab": {
          "base_uri": "https://localhost:8080/"
        },
        "id": "A6mo1xt-hp_o",
        "outputId": "53db25f4-ba55-4e27-c0cd-2f3c9bf46c6d"
      },
      "execution_count": 45,
      "outputs": [
        {
          "output_type": "execute_result",
          "data": {
            "text/plain": [
              "[('United States', 6964329, 'TOTAL DEATHS IN 2020'),\n",
              " ('Britain', 2006607, 'TOTAL DEATHS IN 2020'),\n",
              " ('Italy', 1468112, 'TOTAL DEATHS IN 2020'),\n",
              " ('France', 1309358, 'TOTAL DEATHS IN 2020'),\n",
              " ('Mexico', 1065198, 'TOTAL DEATHS IN 2020')]"
            ]
          },
          "metadata": {},
          "execution_count": 45
        }
      ]
    },
    {
      "cell_type": "markdown",
      "source": [
        "## inny sposob rozwiazania zadania 1 RDD"
      ],
      "metadata": {
        "id": "PvJ1gT8oh4zH"
      }
    },
    {
      "cell_type": "code",
      "source": [
        "deaths = sc.textFile('all_weekly_excess_deaths.csv')\n",
        "\n",
        "deaths_no_header = deaths.filter(lambda x: x!='country;region;region_code;start_date;end_date;days;year;week;population;total_deaths;covid_deaths;expected_deaths;excess_deaths;non_covid_deaths;covid_deaths_per_100k;excess_deaths_per_100k;excess_deaths_pct_change')\n",
        "\n",
        "deaths_no_header= deaths_no_header.map(lambda x: x.split(';'))\n",
        "deaths_no_header.take(1)\n",
        "\n",
        "\n",
        "#tworzenieKrotek\n",
        "deaths_no_header = deaths_no_header.filter(lambda x: x[6] == '2020')\n",
        "deaths_no_header = deaths_no_header.map(lambda x: (x[0], x[9].replace(' deaths', '')))\n",
        "#deaths_no_header =deaths_no_header.map(lambda x:(x[0],x[1],'TOTAL DEATHS IN 2020'))\n",
        "\n",
        "deaths_no_header.take(10)"
      ],
      "metadata": {
        "colab": {
          "base_uri": "https://localhost:8080/"
        },
        "id": "Z-OJXCkDh9MN",
        "outputId": "6e036468-11aa-468d-a923-a1f03a47c535"
      },
      "execution_count": 46,
      "outputs": [
        {
          "output_type": "execute_result",
          "data": {
            "text/plain": [
              "[('Australia', '2497'),\n",
              " ('Australia', '2510'),\n",
              " ('Australia', '2501'),\n",
              " ('Australia', '2597'),\n",
              " ('Australia', '2510'),\n",
              " ('Australia', '2530'),\n",
              " ('Australia', '2613'),\n",
              " ('Australia', '2608'),\n",
              " ('Australia', '2678'),\n",
              " ('Australia', '2602')]"
            ]
          },
          "metadata": {},
          "execution_count": 46
        }
      ]
    },
    {
      "cell_type": "code",
      "source": [
        "(deaths_no_header.map(lambda x: (x[0],int(x[1])))              # Konwertuje trzecie pole na liczbę całkowitą\n",
        "    .reduceByKey(lambda x,y:x+y)\n",
        "    .map(lambda x:(x[0],x[1],'TOTAL DEATHS IN 2020'))                 # Redukuje wartości dla każdego klucza sumując je\n",
        "   ).top(5,key=lambda x:x[1])"
      ],
      "metadata": {
        "colab": {
          "base_uri": "https://localhost:8080/"
        },
        "id": "X3OUUb7miDnJ",
        "outputId": "83156d3e-103a-4359-e5b6-1d254057c7b0"
      },
      "execution_count": 47,
      "outputs": [
        {
          "output_type": "execute_result",
          "data": {
            "text/plain": [
              "[('United States', 6964329, 'TOTAL DEATHS IN 2020'),\n",
              " ('Britain', 2006607, 'TOTAL DEATHS IN 2020'),\n",
              " ('Italy', 1468112, 'TOTAL DEATHS IN 2020'),\n",
              " ('France', 1309358, 'TOTAL DEATHS IN 2020'),\n",
              " ('Mexico', 1065198, 'TOTAL DEATHS IN 2020')]"
            ]
          },
          "metadata": {},
          "execution_count": 47
        }
      ]
    },
    {
      "cell_type": "markdown",
      "source": [
        "## zadanie 2 Data Frame"
      ],
      "metadata": {
        "id": "nJNy3s14iM9-"
      }
    },
    {
      "cell_type": "markdown",
      "source": [
        "W jakim tygodniu w każdym z krajów nastąpił największy przyrost liczby zgonów (total_deaths) względem liczby z poprzedniego tygodnia? (Różnica między total_deaths w danym tygodniu a tygodniu poprzedzającym) Wynik posortuj malejąco według różnic i wyświetl top 5 krajów z pokazanymi tygodniami i wartościami tak jak w przykładowym wyniku.\n",
        "\n",
        "Podpowiedź 1: jeżeli największy przyrost względem poprzedniego tygodnia wystąpił kilka razy w danym kraju (w różnych tygodniach był identyczny przyrost) to wyświetl w wyniku wszystkie tygodnie z największym przyrostem względem poprzedniego."
      ],
      "metadata": {
        "id": "muah0oGqiitQ"
      }
    },
    {
      "cell_type": "markdown",
      "source": [
        "![Bez nazwy.png](data:image/png;base64,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)"
      ],
      "metadata": {
        "id": "faLnD9iZirNl"
      }
    },
    {
      "cell_type": "markdown",
      "source": [],
      "metadata": {
        "id": "PTyFfIRkitrq"
      }
    },
    {
      "cell_type": "code",
      "source": [
        "from pyspark.sql.functions import udf\n",
        "from pyspark.sql.types import *\n",
        "import pyspark.sql.functions as f\n",
        "from pyspark.sql.functions import lag\n",
        "import sys\n",
        "from pyspark.sql.window import Window"
      ],
      "metadata": {
        "id": "98ioSyatsrFw"
      },
      "execution_count": 65,
      "outputs": []
    },
    {
      "cell_type": "code",
      "source": [
        "!head -5 all_weekly_excess_deaths.csv"
      ],
      "metadata": {
        "colab": {
          "base_uri": "https://localhost:8080/"
        },
        "id": "KSDAP3o3ia_-",
        "outputId": "ae47b950-fcdb-46b5-8cbc-e4ca1bb63b05"
      },
      "execution_count": 54,
      "outputs": [
        {
          "output_type": "stream",
          "name": "stdout",
          "text": [
            "country;region;region_code;start_date;end_date;days;year;week;population;total_deaths;covid_deaths;expected_deaths;excess_deaths;non_covid_deaths;covid_deaths_per_100k;excess_deaths_per_100k;excess_deaths_pct_change\r\n",
            "Australia;Australia;0;01.01.2020;07.01.2020;7;2020;1;25734100;2497 deaths;0;2463.11165730355;33.8883426964494;2497;0;0.131686527589655;0.0137583461131225\r\n",
            "Australia;Australia;0;08.01.2020;14.01.2020;7;2020;2;25734100;2510 deaths;0;2458.27832397007;51.721676029927;2510;0;0.200984981133698;0.0210397966436924\r\n",
            "Australia;Australia;0;15.01.2020;21.01.2020;7;2020;3;25734100;2501 deaths;0;2436.44499063674;64.5550093632601;2501;0;0.250853961721063;0.0264955743352897\r\n",
            "Australia;Australia;0;22.01.2020;28.01.2020;7;2020;4;25734100;2597 deaths;0;2436.61165730341;160.388342696594;2597;0;0.623252193379967;0.065824335287838\r\n"
          ]
        }
      ]
    },
    {
      "cell_type": "code",
      "source": [
        "df = spark.read.csv('all_weekly_excess_deaths.csv', sep=';', inferSchema=True, header=True)"
      ],
      "metadata": {
        "id": "WkBU5olCiyu5"
      },
      "execution_count": 196,
      "outputs": []
    },
    {
      "cell_type": "code",
      "source": [
        "df.show(3)"
      ],
      "metadata": {
        "colab": {
          "base_uri": "https://localhost:8080/"
        },
        "id": "VDYzQr0yrPUO",
        "outputId": "4bcac9eb-09b6-4482-b5da-0523b04c7ad0"
      },
      "execution_count": 197,
      "outputs": [
        {
          "output_type": "stream",
          "name": "stdout",
          "text": [
            "+---------+---------+-----------+----------+----------+----+----+----+----------+------------+------------+----------------+----------------+----------------+---------------------+----------------------+------------------------+\n",
            "|  country|   region|region_code|start_date|  end_date|days|year|week|population|total_deaths|covid_deaths| expected_deaths|   excess_deaths|non_covid_deaths|covid_deaths_per_100k|excess_deaths_per_100k|excess_deaths_pct_change|\n",
            "+---------+---------+-----------+----------+----------+----+----+----+----------+------------+------------+----------------+----------------+----------------+---------------------+----------------------+------------------------+\n",
            "|Australia|Australia|          0|01.01.2020|07.01.2020|   7|2020|   1|  25734100| 2497 deaths|           0|2463.11165730355|33.8883426964494|          2497.0|                  0.0|     0.131686527589655|      0.0137583461131225|\n",
            "|Australia|Australia|          0|08.01.2020|14.01.2020|   7|2020|   2|  25734100| 2510 deaths|           0|2458.27832397007| 51.721676029927|          2510.0|                  0.0|     0.200984981133698|      0.0210397966436924|\n",
            "|Australia|Australia|          0|15.01.2020|21.01.2020|   7|2020|   3|  25734100| 2501 deaths|           0|2436.44499063674|64.5550093632601|          2501.0|                  0.0|     0.250853961721063|      0.0264955743352897|\n",
            "+---------+---------+-----------+----------+----------+----+----+----+----------+------------+------------+----------------+----------------+----------------+---------------------+----------------------+------------------------+\n",
            "only showing top 3 rows\n",
            "\n"
          ]
        }
      ]
    },
    {
      "cell_type": "code",
      "source": [
        "df2=df.select('country','total_deaths','year','week','start_date','end_date')"
      ],
      "metadata": {
        "id": "yhulA-g-r1mv"
      },
      "execution_count": 198,
      "outputs": []
    },
    {
      "cell_type": "code",
      "source": [
        "df2.show(3)"
      ],
      "metadata": {
        "colab": {
          "base_uri": "https://localhost:8080/"
        },
        "id": "ojlgN3c8sQFB",
        "outputId": "0785aa5d-a1ee-4dca-93ef-94140e502694"
      },
      "execution_count": 199,
      "outputs": [
        {
          "output_type": "stream",
          "name": "stdout",
          "text": [
            "+---------+------------+----+----+----------+----------+\n",
            "|  country|total_deaths|year|week|start_date|  end_date|\n",
            "+---------+------------+----+----+----------+----------+\n",
            "|Australia| 2497 deaths|2020|   1|01.01.2020|07.01.2020|\n",
            "|Australia| 2510 deaths|2020|   2|08.01.2020|14.01.2020|\n",
            "|Australia| 2501 deaths|2020|   3|15.01.2020|21.01.2020|\n",
            "+---------+------------+----+----+----------+----------+\n",
            "only showing top 3 rows\n",
            "\n"
          ]
        }
      ]
    },
    {
      "cell_type": "code",
      "source": [
        "df3 = df2.withColumn(\"total_deaths\", regexp_replace(\"total_deaths\", \"deaths\", \"\").cast(\"int\"))"
      ],
      "metadata": {
        "id": "RO6_7DBM8La1"
      },
      "execution_count": 200,
      "outputs": []
    },
    {
      "cell_type": "code",
      "source": [
        "windowSpec = (Window\n",
        "              .partitionBy(f.col('country'))\n",
        "              .orderBy(f.col('week').desc())\n",
        "              )"
      ],
      "metadata": {
        "id": "nQpHnrgs9fNg"
      },
      "execution_count": 201,
      "outputs": []
    },
    {
      "cell_type": "code",
      "source": [
        "df4=df3.withColumn('prev_week_deaths_value', lag('total_deaths',1).over(windowSpec))"
      ],
      "metadata": {
        "id": "OYlzMz0M8SC6"
      },
      "execution_count": 202,
      "outputs": []
    },
    {
      "cell_type": "code",
      "source": [
        "df5 = df4.withColumn('diff', f.col('total_deaths')-f.col('prev_week_deaths_value'))"
      ],
      "metadata": {
        "id": "0q4-gp4Hsx60"
      },
      "execution_count": 203,
      "outputs": []
    },
    {
      "cell_type": "code",
      "source": [
        "df5.show()"
      ],
      "metadata": {
        "colab": {
          "base_uri": "https://localhost:8080/"
        },
        "id": "PnE9AcKU95--",
        "outputId": "cf0b3c06-16b0-4545-88a1-5271412a2c41"
      },
      "execution_count": 204,
      "outputs": [
        {
          "output_type": "stream",
          "name": "stdout",
          "text": [
            "+---------+------------+----+----+----------+----------+----------------------+----+\n",
            "|  country|total_deaths|year|week|start_date|  end_date|prev_week_deaths_value|diff|\n",
            "+---------+------------+----+----+----------+----------+----------------------+----+\n",
            "|Australia|        2552|2020|  53|30.12.2020|31.12.2020|                  NULL|NULL|\n",
            "|Australia|        2624|2020|  52|23.12.2020|29.12.2020|                  2552|  72|\n",
            "|Australia|        2610|2020|  51|16.12.2020|22.12.2020|                  2624| -14|\n",
            "|Australia|        2609|2020|  50|09.12.2020|15.12.2020|                  2610|  -1|\n",
            "|Australia|        2685|2020|  49|02.12.2020|08.12.2020|                  2609|  76|\n",
            "|Australia|        2545|2020|  48|25.11.2020|01.12.2020|                  2685|-140|\n",
            "|Australia|        2615|2020|  47|18.11.2020|24.11.2020|                  2545|  70|\n",
            "|Australia|        2705|2020|  46|11.11.2020|17.11.2020|                  2615|  90|\n",
            "|Australia|        2659|2020|  45|04.11.2020|10.11.2020|                  2705| -46|\n",
            "|Australia|        2640|2020|  44|28.10.2020|03.11.2020|                  2659| -19|\n",
            "|Australia|        2584|2020|  43|21.10.2020|27.10.2020|                  2640| -56|\n",
            "|Australia|        2620|2020|  42|14.10.2020|20.10.2020|                  2584|  36|\n",
            "|Australia|        2653|2020|  41|07.10.2020|13.10.2020|                  2620|  33|\n",
            "|Australia|        2785|2020|  40|30.09.2020|06.10.2020|                  2653| 132|\n",
            "|Australia|        2778|2020|  39|23.09.2020|29.09.2020|                  2785|  -7|\n",
            "|Australia|        2699|2020|  38|16.09.2020|22.09.2020|                  2778| -79|\n",
            "|Australia|        2817|2020|  37|09.09.2020|15.09.2020|                  2699| 118|\n",
            "|Australia|        2887|2020|  36|02.09.2020|08.09.2020|                  2817|  70|\n",
            "|Australia|        2857|2020|  35|26.08.2020|01.09.2020|                  2887| -30|\n",
            "|Australia|        2875|2020|  34|19.08.2020|25.08.2020|                  2857|  18|\n",
            "+---------+------------+----+----+----------+----------+----------------------+----+\n",
            "only showing top 20 rows\n",
            "\n"
          ]
        }
      ]
    },
    {
      "cell_type": "code",
      "source": [
        "df_deaths_win= df5.orderBy([col('diff').desc()])\n",
        "result = (df_deaths_win\n",
        "          .dropDuplicates([\"country\"])\n",
        "          .orderBy(desc(\"diff\")).limit(5))\n",
        "result.show()"
      ],
      "metadata": {
        "colab": {
          "base_uri": "https://localhost:8080/"
        },
        "id": "VzOvVtDc5vJa",
        "outputId": "57274794-77c1-455d-a36d-b1b2155e6296"
      },
      "execution_count": 205,
      "outputs": [
        {
          "output_type": "stream",
          "name": "stdout",
          "text": [
            "+-------------+------------+----+----+----------+----------+----------------------+-----+\n",
            "|      country|total_deaths|year|week|start_date|  end_date|prev_week_deaths_value| diff|\n",
            "+-------------+------------+----+----+----------+----------+----------------------+-----+\n",
            "|United States|       86388|2020|  53|27.12.2020|02.01.2021|                  4365|82023|\n",
            "|       Mexico|       43652|2021|   3|18.01.2021|24.01.2021|                 16119|27533|\n",
            "|      Britain|       24691|2020|  16|11.04.2020|17.04.2020|                   305|24386|\n",
            "|        Italy|       22572|2020|  13|25.03.2020|31.03.2020|                   390|22182|\n",
            "|        Spain|       19358|2020|  13|25.03.2020|31.03.2020|                   103|19255|\n",
            "+-------------+------------+----+----+----------+----------+----------------------+-----+\n",
            "\n"
          ]
        }
      ]
    },
    {
      "cell_type": "markdown",
      "source": [
        "## inny sposob rozwiazania zadania 2 Data frame"
      ],
      "metadata": {
        "id": "ZKLnIMPR605z"
      }
    },
    {
      "cell_type": "code",
      "source": [
        "from pyspark.sql.functions import *\n",
        "import sys\n",
        "from pyspark.sql.window import Window\n",
        "from pyspark.sql.functions import lag"
      ],
      "metadata": {
        "id": "rogYpVJ869aa"
      },
      "execution_count": 153,
      "outputs": []
    },
    {
      "cell_type": "code",
      "source": [
        "deaths_zad2=spark.read.format('csv').option(\"header\", True).option(\"delimiter\", \";\").load('all_weekly_excess_deaths.csv')\n",
        "\n",
        "df_deaths = deaths_zad2.select(\"country\", \"total_deaths\", 'year', 'week', 'start_date', 'end_date')\n",
        "\n",
        "\n",
        "#Usuwanie zbędnych słów i rzutowanie na Int\n",
        "\n",
        "df_deaths = df_deaths.withColumn(\"total_deaths\", regexp_replace(\"total_deaths\", \"deaths\", \"\").cast(\"int\"))\n",
        "\n",
        "\n",
        "\n",
        "\n",
        "\n",
        "\n",
        "df_deaths_win =  df_deaths.withColumn('prev_week_deaths_calue', lag('total_deaths',1).over(windowSpec))\n",
        "\n",
        "df_deaths_win = df_deaths_win.withColumn('diff', f.col('total_deaths')-f.col('prev_week_deaths_calue'))\n",
        "\n",
        "df_deaths_win=df_deaths_win .orderBy([col('diff').desc()])\n",
        "result = (df_deaths_win\n",
        "          .dropDuplicates([\"country\"])\n",
        "          .orderBy(desc(\"diff\")).limit(5))\n",
        "result.show()"
      ],
      "metadata": {
        "colab": {
          "base_uri": "https://localhost:8080/"
        },
        "id": "-J1OD4EZ65Dd",
        "outputId": "a317935e-3977-4b79-c922-55a8a3bffb54"
      },
      "execution_count": 154,
      "outputs": [
        {
          "output_type": "stream",
          "name": "stdout",
          "text": [
            "+-------------+------------+----+----+----------+----------+----------------------+-----+\n",
            "|      country|total_deaths|year|week|start_date|  end_date|prev_week_deaths_calue| diff|\n",
            "+-------------+------------+----+----+----------+----------+----------------------+-----+\n",
            "|United States|       86388|2020|  53|27.12.2020|02.01.2021|                  4365|82023|\n",
            "|       Mexico|       43652|2021|   3|18.01.2021|24.01.2021|                 16119|27533|\n",
            "|      Britain|       24691|2020|  16|11.04.2020|17.04.2020|                   305|24386|\n",
            "|        Italy|       22572|2020|  13|25.03.2020|31.03.2020|                   390|22182|\n",
            "|        Spain|       19358|2020|  13|25.03.2020|31.03.2020|                   103|19255|\n",
            "+-------------+------------+----+----+----------+----------+----------------------+-----+\n",
            "\n"
          ]
        }
      ]
    }
  ],
  "metadata": {
    "colab": {
      "provenance": [],
      "collapsed_sections": [
        "CQCXxzEwUG8s"
      ],
      "toc_visible": true
    },
    "kernelspec": {
      "display_name": "Python 3",
      "name": "python3"
    }
  },
  "nbformat": 4,
  "nbformat_minor": 0
}